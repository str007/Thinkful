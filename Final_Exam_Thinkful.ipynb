{
 "cells": [
  {
   "cell_type": "markdown",
   "metadata": {},
   "source": [
    "## Final Take Home Challenge - Thinkful Bootcamp"
   ]
  },
  {
   "cell_type": "code",
   "execution_count": 118,
   "metadata": {},
   "outputs": [],
   "source": [
    "#Import necessary modules\n",
    "\n",
    "import requests\n",
    "from bs4 import BeautifulSoup\n",
    "import urllib.request\n",
    "import pandas as pd\n",
    "import numpy as np\n",
    "import matplotlib.pyplot as plt\n",
    "import seaborn as sns\n",
    "import scipy.stats as stats\n",
    "import statistics as stat\n",
    "import sklearn\n",
    "from sklearn.preprocessing import LabelEncoder\n",
    "from sklearn.svm import SVR\n",
    "from sklearn.model_selection import cross_val_score\n",
    "from sklearn import neighbors\n",
    "from sklearn import ensemble\n",
    "from sklearn import linear_model\n",
    "from sklearn.linear_model import LogisticRegression\n",
    "from sklearn.svm import SVR\n",
    "from sklearn.svm import SVC\n",
    "from sklearn.neighbors import KNeighborsClassifier\n",
    "from sklearn.naive_bayes import BernoulliNB\n",
    "from sklearn import preprocessing\n",
    "from sklearn.metrics import confusion_matrix\n",
    "from sklearn.feature_selection import RFE\n",
    "from sklearn.decomposition import PCA\n",
    "from sklearn.preprocessing import normalize\n",
    "from sklearn.cluster import KMeans\n",
    "from sklearn.cluster import MeanShift, estimate_bandwidth\n",
    "%matplotlib inline"
   ]
  },
  {
   "cell_type": "markdown",
   "metadata": {},
   "source": [
    "## Import Data Source & Explore Characteristics"
   ]
  },
  {
   "cell_type": "code",
   "execution_count": 119,
   "metadata": {},
   "outputs": [],
   "source": [
    "#Read in from CSV\n",
    "purchases = pd.read_csv('https://raw.githubusercontent.com/Thinkful-Ed/data-201-resources/master/customers_data.csv')"
   ]
  },
  {
   "cell_type": "code",
   "execution_count": 120,
   "metadata": {},
   "outputs": [
    {
     "data": {
      "text/html": [
       "<div>\n",
       "<style scoped>\n",
       "    .dataframe tbody tr th:only-of-type {\n",
       "        vertical-align: middle;\n",
       "    }\n",
       "\n",
       "    .dataframe tbody tr th {\n",
       "        vertical-align: top;\n",
       "    }\n",
       "\n",
       "    .dataframe thead th {\n",
       "        text-align: right;\n",
       "    }\n",
       "</style>\n",
       "<table border=\"1\" class=\"dataframe\">\n",
       "  <thead>\n",
       "    <tr style=\"text-align: right;\">\n",
       "      <th></th>\n",
       "      <th>Unnamed: 0</th>\n",
       "      <th>purch_amt</th>\n",
       "      <th>gender</th>\n",
       "      <th>card_on_file</th>\n",
       "      <th>age</th>\n",
       "      <th>days_since_last_purch</th>\n",
       "      <th>loyalty</th>\n",
       "    </tr>\n",
       "  </thead>\n",
       "  <tbody>\n",
       "    <tr>\n",
       "      <th>0</th>\n",
       "      <td>0</td>\n",
       "      <td>19.58</td>\n",
       "      <td>male</td>\n",
       "      <td>no</td>\n",
       "      <td>31.0</td>\n",
       "      <td>35.0</td>\n",
       "      <td>False</td>\n",
       "    </tr>\n",
       "    <tr>\n",
       "      <th>1</th>\n",
       "      <td>1</td>\n",
       "      <td>65.16</td>\n",
       "      <td>male</td>\n",
       "      <td>yes</td>\n",
       "      <td>23.0</td>\n",
       "      <td>61.0</td>\n",
       "      <td>False</td>\n",
       "    </tr>\n",
       "    <tr>\n",
       "      <th>2</th>\n",
       "      <td>2</td>\n",
       "      <td>40.60</td>\n",
       "      <td>female</td>\n",
       "      <td>no</td>\n",
       "      <td>36.0</td>\n",
       "      <td>49.0</td>\n",
       "      <td>False</td>\n",
       "    </tr>\n",
       "    <tr>\n",
       "      <th>3</th>\n",
       "      <td>3</td>\n",
       "      <td>38.01</td>\n",
       "      <td>male</td>\n",
       "      <td>yes</td>\n",
       "      <td>47.0</td>\n",
       "      <td>57.0</td>\n",
       "      <td>False</td>\n",
       "    </tr>\n",
       "    <tr>\n",
       "      <th>4</th>\n",
       "      <td>4</td>\n",
       "      <td>22.32</td>\n",
       "      <td>female</td>\n",
       "      <td>yes</td>\n",
       "      <td>5.0</td>\n",
       "      <td>39.0</td>\n",
       "      <td>False</td>\n",
       "    </tr>\n",
       "    <tr>\n",
       "      <th>5</th>\n",
       "      <td>5</td>\n",
       "      <td>39.66</td>\n",
       "      <td>female</td>\n",
       "      <td>no</td>\n",
       "      <td>6.0</td>\n",
       "      <td>79.0</td>\n",
       "      <td>False</td>\n",
       "    </tr>\n",
       "    <tr>\n",
       "      <th>6</th>\n",
       "      <td>6</td>\n",
       "      <td>43.96</td>\n",
       "      <td>male</td>\n",
       "      <td>yes</td>\n",
       "      <td>36.0</td>\n",
       "      <td>64.0</td>\n",
       "      <td>False</td>\n",
       "    </tr>\n",
       "    <tr>\n",
       "      <th>7</th>\n",
       "      <td>7</td>\n",
       "      <td>6.09</td>\n",
       "      <td>female</td>\n",
       "      <td>yes</td>\n",
       "      <td>36.0</td>\n",
       "      <td>67.0</td>\n",
       "      <td>False</td>\n",
       "    </tr>\n",
       "    <tr>\n",
       "      <th>8</th>\n",
       "      <td>8</td>\n",
       "      <td>25.89</td>\n",
       "      <td>female</td>\n",
       "      <td>no</td>\n",
       "      <td>28.0</td>\n",
       "      <td>53.0</td>\n",
       "      <td>False</td>\n",
       "    </tr>\n",
       "    <tr>\n",
       "      <th>9</th>\n",
       "      <td>9</td>\n",
       "      <td>93.63</td>\n",
       "      <td>female</td>\n",
       "      <td>no</td>\n",
       "      <td>40.0</td>\n",
       "      <td>47.0</td>\n",
       "      <td>True</td>\n",
       "    </tr>\n",
       "  </tbody>\n",
       "</table>\n",
       "</div>"
      ],
      "text/plain": [
       "   Unnamed: 0  purch_amt  gender card_on_file   age  days_since_last_purch  \\\n",
       "0           0      19.58    male           no  31.0                   35.0   \n",
       "1           1      65.16    male          yes  23.0                   61.0   \n",
       "2           2      40.60  female           no  36.0                   49.0   \n",
       "3           3      38.01    male          yes  47.0                   57.0   \n",
       "4           4      22.32  female          yes   5.0                   39.0   \n",
       "5           5      39.66  female           no   6.0                   79.0   \n",
       "6           6      43.96    male          yes  36.0                   64.0   \n",
       "7           7       6.09  female          yes  36.0                   67.0   \n",
       "8           8      25.89  female           no  28.0                   53.0   \n",
       "9           9      93.63  female           no  40.0                   47.0   \n",
       "\n",
       "   loyalty  \n",
       "0    False  \n",
       "1    False  \n",
       "2    False  \n",
       "3    False  \n",
       "4    False  \n",
       "5    False  \n",
       "6    False  \n",
       "7    False  \n",
       "8    False  \n",
       "9     True  "
      ]
     },
     "execution_count": 120,
     "metadata": {},
     "output_type": "execute_result"
    }
   ],
   "source": [
    "#First glimpse at the dataset\n",
    "purchases.head(10)"
   ]
  },
  {
   "cell_type": "code",
   "execution_count": 121,
   "metadata": {},
   "outputs": [
    {
     "name": "stdout",
     "output_type": "stream",
     "text": [
      "Dataset contains 120000 rows, across 7 columns\n"
     ]
    }
   ],
   "source": [
    "#Take a look at the shape of our dataset\n",
    "print('Dataset contains {} rows, across {} columns'.format(purchases.shape[0], purchases.shape[1]))"
   ]
  },
  {
   "cell_type": "code",
   "execution_count": 122,
   "metadata": {},
   "outputs": [
    {
     "data": {
      "text/html": [
       "<div>\n",
       "<style scoped>\n",
       "    .dataframe tbody tr th:only-of-type {\n",
       "        vertical-align: middle;\n",
       "    }\n",
       "\n",
       "    .dataframe tbody tr th {\n",
       "        vertical-align: top;\n",
       "    }\n",
       "\n",
       "    .dataframe thead th {\n",
       "        text-align: right;\n",
       "    }\n",
       "</style>\n",
       "<table border=\"1\" class=\"dataframe\">\n",
       "  <thead>\n",
       "    <tr style=\"text-align: right;\">\n",
       "      <th></th>\n",
       "      <th>Unnamed: 0</th>\n",
       "      <th>purch_amt</th>\n",
       "      <th>age</th>\n",
       "      <th>days_since_last_purch</th>\n",
       "    </tr>\n",
       "  </thead>\n",
       "  <tbody>\n",
       "    <tr>\n",
       "      <th>count</th>\n",
       "      <td>120000.000000</td>\n",
       "      <td>120000.000000</td>\n",
       "      <td>120000.000000</td>\n",
       "      <td>120000.000000</td>\n",
       "    </tr>\n",
       "    <tr>\n",
       "      <th>mean</th>\n",
       "      <td>59999.500000</td>\n",
       "      <td>44.036234</td>\n",
       "      <td>25.803008</td>\n",
       "      <td>56.605908</td>\n",
       "    </tr>\n",
       "    <tr>\n",
       "      <th>std</th>\n",
       "      <td>34641.160489</td>\n",
       "      <td>20.473148</td>\n",
       "      <td>10.153072</td>\n",
       "      <td>16.422187</td>\n",
       "    </tr>\n",
       "    <tr>\n",
       "      <th>min</th>\n",
       "      <td>0.000000</td>\n",
       "      <td>-43.950000</td>\n",
       "      <td>-22.000000</td>\n",
       "      <td>-9.000000</td>\n",
       "    </tr>\n",
       "    <tr>\n",
       "      <th>25%</th>\n",
       "      <td>29999.750000</td>\n",
       "      <td>30.210000</td>\n",
       "      <td>19.000000</td>\n",
       "      <td>45.000000</td>\n",
       "    </tr>\n",
       "    <tr>\n",
       "      <th>50%</th>\n",
       "      <td>59999.500000</td>\n",
       "      <td>43.970000</td>\n",
       "      <td>26.000000</td>\n",
       "      <td>57.000000</td>\n",
       "    </tr>\n",
       "    <tr>\n",
       "      <th>75%</th>\n",
       "      <td>89999.250000</td>\n",
       "      <td>57.830000</td>\n",
       "      <td>33.000000</td>\n",
       "      <td>68.000000</td>\n",
       "    </tr>\n",
       "    <tr>\n",
       "      <th>max</th>\n",
       "      <td>119999.000000</td>\n",
       "      <td>142.200000</td>\n",
       "      <td>71.000000</td>\n",
       "      <td>125.000000</td>\n",
       "    </tr>\n",
       "  </tbody>\n",
       "</table>\n",
       "</div>"
      ],
      "text/plain": [
       "          Unnamed: 0      purch_amt            age  days_since_last_purch\n",
       "count  120000.000000  120000.000000  120000.000000          120000.000000\n",
       "mean    59999.500000      44.036234      25.803008              56.605908\n",
       "std     34641.160489      20.473148      10.153072              16.422187\n",
       "min         0.000000     -43.950000     -22.000000              -9.000000\n",
       "25%     29999.750000      30.210000      19.000000              45.000000\n",
       "50%     59999.500000      43.970000      26.000000              57.000000\n",
       "75%     89999.250000      57.830000      33.000000              68.000000\n",
       "max    119999.000000     142.200000      71.000000             125.000000"
      ]
     },
     "execution_count": 122,
     "metadata": {},
     "output_type": "execute_result"
    }
   ],
   "source": [
    "#Describe our numeric-based columns\n",
    "purchases.describe()"
   ]
  },
  {
   "cell_type": "code",
   "execution_count": 123,
   "metadata": {},
   "outputs": [
    {
     "data": {
      "text/plain": [
       "Unnamed: 0                 int64\n",
       "purch_amt                float64\n",
       "gender                    object\n",
       "card_on_file              object\n",
       "age                      float64\n",
       "days_since_last_purch    float64\n",
       "loyalty                     bool\n",
       "dtype: object"
      ]
     },
     "execution_count": 123,
     "metadata": {},
     "output_type": "execute_result"
    }
   ],
   "source": [
    "#Understand the current datatypes of our dataset\n",
    "purchases.dtypes"
   ]
  },
  {
   "cell_type": "markdown",
   "metadata": {},
   "source": [
    "## Exploratory Analysis"
   ]
  },
  {
   "cell_type": "code",
   "execution_count": 124,
   "metadata": {},
   "outputs": [
    {
     "data": {
      "image/png": "[encoded data removed]",
      "text/plain": [
       "<matplotlib.figure.Figure at 0x1a12c85390>"
      ]
     },
     "metadata": {},
     "output_type": "display_data"
    },
    {
     "data": {
      "image/png": "[encoded data removed]",
      "text/plain": [
       "<matplotlib.figure.Figure at 0x1a12c94080>"
      ]
     },
     "metadata": {},
     "output_type": "display_data"
    },
    {
     "data": {
      "image/png": "[encoded data removed]",
      "text/plain": [
       "<matplotlib.figure.Figure at 0x1a12edbba8>"
      ]
     },
     "metadata": {},
     "output_type": "display_data"
    }
   ],
   "source": [
    "# Plot histograms for all continuous data\n",
    "for col in purchases.dtypes[purchases.dtypes == 'float64'].index:\n",
    "    purchases[col].hist()\n",
    "    plt.title(col + \" Distribution\")\n",
    "    plt.xlabel(col + \" Values\")\n",
    "    plt.ylabel(\"Count\")\n",
    "    plt.show()"
   ]
  },
  {
   "cell_type": "code",
   "execution_count": 125,
   "metadata": {},
   "outputs": [
    {
     "data": {
      "image/png": "[encoded data removed]",
      "text/plain": [
       "<matplotlib.figure.Figure at 0x1a12c85208>"
      ]
     },
     "metadata": {},
     "output_type": "display_data"
    }
   ],
   "source": [
    "#Age vs Purchase Amount\n",
    "sns.regplot(x=purchases['age'], y=purchases['purch_amt'])\n",
    "plt.show()"
   ]
  },
  {
   "cell_type": "code",
   "execution_count": 126,
   "metadata": {},
   "outputs": [
    {
     "data": {
      "image/png": "[encoded data removed]",
      "text/plain": [
       "<matplotlib.figure.Figure at 0x1a12c9d860>"
      ]
     },
     "metadata": {},
     "output_type": "display_data"
    }
   ],
   "source": [
    "#Age vs. Days Since Last Purchase\n",
    "sns.regplot(x=purchases['age'], y=purchases['days_since_last_purch'])\n",
    "plt.show()"
   ]
  },
  {
   "cell_type": "code",
   "execution_count": 127,
   "metadata": {},
   "outputs": [
    {
     "data": {
      "image/png": "[encoded data removed]",
      "text/plain": [
       "<matplotlib.figure.Figure at 0x1a12e979b0>"
      ]
     },
     "metadata": {},
     "output_type": "display_data"
    }
   ],
   "source": [
    "# Days Since Last Purchase - Loyalty, No Loyalty\n",
    "\n",
    "plt.figure(figsize=[8,5])\n",
    "ax = sns.boxplot(x='loyalty',y='days_since_last_purch', data=purchases, palette='pastel')  \n",
    "plt.title('Days Since Last Purchase by Loyalty')\n",
    "sns.despine(offset=10, trim=True)\n",
    "ax.set(xlabel='Loyalty', ylabel='Days Since Last Purchase')\n",
    "plt.show()"
   ]
  },
  {
   "cell_type": "code",
   "execution_count": 128,
   "metadata": {},
   "outputs": [
    {
     "data": {
      "image/png": "[encoded data removed]",
      "text/plain": [
       "<matplotlib.figure.Figure at 0x1a1117d1d0>"
      ]
     },
     "metadata": {},
     "output_type": "display_data"
    }
   ],
   "source": [
    "#Purchase Amount - Loyalty, No Loyalty\n",
    "\n",
    "plt.figure(figsize=[8,5])\n",
    "ax = sns.boxplot(x='loyalty',y='purch_amt', data=purchases, palette='pastel')  \n",
    "plt.title('Purchase Amount by Loyalty')\n",
    "sns.despine(offset=10, trim=True)\n",
    "ax.set(xlabel='Loyalty', ylabel='Purchase Amount')\n",
    "plt.show()"
   ]
  },
  {
   "cell_type": "code",
   "execution_count": 129,
   "metadata": {},
   "outputs": [
    {
     "data": {
      "image/png": "[encoded data removed]",
      "text/plain": [
       "<matplotlib.figure.Figure at 0x1a1d77dd68>"
      ]
     },
     "metadata": {},
     "output_type": "display_data"
    }
   ],
   "source": [
    "sns.countplot(x='loyalty', hue='card_on_file', data=purchases)\n",
    "plt.show()"
   ]
  },
  {
   "cell_type": "code",
   "execution_count": 130,
   "metadata": {},
   "outputs": [
    {
     "data": {
      "image/png": "[encoded data removed]",
      "text/plain": [
       "<matplotlib.figure.Figure at 0x1a11e752e8>"
      ]
     },
     "metadata": {},
     "output_type": "display_data"
    }
   ],
   "source": [
    "#For Men/Women, Average Purchase Amount, Days Since Last Purchase, and Age\n",
    "\n",
    "summary_gender = purchases[['gender', 'age', 'purch_amt', 'days_since_last_purch']].groupby('gender').mean()\n",
    "\n",
    "#Set plot preferences and show plot\n",
    "summary_gender.plot.bar(figsize=(30, 10))\n",
    "plt.legend(fontsize=20)\n",
    "plt.title('Average Statistics by Gender', fontsize=33)\n",
    "plt.xlabel('Gender', fontsize=25)\n",
    "plt.ylabel('Average', fontsize=25)\n",
    "plt.xticks(fontsize=22, rotation='horizontal')\n",
    "plt.yticks(fontsize=22)\n",
    "plt.show()"
   ]
  },
  {
   "cell_type": "code",
   "execution_count": 131,
   "metadata": {},
   "outputs": [
    {
     "data": {
      "image/png": "[encoded data removed]",
      "text/plain": [
       "<matplotlib.figure.Figure at 0x1a12eb97f0>"
      ]
     },
     "metadata": {},
     "output_type": "display_data"
    }
   ],
   "source": [
    "#For Loyalty/No Loyalty, Average Purchase Amount, Days Since Last Purchase, and Age\n",
    "\n",
    "summary_loyalty = purchases[['loyalty', 'age', 'purch_amt', 'days_since_last_purch']].groupby('loyalty').mean()\n",
    "\n",
    "#Set plot preferences and show plot\n",
    "summary_loyalty.plot.bar(figsize=(30, 10))\n",
    "plt.legend(fontsize=20)\n",
    "plt.title('Average Statistics by Loyalty', fontsize=33)\n",
    "plt.xlabel('Loyalty', fontsize=25)\n",
    "plt.ylabel('Average', fontsize=25)\n",
    "plt.xticks(fontsize=22, rotation='horizontal')\n",
    "plt.yticks(fontsize=22)\n",
    "plt.show()"
   ]
  },
  {
   "cell_type": "markdown",
   "metadata": {},
   "source": [
    "## Data Cleaning"
   ]
  },
  {
   "cell_type": "code",
   "execution_count": 132,
   "metadata": {},
   "outputs": [
    {
     "name": "stdout",
     "output_type": "stream",
     "text": [
      "Unnamed: 0               0\n",
      "purch_amt                0\n",
      "gender                   0\n",
      "card_on_file             0\n",
      "age                      0\n",
      "days_since_last_purch    0\n",
      "loyalty                  0\n",
      "dtype: int64\n"
     ]
    }
   ],
   "source": [
    "#Find Missing Data by Column\n",
    "missing_values_count = purchases.isnull().sum()\n",
    "print(missing_values_count)"
   ]
  },
  {
   "cell_type": "code",
   "execution_count": 133,
   "metadata": {},
   "outputs": [],
   "source": [
    "#Remove ID column, not necessary\n",
    "purchases = purchases.drop(purchases.columns[0], axis=1)"
   ]
  },
  {
   "cell_type": "code",
   "execution_count": 134,
   "metadata": {},
   "outputs": [
    {
     "name": "stdout",
     "output_type": "stream",
     "text": [
      "For days since last purchase, remove data less than 23.0 and greater than 90.0\n",
      "For age, remove data less than 5.0 and greater than 47.0\n",
      "For purchase amount, remove data less than 2.19 and greater than 86.16\n"
     ]
    }
   ],
   "source": [
    "#Remove negative numbers from columns - age, purchase amount, days since last purchase\n",
    "days_since_lower = round(purchases.days_since_last_purch.quantile(0.02), 2)\n",
    "days_since_upper = round(purchases.days_since_last_purch.quantile(0.98), 2)\n",
    "\n",
    "age_lower = round(purchases.age.quantile(0.02), 2)\n",
    "age_upper = round(purchases.age.quantile(0.98), 2)\n",
    "\n",
    "purch_amt_lower = round(purchases.purch_amt.quantile(0.02), 2)\n",
    "purch_amt_upper = round(purchases.purch_amt.quantile(0.98), 2)\n",
    "\n",
    "print('For days since last purchase, remove data less than {} and greater than {}'.format(days_since_lower, days_since_upper))\n",
    "print('For age, remove data less than {} and greater than {}'.format(age_lower, age_upper))\n",
    "print('For purchase amount, remove data less than {} and greater than {}'.format(purch_amt_lower, purch_amt_upper))"
   ]
  },
  {
   "cell_type": "code",
   "execution_count": 135,
   "metadata": {},
   "outputs": [],
   "source": [
    "#Make changes to days since last purch\n",
    "purchases = purchases[purchases['days_since_last_purch'] >= 23.0]\n",
    "purchases = purchases[purchases['days_since_last_purch'] <= 90.0]"
   ]
  },
  {
   "cell_type": "code",
   "execution_count": 136,
   "metadata": {},
   "outputs": [],
   "source": [
    "#Make changes to age\n",
    "purchases = purchases[purchases['age'] >= 5.0]"
   ]
  },
  {
   "cell_type": "code",
   "execution_count": 137,
   "metadata": {},
   "outputs": [],
   "source": [
    "#Make changes to purchase amount\n",
    "purchases = purchases[purchases['purch_amt'] >= 2.19]"
   ]
  },
  {
   "cell_type": "markdown",
   "metadata": {},
   "source": [
    "## Feature Engineering"
   ]
  },
  {
   "cell_type": "code",
   "execution_count": 138,
   "metadata": {},
   "outputs": [
    {
     "data": {
      "text/html": [
       "<div>\n",
       "<style scoped>\n",
       "    .dataframe tbody tr th:only-of-type {\n",
       "        vertical-align: middle;\n",
       "    }\n",
       "\n",
       "    .dataframe tbody tr th {\n",
       "        vertical-align: top;\n",
       "    }\n",
       "\n",
       "    .dataframe thead th {\n",
       "        text-align: right;\n",
       "    }\n",
       "</style>\n",
       "<table border=\"1\" class=\"dataframe\">\n",
       "  <thead>\n",
       "    <tr style=\"text-align: right;\">\n",
       "      <th></th>\n",
       "      <th>purch_amt</th>\n",
       "      <th>age</th>\n",
       "      <th>days_since_last_purch</th>\n",
       "    </tr>\n",
       "  </thead>\n",
       "  <tbody>\n",
       "    <tr>\n",
       "      <th>count</th>\n",
       "      <td>111380.000000</td>\n",
       "      <td>111380.000000</td>\n",
       "      <td>111380.000000</td>\n",
       "    </tr>\n",
       "    <tr>\n",
       "      <th>mean</th>\n",
       "      <td>44.968928</td>\n",
       "      <td>26.211268</td>\n",
       "      <td>56.608754</td>\n",
       "    </tr>\n",
       "    <tr>\n",
       "      <th>std</th>\n",
       "      <td>19.384198</td>\n",
       "      <td>9.653660</td>\n",
       "      <td>14.870534</td>\n",
       "    </tr>\n",
       "    <tr>\n",
       "      <th>min</th>\n",
       "      <td>2.190000</td>\n",
       "      <td>5.000000</td>\n",
       "      <td>23.000000</td>\n",
       "    </tr>\n",
       "    <tr>\n",
       "      <th>25%</th>\n",
       "      <td>31.117500</td>\n",
       "      <td>19.000000</td>\n",
       "      <td>46.000000</td>\n",
       "    </tr>\n",
       "    <tr>\n",
       "      <th>50%</th>\n",
       "      <td>44.430000</td>\n",
       "      <td>26.000000</td>\n",
       "      <td>57.000000</td>\n",
       "    </tr>\n",
       "    <tr>\n",
       "      <th>75%</th>\n",
       "      <td>58.060000</td>\n",
       "      <td>33.000000</td>\n",
       "      <td>67.000000</td>\n",
       "    </tr>\n",
       "    <tr>\n",
       "      <th>max</th>\n",
       "      <td>142.200000</td>\n",
       "      <td>71.000000</td>\n",
       "      <td>90.000000</td>\n",
       "    </tr>\n",
       "  </tbody>\n",
       "</table>\n",
       "</div>"
      ],
      "text/plain": [
       "           purch_amt            age  days_since_last_purch\n",
       "count  111380.000000  111380.000000          111380.000000\n",
       "mean       44.968928      26.211268              56.608754\n",
       "std        19.384198       9.653660              14.870534\n",
       "min         2.190000       5.000000              23.000000\n",
       "25%        31.117500      19.000000              46.000000\n",
       "50%        44.430000      26.000000              57.000000\n",
       "75%        58.060000      33.000000              67.000000\n",
       "max       142.200000      71.000000              90.000000"
      ]
     },
     "execution_count": 138,
     "metadata": {},
     "output_type": "execute_result"
    }
   ],
   "source": [
    "#Quick look at our numeric features after cleaning\n",
    "purchases.describe()"
   ]
  },
  {
   "cell_type": "code",
   "execution_count": 139,
   "metadata": {},
   "outputs": [],
   "source": [
    "#Add new features (recent purchase, large purchase, purch_amt squared)\n",
    "purchases['recent_purchase'] = np.where((purchases['days_since_last_purch'] < 57.0), 1, 0)\n",
    "purchases['large_purchase'] = np.where((purchases['purch_amt'] > 44.43), 1, 0)\n",
    "purchases['purch_amt_squared'] = purchases['purch_amt']**2"
   ]
  },
  {
   "cell_type": "code",
   "execution_count": 140,
   "metadata": {},
   "outputs": [
    {
     "data": {
      "text/html": [
       "<div>\n",
       "<style scoped>\n",
       "    .dataframe tbody tr th:only-of-type {\n",
       "        vertical-align: middle;\n",
       "    }\n",
       "\n",
       "    .dataframe tbody tr th {\n",
       "        vertical-align: top;\n",
       "    }\n",
       "\n",
       "    .dataframe thead th {\n",
       "        text-align: right;\n",
       "    }\n",
       "</style>\n",
       "<table border=\"1\" class=\"dataframe\">\n",
       "  <thead>\n",
       "    <tr style=\"text-align: right;\">\n",
       "      <th></th>\n",
       "      <th>purch_amt</th>\n",
       "      <th>gender</th>\n",
       "      <th>card_on_file</th>\n",
       "      <th>age</th>\n",
       "      <th>days_since_last_purch</th>\n",
       "      <th>loyalty</th>\n",
       "      <th>recent_purchase</th>\n",
       "      <th>large_purchase</th>\n",
       "      <th>purch_amt_squared</th>\n",
       "    </tr>\n",
       "  </thead>\n",
       "  <tbody>\n",
       "    <tr>\n",
       "      <th>0</th>\n",
       "      <td>19.58</td>\n",
       "      <td>male</td>\n",
       "      <td>no</td>\n",
       "      <td>31.0</td>\n",
       "      <td>35.0</td>\n",
       "      <td>False</td>\n",
       "      <td>1</td>\n",
       "      <td>0</td>\n",
       "      <td>383.3764</td>\n",
       "    </tr>\n",
       "    <tr>\n",
       "      <th>1</th>\n",
       "      <td>65.16</td>\n",
       "      <td>male</td>\n",
       "      <td>yes</td>\n",
       "      <td>23.0</td>\n",
       "      <td>61.0</td>\n",
       "      <td>False</td>\n",
       "      <td>0</td>\n",
       "      <td>1</td>\n",
       "      <td>4245.8256</td>\n",
       "    </tr>\n",
       "    <tr>\n",
       "      <th>2</th>\n",
       "      <td>40.60</td>\n",
       "      <td>female</td>\n",
       "      <td>no</td>\n",
       "      <td>36.0</td>\n",
       "      <td>49.0</td>\n",
       "      <td>False</td>\n",
       "      <td>1</td>\n",
       "      <td>0</td>\n",
       "      <td>1648.3600</td>\n",
       "    </tr>\n",
       "    <tr>\n",
       "      <th>3</th>\n",
       "      <td>38.01</td>\n",
       "      <td>male</td>\n",
       "      <td>yes</td>\n",
       "      <td>47.0</td>\n",
       "      <td>57.0</td>\n",
       "      <td>False</td>\n",
       "      <td>0</td>\n",
       "      <td>0</td>\n",
       "      <td>1444.7601</td>\n",
       "    </tr>\n",
       "    <tr>\n",
       "      <th>4</th>\n",
       "      <td>22.32</td>\n",
       "      <td>female</td>\n",
       "      <td>yes</td>\n",
       "      <td>5.0</td>\n",
       "      <td>39.0</td>\n",
       "      <td>False</td>\n",
       "      <td>1</td>\n",
       "      <td>0</td>\n",
       "      <td>498.1824</td>\n",
       "    </tr>\n",
       "    <tr>\n",
       "      <th>5</th>\n",
       "      <td>39.66</td>\n",
       "      <td>female</td>\n",
       "      <td>no</td>\n",
       "      <td>6.0</td>\n",
       "      <td>79.0</td>\n",
       "      <td>False</td>\n",
       "      <td>0</td>\n",
       "      <td>0</td>\n",
       "      <td>1572.9156</td>\n",
       "    </tr>\n",
       "    <tr>\n",
       "      <th>6</th>\n",
       "      <td>43.96</td>\n",
       "      <td>male</td>\n",
       "      <td>yes</td>\n",
       "      <td>36.0</td>\n",
       "      <td>64.0</td>\n",
       "      <td>False</td>\n",
       "      <td>0</td>\n",
       "      <td>0</td>\n",
       "      <td>1932.4816</td>\n",
       "    </tr>\n",
       "    <tr>\n",
       "      <th>7</th>\n",
       "      <td>6.09</td>\n",
       "      <td>female</td>\n",
       "      <td>yes</td>\n",
       "      <td>36.0</td>\n",
       "      <td>67.0</td>\n",
       "      <td>False</td>\n",
       "      <td>0</td>\n",
       "      <td>0</td>\n",
       "      <td>37.0881</td>\n",
       "    </tr>\n",
       "    <tr>\n",
       "      <th>8</th>\n",
       "      <td>25.89</td>\n",
       "      <td>female</td>\n",
       "      <td>no</td>\n",
       "      <td>28.0</td>\n",
       "      <td>53.0</td>\n",
       "      <td>False</td>\n",
       "      <td>1</td>\n",
       "      <td>0</td>\n",
       "      <td>670.2921</td>\n",
       "    </tr>\n",
       "    <tr>\n",
       "      <th>9</th>\n",
       "      <td>93.63</td>\n",
       "      <td>female</td>\n",
       "      <td>no</td>\n",
       "      <td>40.0</td>\n",
       "      <td>47.0</td>\n",
       "      <td>True</td>\n",
       "      <td>1</td>\n",
       "      <td>1</td>\n",
       "      <td>8766.5769</td>\n",
       "    </tr>\n",
       "  </tbody>\n",
       "</table>\n",
       "</div>"
      ],
      "text/plain": [
       "   purch_amt  gender card_on_file   age  days_since_last_purch  loyalty  \\\n",
       "0      19.58    male           no  31.0                   35.0    False   \n",
       "1      65.16    male          yes  23.0                   61.0    False   \n",
       "2      40.60  female           no  36.0                   49.0    False   \n",
       "3      38.01    male          yes  47.0                   57.0    False   \n",
       "4      22.32  female          yes   5.0                   39.0    False   \n",
       "5      39.66  female           no   6.0                   79.0    False   \n",
       "6      43.96    male          yes  36.0                   64.0    False   \n",
       "7       6.09  female          yes  36.0                   67.0    False   \n",
       "8      25.89  female           no  28.0                   53.0    False   \n",
       "9      93.63  female           no  40.0                   47.0     True   \n",
       "\n",
       "   recent_purchase  large_purchase  purch_amt_squared  \n",
       "0                1               0           383.3764  \n",
       "1                0               1          4245.8256  \n",
       "2                1               0          1648.3600  \n",
       "3                0               0          1444.7601  \n",
       "4                1               0           498.1824  \n",
       "5                0               0          1572.9156  \n",
       "6                0               0          1932.4816  \n",
       "7                0               0            37.0881  \n",
       "8                1               0           670.2921  \n",
       "9                1               1          8766.5769  "
      ]
     },
     "execution_count": 140,
     "metadata": {},
     "output_type": "execute_result"
    }
   ],
   "source": [
    "purchases.head(10)"
   ]
  },
  {
   "cell_type": "code",
   "execution_count": 141,
   "metadata": {},
   "outputs": [],
   "source": [
    "#Binarize categoricals\n",
    "purchases['gender'] = np.where((purchases['gender'] == 'male'), 1, 0)\n",
    "purchases['card_on_file'] = np.where((purchases['card_on_file'] == 'yes'), 1, 0)\n",
    "purchases['loyalty'] = np.where((purchases['loyalty'] == True), 1, 0)"
   ]
  },
  {
   "cell_type": "code",
   "execution_count": 142,
   "metadata": {},
   "outputs": [
    {
     "data": {
      "text/html": [
       "<div>\n",
       "<style scoped>\n",
       "    .dataframe tbody tr th:only-of-type {\n",
       "        vertical-align: middle;\n",
       "    }\n",
       "\n",
       "    .dataframe tbody tr th {\n",
       "        vertical-align: top;\n",
       "    }\n",
       "\n",
       "    .dataframe thead th {\n",
       "        text-align: right;\n",
       "    }\n",
       "</style>\n",
       "<table border=\"1\" class=\"dataframe\">\n",
       "  <thead>\n",
       "    <tr style=\"text-align: right;\">\n",
       "      <th></th>\n",
       "      <th>purch_amt</th>\n",
       "      <th>gender</th>\n",
       "      <th>card_on_file</th>\n",
       "      <th>age</th>\n",
       "      <th>days_since_last_purch</th>\n",
       "      <th>loyalty</th>\n",
       "      <th>recent_purchase</th>\n",
       "      <th>large_purchase</th>\n",
       "      <th>purch_amt_squared</th>\n",
       "    </tr>\n",
       "  </thead>\n",
       "  <tbody>\n",
       "    <tr>\n",
       "      <th>0</th>\n",
       "      <td>19.58</td>\n",
       "      <td>1</td>\n",
       "      <td>0</td>\n",
       "      <td>31.0</td>\n",
       "      <td>35.0</td>\n",
       "      <td>0</td>\n",
       "      <td>1</td>\n",
       "      <td>0</td>\n",
       "      <td>383.3764</td>\n",
       "    </tr>\n",
       "    <tr>\n",
       "      <th>1</th>\n",
       "      <td>65.16</td>\n",
       "      <td>1</td>\n",
       "      <td>1</td>\n",
       "      <td>23.0</td>\n",
       "      <td>61.0</td>\n",
       "      <td>0</td>\n",
       "      <td>0</td>\n",
       "      <td>1</td>\n",
       "      <td>4245.8256</td>\n",
       "    </tr>\n",
       "    <tr>\n",
       "      <th>2</th>\n",
       "      <td>40.60</td>\n",
       "      <td>0</td>\n",
       "      <td>0</td>\n",
       "      <td>36.0</td>\n",
       "      <td>49.0</td>\n",
       "      <td>0</td>\n",
       "      <td>1</td>\n",
       "      <td>0</td>\n",
       "      <td>1648.3600</td>\n",
       "    </tr>\n",
       "    <tr>\n",
       "      <th>3</th>\n",
       "      <td>38.01</td>\n",
       "      <td>1</td>\n",
       "      <td>1</td>\n",
       "      <td>47.0</td>\n",
       "      <td>57.0</td>\n",
       "      <td>0</td>\n",
       "      <td>0</td>\n",
       "      <td>0</td>\n",
       "      <td>1444.7601</td>\n",
       "    </tr>\n",
       "    <tr>\n",
       "      <th>4</th>\n",
       "      <td>22.32</td>\n",
       "      <td>0</td>\n",
       "      <td>1</td>\n",
       "      <td>5.0</td>\n",
       "      <td>39.0</td>\n",
       "      <td>0</td>\n",
       "      <td>1</td>\n",
       "      <td>0</td>\n",
       "      <td>498.1824</td>\n",
       "    </tr>\n",
       "    <tr>\n",
       "      <th>5</th>\n",
       "      <td>39.66</td>\n",
       "      <td>0</td>\n",
       "      <td>0</td>\n",
       "      <td>6.0</td>\n",
       "      <td>79.0</td>\n",
       "      <td>0</td>\n",
       "      <td>0</td>\n",
       "      <td>0</td>\n",
       "      <td>1572.9156</td>\n",
       "    </tr>\n",
       "    <tr>\n",
       "      <th>6</th>\n",
       "      <td>43.96</td>\n",
       "      <td>1</td>\n",
       "      <td>1</td>\n",
       "      <td>36.0</td>\n",
       "      <td>64.0</td>\n",
       "      <td>0</td>\n",
       "      <td>0</td>\n",
       "      <td>0</td>\n",
       "      <td>1932.4816</td>\n",
       "    </tr>\n",
       "    <tr>\n",
       "      <th>7</th>\n",
       "      <td>6.09</td>\n",
       "      <td>0</td>\n",
       "      <td>1</td>\n",
       "      <td>36.0</td>\n",
       "      <td>67.0</td>\n",
       "      <td>0</td>\n",
       "      <td>0</td>\n",
       "      <td>0</td>\n",
       "      <td>37.0881</td>\n",
       "    </tr>\n",
       "    <tr>\n",
       "      <th>8</th>\n",
       "      <td>25.89</td>\n",
       "      <td>0</td>\n",
       "      <td>0</td>\n",
       "      <td>28.0</td>\n",
       "      <td>53.0</td>\n",
       "      <td>0</td>\n",
       "      <td>1</td>\n",
       "      <td>0</td>\n",
       "      <td>670.2921</td>\n",
       "    </tr>\n",
       "    <tr>\n",
       "      <th>9</th>\n",
       "      <td>93.63</td>\n",
       "      <td>0</td>\n",
       "      <td>0</td>\n",
       "      <td>40.0</td>\n",
       "      <td>47.0</td>\n",
       "      <td>1</td>\n",
       "      <td>1</td>\n",
       "      <td>1</td>\n",
       "      <td>8766.5769</td>\n",
       "    </tr>\n",
       "  </tbody>\n",
       "</table>\n",
       "</div>"
      ],
      "text/plain": [
       "   purch_amt  gender  card_on_file   age  days_since_last_purch  loyalty  \\\n",
       "0      19.58       1             0  31.0                   35.0        0   \n",
       "1      65.16       1             1  23.0                   61.0        0   \n",
       "2      40.60       0             0  36.0                   49.0        0   \n",
       "3      38.01       1             1  47.0                   57.0        0   \n",
       "4      22.32       0             1   5.0                   39.0        0   \n",
       "5      39.66       0             0   6.0                   79.0        0   \n",
       "6      43.96       1             1  36.0                   64.0        0   \n",
       "7       6.09       0             1  36.0                   67.0        0   \n",
       "8      25.89       0             0  28.0                   53.0        0   \n",
       "9      93.63       0             0  40.0                   47.0        1   \n",
       "\n",
       "   recent_purchase  large_purchase  purch_amt_squared  \n",
       "0                1               0           383.3764  \n",
       "1                0               1          4245.8256  \n",
       "2                1               0          1648.3600  \n",
       "3                0               0          1444.7601  \n",
       "4                1               0           498.1824  \n",
       "5                0               0          1572.9156  \n",
       "6                0               0          1932.4816  \n",
       "7                0               0            37.0881  \n",
       "8                1               0           670.2921  \n",
       "9                1               1          8766.5769  "
      ]
     },
     "execution_count": 142,
     "metadata": {},
     "output_type": "execute_result"
    }
   ],
   "source": [
    "#Final look at df before model building\n",
    "purchases.head(10)"
   ]
  },
  {
   "cell_type": "markdown",
   "metadata": {},
   "source": [
    "## Model Building"
   ]
  },
  {
   "cell_type": "code",
   "execution_count": 143,
   "metadata": {},
   "outputs": [
    {
     "name": "stdout",
     "output_type": "stream",
     "text": [
      "Baseline accuracy for Loyalty is: 16.27%\n"
     ]
    }
   ],
   "source": [
    "#Calculate baseline accuracy for Loyalty\n",
    "loyalty = purchases['loyalty'].sum()\n",
    "print('Baseline accuracy for Loyalty is: ' + str(round((loyalty/purchases.shape[0])*100, 2)) + '%')"
   ]
  },
  {
   "cell_type": "code",
   "execution_count": 144,
   "metadata": {},
   "outputs": [],
   "source": [
    "#For modeling purposes, reduce size of dataset\n",
    "purchases = purchases.sample(n=20000)"
   ]
  },
  {
   "cell_type": "markdown",
   "metadata": {},
   "source": [
    "**Deal with Class Imbalance**"
   ]
  },
  {
   "cell_type": "code",
   "execution_count": 145,
   "metadata": {},
   "outputs": [
    {
     "name": "stdout",
     "output_type": "stream",
     "text": [
      "3227\n"
     ]
    }
   ],
   "source": [
    "#Create dataframe of only loyalty (yes) observations\n",
    "loyalty_yes = purchases[purchases['loyalty'] == 1]\n",
    "\n",
    "#Confirm number of loyalty observations\n",
    "print(len(loyalty_yes))"
   ]
  },
  {
   "cell_type": "code",
   "execution_count": 146,
   "metadata": {},
   "outputs": [
    {
     "name": "stdout",
     "output_type": "stream",
     "text": [
      "3227\n"
     ]
    }
   ],
   "source": [
    "#Create dataframe of only loyalty (no), then take a sample\n",
    "loyalty_no = purchases[purchases['loyalty'] == 0]\n",
    "loyalty_no = loyalty_no.sample(n = 3227)\n",
    "\n",
    "#Confirm number of non-loyalty observations\n",
    "print(len(loyalty_no))"
   ]
  },
  {
   "cell_type": "code",
   "execution_count": 147,
   "metadata": {},
   "outputs": [],
   "source": [
    "#Combine our two dataframes (loyalty and non-loyalty) into one\n",
    "purchases_revised = loyalty_yes.append(loyalty_no)"
   ]
  },
  {
   "cell_type": "markdown",
   "metadata": {},
   "source": [
    "**Establish X and Y now that Baseline is 50/50**"
   ]
  },
  {
   "cell_type": "code",
   "execution_count": 148,
   "metadata": {},
   "outputs": [],
   "source": [
    "#Establish X and Y\n",
    "X = purchases_revised.drop(['loyalty'], 1)\n",
    "Y = purchases_revised.loyalty"
   ]
  },
  {
   "cell_type": "code",
   "execution_count": 149,
   "metadata": {},
   "outputs": [],
   "source": [
    "#Create function for tuning parameters\n",
    "def tuned_params(model):\n",
    "        if model == 'KNN':\n",
    "                KNN = np.arange(1, 501, 100)\n",
    "                KNN_df = pd.DataFrame()\n",
    "                for i in KNN:\n",
    "                    KNN_model = KNeighborsClassifier(n_neighbors=i, weights='distance')\n",
    "                    KNN_model.fit(X, Y)\n",
    "                    positive_pred = KNN_model.predict(X)\n",
    "                    cross_val = cross_val_score(KNN_model, X, Y, cv=5).mean()*100\n",
    "                    score = KNN_model.score(X, Y)*100\n",
    "                    KNN_df_temp = pd.DataFrame({'K': i, 'training': score, 'test': cross_val}, index=[0])\n",
    "                    KNN_df = KNN_df.append(KNN_df_temp)\n",
    "                plt.plot(KNN_df['K'], KNN_df['training'], color = 'r', linewidth = 3, label='Training')\n",
    "                plt.plot(KNN_df['K'], KNN_df['test'], color = 'b', linewidth = 3, label='Test')\n",
    "                plt.xlabel('K Parameter')\n",
    "                plt.title('KNN - Training vs. Test')\n",
    "                plt.show()\n",
    "                \n",
    "        elif model == 'Random Forest':\n",
    "                random_forest = np.arange(100, 500, 100)\n",
    "                random_forest_df = pd.DataFrame()\n",
    "                for i in random_forest:\n",
    "                    rfc = ensemble.RandomForestClassifier(n_estimators=i)\n",
    "                    rfc.fit(X, Y)\n",
    "                    positive_pred = rfc.predict(X)\n",
    "                    cross_val = cross_val_score(rfc, X, Y, cv=5).mean()*100\n",
    "                    score = rfc.score(X, Y)*100\n",
    "                    random_forest_df_temp = pd.DataFrame({'estimators': i, 'training': score, 'test': cross_val}, index=[0])\n",
    "                    random_forest_df = random_forest_df.append(random_forest_df_temp)\n",
    "                plt.plot(random_forest_df['estimators'], random_forest_df['training'], color = 'r', linewidth = 3, label='Training')\n",
    "                plt.plot(random_forest_df['estimators'], random_forest_df['test'], color = 'b', linewidth = 3, label='Test')\n",
    "                plt.xlabel('Estimators Parameter')\n",
    "                plt.title('Random Forest - Training vs. Test')\n",
    "                plt.show()\n",
    "        \n",
    "        elif model == 'Lasso':\n",
    "                lasso = np.arange(0.2, 1.0, 0.2)\n",
    "                lasso_df = pd.DataFrame()\n",
    "                for i in lasso:\n",
    "                    lr_lasso = LogisticRegression(penalty='l1', C=i)\n",
    "                    lr_lasso.fit(X, Y)\n",
    "                    positive_pred = lr_lasso.predict(X)\n",
    "                    cross_val = cross_val_score(lr_lasso, X, Y, cv=5).mean()*100\n",
    "                    score = lr_lasso.score(X, Y)*100\n",
    "                    lasso_df_temp = pd.DataFrame({'C': i, 'training': score, 'test': cross_val}, index=[0])\n",
    "                    lasso_df = lasso_df.append(lasso_df_temp)\n",
    "                plt.plot(lasso_df['C'], lasso_df['training'], color = 'r', linewidth = 3, label='Training')\n",
    "                plt.plot(lasso_df['C'], lasso_df['test'], color = 'b', linewidth = 3, label='Test')\n",
    "                plt.xlabel('C Parameter')\n",
    "                plt.title('Lasso - Training vs. Test')\n",
    "                plt.show()\n",
    "            \n",
    "        elif model == 'Ridge':\n",
    "                ridge = np.arange(1, 5001, 1000)\n",
    "                ridge_df = pd.DataFrame()\n",
    "                for i in ridge:\n",
    "                    lr_ridge = LogisticRegression(C=i)\n",
    "                    lr_ridge.fit(X, Y)\n",
    "                    positive_pred = lr_ridge.predict(X)\n",
    "                    cross_val = cross_val_score(lr_ridge, X, Y, cv=5).mean()*100\n",
    "                    score = lr_ridge.score(X, Y)*100\n",
    "                    ridge_df_temp = pd.DataFrame({'C': i, 'training': score, 'test': cross_val}, index=[0])\n",
    "                    ridge_df = ridge_df.append(ridge_df_temp)\n",
    "                plt.plot(ridge_df['C'], ridge_df['training'], color = 'r', linewidth = 3, label='Training')\n",
    "                plt.plot(ridge_df['C'], ridge_df['test'], color = 'b', linewidth = 3, label='Test')\n",
    "                plt.xlabel('C Parameter')\n",
    "                plt.title('Ridge - Training vs. Test')\n",
    "                plt.show()\n",
    "                \n",
    "        elif model == 'SVC':\n",
    "                svc = np.arange(0.2, 1.0, 0.2)\n",
    "                svc_df = pd.DataFrame()\n",
    "                for i in svc:\n",
    "                    svm = SVC(C=i)\n",
    "                    svm.fit(X, Y)\n",
    "                    positive_pred = svm.predict(X)\n",
    "                    cross_val = cross_val_score(svm, X, Y, cv=5).mean()*100\n",
    "                    score = svm.score(X, Y)*100\n",
    "                    svc_df_temp = pd.DataFrame({'C': i, 'training': score, 'test': cross_val}, index=[0])\n",
    "                    svc_df = svc_df.append(svc_df_temp)\n",
    "                plt.plot(svc_df['C'], svc_df['training'], color = 'r', linewidth = 3, label='Training')\n",
    "                plt.plot(svc_df['C'], svc_df['test'], color = 'b', linewidth = 3, label='Test')\n",
    "                plt.xlabel('C Parameter')\n",
    "                plt.title('SVC - Training vs. Test', fontsize=30)\n",
    "                plt.show()\n",
    "                \n",
    "        else:\n",
    "                grad_boost = np.arange(100, 500, 100)\n",
    "                grad_boost_df = pd.DataFrame()\n",
    "                for i in grad_boost:\n",
    "                    clf = ensemble.GradientBoostingClassifier(n_estimators=i)\n",
    "                    clf.fit(X, Y)\n",
    "                    positive_pred = clf.predict(X)\n",
    "                    cross_val = cross_val_score(clf, X, Y, cv=5).mean()*100\n",
    "                    score = clf.score(X, Y)*100\n",
    "                    grad_boost_df_temp = pd.DataFrame({'estimators': i, 'training': score, 'test': cross_val}, index=[0])\n",
    "                    grad_boost_df = grad_boost_df.append(grad_boost_df_temp)\n",
    "                plt.plot(grad_boost_df['estimators'], grad_boost_df['training'], color = 'r', linewidth = 3, label='Training')\n",
    "                plt.plot(grad_boost_df['estimators'], grad_boost_df['test'], color = 'b', linewidth = 3, label='Test')\n",
    "                plt.xlabel('Estimators Parameter')\n",
    "                plt.title('Gradient Boost - Training vs. Test')\n",
    "                plt.show()"
   ]
  },
  {
   "cell_type": "markdown",
   "metadata": {},
   "source": [
    "**K-Nearest Neighbors**"
   ]
  },
  {
   "cell_type": "code",
   "execution_count": 154,
   "metadata": {},
   "outputs": [],
   "source": [
    "#Create function\n",
    "\n",
    "def KNN_Model(k, weight):\n",
    "    import timeit\n",
    "    start = timeit.default_timer()\n",
    "    KNN = KNeighborsClassifier(n_neighbors=k, weights=weight)\n",
    "    KNN.fit(X, Y)\n",
    "    positive_pred = KNN.predict(X)\n",
    "    print('\\n Percentage accuracy for K Nearest Neighbors Classifier')\n",
    "    print(str(KNN.score(X, Y)*100) + '%')\n",
    "    print('\\n Cross-Validation Score')\n",
    "    print(cross_val_score(KNN, X, Y, cv=5))\n",
    "    print('\\n Confusion Matrix')\n",
    "    display(confusion_matrix(Y, positive_pred))\n",
    "    \n",
    "    #Print time\n",
    "    stop = timeit.default_timer()\n",
    "    execution_time = stop - start\n",
    "    print(\"\\n\\n Program Executed in {}\".format(round(execution_time, 2)))"
   ]
  },
  {
   "cell_type": "code",
   "execution_count": 155,
   "metadata": {},
   "outputs": [
    {
     "data": {
      "image/png": "[encoded data removed]",
      "text/plain": [
       "<matplotlib.figure.Figure at 0x1a12e98358>"
      ]
     },
     "metadata": {},
     "output_type": "display_data"
    }
   ],
   "source": [
    "#Find Best Parameters\n",
    "tuned_params('KNN')"
   ]
  },
  {
   "cell_type": "code",
   "execution_count": 156,
   "metadata": {},
   "outputs": [
    {
     "name": "stdout",
     "output_type": "stream",
     "text": [
      "\n",
      " Percentage accuracy for K Nearest Neighbors Classifier\n",
      "68.32971800433839%\n",
      "\n",
      " Cross-Validation Score\n",
      "[0.65092879 0.66563467 0.67364341 0.62945736 0.63953488]\n",
      "\n",
      " Confusion Matrix\n"
     ]
    },
    {
     "data": {
      "text/plain": [
       "array([[2153, 1074],\n",
       "       [ 970, 2257]])"
      ]
     },
     "metadata": {},
     "output_type": "display_data"
    },
    {
     "name": "stdout",
     "output_type": "stream",
     "text": [
      "\n",
      "\n",
      " Program Executed in 0.54\n"
     ]
    }
   ],
   "source": [
    "#Run Model\n",
    "KNN_Model(100, 'uniform')"
   ]
  },
  {
   "cell_type": "code",
   "execution_count": 157,
   "metadata": {},
   "outputs": [
    {
     "name": "stdout",
     "output_type": "stream",
     "text": [
      "\n",
      " Percentage accuracy for K Nearest Neighbors Classifier\n",
      "99.96901146575767%\n",
      "\n",
      " Cross-Validation Score\n",
      "[0.67647059 0.7128483  0.71395349 0.69379845 0.69457364]\n",
      "\n",
      " Confusion Matrix\n"
     ]
    },
    {
     "data": {
      "text/plain": [
       "array([[3227,    0],\n",
       "       [   2, 3225]])"
      ]
     },
     "metadata": {},
     "output_type": "display_data"
    },
    {
     "name": "stdout",
     "output_type": "stream",
     "text": [
      "\n",
      "\n",
      " Program Executed in 0.61\n"
     ]
    }
   ],
   "source": [
    "#Run Model\n",
    "KNN_Model(100, 'distance')"
   ]
  },
  {
   "cell_type": "markdown",
   "metadata": {},
   "source": [
    "**Random Forest**"
   ]
  },
  {
   "cell_type": "code",
   "execution_count": 158,
   "metadata": {},
   "outputs": [],
   "source": [
    "#Create function\n",
    "\n",
    "def RFC_Model(trees, criteria, num_features, depth):\n",
    "    import timeit\n",
    "    start = timeit.default_timer()\n",
    "    rfc = ensemble.RandomForestClassifier(n_estimators=trees, criterion=criteria, max_features=num_features, max_depth=depth)\n",
    "    rfc.fit(X, Y)\n",
    "    positive_pred = rfc.predict(X)\n",
    "    print('\\n Percentage accuracy for Random Forest Classifier')\n",
    "    print(str(rfc.score(X, Y)*100) + '%')\n",
    "    print('\\n Cross-Validation Score')\n",
    "    print(cross_val_score(rfc, X, Y, cv=5))\n",
    "    print('\\n Confusion Matrix')\n",
    "    display(confusion_matrix(Y, positive_pred))\n",
    "    \n",
    "    #Print time\n",
    "    stop = timeit.default_timer()\n",
    "    execution_time = stop - start\n",
    "    print(\"\\n\\n Program Executed in {}\".format(round(execution_time, 2)))"
   ]
  },
  {
   "cell_type": "code",
   "execution_count": 159,
   "metadata": {},
   "outputs": [
    {
     "data": {
      "image/png": "[encoded data removed]",
      "text/plain": [
       "<matplotlib.figure.Figure at 0x1a12dee3c8>"
      ]
     },
     "metadata": {},
     "output_type": "display_data"
    }
   ],
   "source": [
    "#Find Best Parameters\n",
    "tuned_params('Random Forest')"
   ]
  },
  {
   "cell_type": "code",
   "execution_count": 163,
   "metadata": {},
   "outputs": [
    {
     "name": "stdout",
     "output_type": "stream",
     "text": [
      "\n",
      " Percentage accuracy for Random Forest Classifier\n",
      "77.6262782770375%\n",
      "\n",
      " Cross-Validation Score\n",
      "[0.76006192 0.78947368 0.77751938 0.76124031 0.77054264]\n",
      "\n",
      " Confusion Matrix\n"
     ]
    },
    {
     "data": {
      "text/plain": [
       "array([[2249,  978],\n",
       "       [ 466, 2761]])"
      ]
     },
     "metadata": {},
     "output_type": "display_data"
    },
    {
     "name": "stdout",
     "output_type": "stream",
     "text": [
      "\n",
      "\n",
      " Program Executed in 5.55\n"
     ]
    }
   ],
   "source": [
    "#Run Model\n",
    "RFC_Model(200, 'entropy', 4, 3)"
   ]
  },
  {
   "cell_type": "markdown",
   "metadata": {},
   "source": [
    "**Logistic Regression**"
   ]
  },
  {
   "cell_type": "code",
   "execution_count": 164,
   "metadata": {},
   "outputs": [],
   "source": [
    "#Create function\n",
    "\n",
    "def Logistic_Reg_Model(regularization, alpha):\n",
    "    import timeit\n",
    "    start = timeit.default_timer()\n",
    "    if regularization == 'l1':\n",
    "        lr_lasso = LogisticRegression(penalty=regularization, C=alpha)\n",
    "        lr_lasso.fit(X, Y)\n",
    "        positive_pred = lr_lasso.predict(X)\n",
    "        print('\\n Percentage accuracy for Lasso Logistic Regression')\n",
    "        print(str(lr_lasso.score(X, Y)*100) + '%')\n",
    "        print('\\n Cross-Validation Score')\n",
    "        print(cross_val_score(lr_lasso, X, Y, cv=5))\n",
    "        print('\\n Confusion Matrix')\n",
    "        display(confusion_matrix(Y, positive_pred))\n",
    "        \n",
    "    elif regularization == 'l2' and alpha == 1e9:\n",
    "        lr_regular = LogisticRegression(penalty=regularization, C=alpha)\n",
    "        lr_regular.fit(X, Y)\n",
    "        positive_pred = lr_regular.predict(X)\n",
    "        print('\\n Percentage accuracy for Logistic Regression')\n",
    "        print(str(lr_regular.score(X, Y)*100) + '%')\n",
    "        print('\\n Cross-Validation Score')\n",
    "        print(cross_val_score(lr_regular, X, Y, cv=5))\n",
    "        print('\\n Confusion Matrix')\n",
    "        display(confusion_matrix(Y, positive_pred))\n",
    "    else:\n",
    "        lr_ridge = LogisticRegression(penalty=regularization, C=alpha)\n",
    "        lr_ridge.fit(X, Y)\n",
    "        positive_pred = lr_ridge.predict(X)\n",
    "        print('\\n Percentage accuracy for Ridge Logistic Regression')\n",
    "        print(str(lr_ridge.score(X, Y)*100) + '%')\n",
    "        print('\\n Cross-Validation Score')\n",
    "        print(cross_val_score(lr_ridge, X, Y, cv=5))\n",
    "        print('\\n Confusion Matrix')\n",
    "        display(confusion_matrix(Y, positive_pred))\n",
    "        \n",
    "     #Print time\n",
    "    stop = timeit.default_timer()\n",
    "    execution_time = stop - start\n",
    "    print(\"\\n\\n Program Executed in {}\".format(round(execution_time, 2)))"
   ]
  },
  {
   "cell_type": "code",
   "execution_count": 165,
   "metadata": {},
   "outputs": [
    {
     "data": {
      "image/png": "[encoded data removed]",
      "text/plain": [
       "<matplotlib.figure.Figure at 0x1a128a8cc0>"
      ]
     },
     "metadata": {},
     "output_type": "display_data"
    }
   ],
   "source": [
    "#Find Best Params - Lasso\n",
    "tuned_params('Lasso')"
   ]
  },
  {
   "cell_type": "code",
   "execution_count": 166,
   "metadata": {},
   "outputs": [
    {
     "data": {
      "image/png": "[encoded data removed]",
      "text/plain": [
       "<matplotlib.figure.Figure at 0x1a12fa8a20>"
      ]
     },
     "metadata": {},
     "output_type": "display_data"
    }
   ],
   "source": [
    "#Find Best Params - Ridge\n",
    "tuned_params('Ridge')"
   ]
  },
  {
   "cell_type": "code",
   "execution_count": 169,
   "metadata": {},
   "outputs": [
    {
     "name": "stdout",
     "output_type": "stream",
     "text": [
      "\n",
      " Percentage accuracy for Lasso Logistic Regression\n",
      "78.6024171056709%\n",
      "\n",
      " Cross-Validation Score\n",
      "[0.77631579 0.7995356  0.79922481 0.77286822 0.78062016]\n",
      "\n",
      " Confusion Matrix\n"
     ]
    },
    {
     "data": {
      "text/plain": [
       "array([[2452,  775],\n",
       "       [ 606, 2621]])"
      ]
     },
     "metadata": {},
     "output_type": "display_data"
    },
    {
     "name": "stdout",
     "output_type": "stream",
     "text": [
      "\n",
      "\n",
      " Program Executed in 0.41\n"
     ]
    }
   ],
   "source": [
    "#Run Lasso Model\n",
    "Logistic_Reg_Model('l1', 0.35)"
   ]
  },
  {
   "cell_type": "code",
   "execution_count": 173,
   "metadata": {},
   "outputs": [
    {
     "name": "stdout",
     "output_type": "stream",
     "text": [
      "\n",
      " Percentage accuracy for Ridge Logistic Regression\n",
      "78.64889990703439%\n",
      "\n",
      " Cross-Validation Score\n",
      "[0.77786378 0.79721362 0.79844961 0.77364341 0.77751938]\n",
      "\n",
      " Confusion Matrix\n"
     ]
    },
    {
     "data": {
      "text/plain": [
       "array([[2447,  780],\n",
       "       [ 598, 2629]])"
      ]
     },
     "metadata": {},
     "output_type": "display_data"
    },
    {
     "name": "stdout",
     "output_type": "stream",
     "text": [
      "\n",
      "\n",
      " Program Executed in 0.25\n"
     ]
    }
   ],
   "source": [
    "#Run Ridge Model\n",
    "Logistic_Reg_Model('l2', 4000)"
   ]
  },
  {
   "cell_type": "code",
   "execution_count": 174,
   "metadata": {},
   "outputs": [
    {
     "name": "stdout",
     "output_type": "stream",
     "text": [
      "\n",
      " Percentage accuracy for Logistic Regression\n",
      "78.75735977688255%\n",
      "\n",
      " Cross-Validation Score\n",
      "[0.77786378 0.79798762 0.79689922 0.7751938  0.77751938]\n",
      "\n",
      " Confusion Matrix\n"
     ]
    },
    {
     "data": {
      "text/plain": [
       "array([[2442,  785],\n",
       "       [ 586, 2641]])"
      ]
     },
     "metadata": {},
     "output_type": "display_data"
    },
    {
     "name": "stdout",
     "output_type": "stream",
     "text": [
      "\n",
      "\n",
      " Program Executed in 0.22\n"
     ]
    }
   ],
   "source": [
    "#Run Regular Logistic Regression\n",
    "Logistic_Reg_Model('l2', 1e9)"
   ]
  },
  {
   "cell_type": "markdown",
   "metadata": {},
   "source": [
    "**Support Vector Classifier**"
   ]
  },
  {
   "cell_type": "code",
   "execution_count": 175,
   "metadata": {},
   "outputs": [],
   "source": [
    "#Create function\n",
    "\n",
    "def SVC_Model(c, kernel_type):\n",
    "    import timeit\n",
    "    start = timeit.default_timer()\n",
    "    svm = SVC(C=c, kernel=kernel_type)\n",
    "    svm.fit(X, Y)\n",
    "    positive_pred = svm.predict(X)\n",
    "    print('\\n Percentage accuracy for SVM')\n",
    "    print(str(svm.score(X, Y)*100) + '%')\n",
    "    print('\\n Cross-Validation Score')\n",
    "    print(cross_val_score(svm, X, Y, cv=5))\n",
    "    print('\\n Confusion Matrix')\n",
    "    display(confusion_matrix(Y, positive_pred))\n",
    "    \n",
    "    #Print time\n",
    "    stop = timeit.default_timer()\n",
    "    execution_time = stop - start\n",
    "    print(\"\\n\\n Program Executed in {}\".format(round(execution_time, 2)))"
   ]
  },
  {
   "cell_type": "code",
   "execution_count": 176,
   "metadata": {},
   "outputs": [
    {
     "data": {
      "image/png": "[encoded data removed]",
      "text/plain": [
       "<matplotlib.figure.Figure at 0x1a12ea3c50>"
      ]
     },
     "metadata": {},
     "output_type": "display_data"
    }
   ],
   "source": [
    "#Find Best Parameters\n",
    "tuned_params('SVC')"
   ]
  },
  {
   "cell_type": "code",
   "execution_count": 177,
   "metadata": {},
   "outputs": [
    {
     "name": "stdout",
     "output_type": "stream",
     "text": [
      "\n",
      " Percentage accuracy for SVM\n",
      "99.93802293151533%\n",
      "\n",
      " Cross-Validation Score\n",
      "[0.53250774 0.54566563 0.52325581 0.52325581 0.52248062]\n",
      "\n",
      " Confusion Matrix\n"
     ]
    },
    {
     "data": {
      "text/plain": [
       "array([[3225,    2],\n",
       "       [   2, 3225]])"
      ]
     },
     "metadata": {},
     "output_type": "display_data"
    },
    {
     "name": "stdout",
     "output_type": "stream",
     "text": [
      "\n",
      "\n",
      " Program Executed in 5.9\n"
     ]
    }
   ],
   "source": [
    "#Run Model\n",
    "SVC_Model(0.6, 'rbf')"
   ]
  },
  {
   "cell_type": "markdown",
   "metadata": {},
   "source": [
    "**Gradient Boosting**"
   ]
  },
  {
   "cell_type": "code",
   "execution_count": 178,
   "metadata": {},
   "outputs": [],
   "source": [
    "#Create function\n",
    "\n",
    "def Gradient_Boost_Model(estimators, depth, loss_function, sampling):\n",
    "    import timeit\n",
    "    start = timeit.default_timer()\n",
    "    clf = ensemble.GradientBoostingClassifier(n_estimators=estimators, max_depth=depth, loss=loss_function, subsample=sampling)\n",
    "    clf.fit(X, Y)\n",
    "    positive_pred = clf.predict(X)\n",
    "    print('\\n Percentage accuracy for Gradient Boosting Classifier')\n",
    "    print(str(clf.score(X, Y)*100) + '%')\n",
    "    print('\\n Cross-Validation Score')\n",
    "    print(cross_val_score(clf, X, Y, cv=5))\n",
    "    print('\\n Confusion Matrix')\n",
    "    display(confusion_matrix(Y, positive_pred))\n",
    "    \n",
    "    #Print time\n",
    "    stop = timeit.default_timer()\n",
    "    execution_time = stop - start\n",
    "    print(\"\\n\\n Program Executed in {}\".format(round(execution_time, 2)))"
   ]
  },
  {
   "cell_type": "code",
   "execution_count": 179,
   "metadata": {},
   "outputs": [
    {
     "data": {
      "image/png": "[encoded data removed]",
      "text/plain": [
       "<matplotlib.figure.Figure at 0x1a1e094278>"
      ]
     },
     "metadata": {},
     "output_type": "display_data"
    }
   ],
   "source": [
    "#Find Best Parameters\n",
    "tuned_params('GB')"
   ]
  },
  {
   "cell_type": "code",
   "execution_count": 189,
   "metadata": {},
   "outputs": [
    {
     "name": "stdout",
     "output_type": "stream",
     "text": [
      "\n",
      " Percentage accuracy for Gradient Boosting Classifier\n",
      "79.54756740006198%\n",
      "\n",
      " Cross-Validation Score\n",
      "[0.77786378 0.80263158 0.79844961 0.76976744 0.7744186 ]\n",
      "\n",
      " Confusion Matrix\n"
     ]
    },
    {
     "data": {
      "text/plain": [
       "array([[2483,  744],\n",
       "       [ 576, 2651]])"
      ]
     },
     "metadata": {},
     "output_type": "display_data"
    },
    {
     "name": "stdout",
     "output_type": "stream",
     "text": [
      "\n",
      "\n",
      " Program Executed in 2.07\n"
     ]
    }
   ],
   "source": [
    "#Run Model\n",
    "Gradient_Boost_Model(100, 2, 'deviance', 0.5)"
   ]
  },
  {
   "cell_type": "markdown",
   "metadata": {},
   "source": [
    "## Final Analysis and Results"
   ]
  }
 ],
 "metadata": {
  "kernelspec": {
   "display_name": "Python 3",
   "language": "python",
   "name": "python3"
  },
  "language_info": {
   "codemirror_mode": {
    "name": "ipython",
    "version": 3
   },
   "file_extension": ".py",
   "mimetype": "text/x-python",
   "name": "python",
   "nbconvert_exporter": "python",
   "pygments_lexer": "ipython3",
   "version": "3.6.4"
  }
 },
 "nbformat": 4,
 "nbformat_minor": 2
}
