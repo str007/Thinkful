{
 "cells": [
  {
   "cell_type": "markdown",
   "metadata": {},
   "source": [
    "## Final Take Home Challenge - Thinkful Bootcamp"
   ]
  },
  {
   "cell_type": "code",
   "execution_count": 15,
   "metadata": {},
   "outputs": [],
   "source": [
    "#Import necessary modules\n",
    "\n",
    "import requests\n",
    "from bs4 import BeautifulSoup\n",
    "import urllib.request\n",
    "import pandas as pd\n",
    "import numpy as np\n",
    "import matplotlib.pyplot as plt\n",
    "import seaborn as sns\n",
    "import scipy.stats as stats\n",
    "import statistics as stat\n",
    "import sklearn\n",
    "from sklearn.preprocessing import LabelEncoder\n",
    "from sklearn.svm import SVR\n",
    "from sklearn.model_selection import cross_val_score\n",
    "from sklearn import neighbors\n",
    "from sklearn import ensemble\n",
    "from sklearn import linear_model\n",
    "from sklearn.linear_model import LogisticRegression\n",
    "from sklearn.svm import SVR\n",
    "from sklearn.svm import SVC\n",
    "from sklearn.neighbors import KNeighborsClassifier\n",
    "from sklearn.naive_bayes import BernoulliNB\n",
    "from sklearn import preprocessing\n",
    "from sklearn.metrics import confusion_matrix\n",
    "from sklearn.feature_selection import RFE\n",
    "from sklearn.decomposition import PCA\n",
    "from sklearn.preprocessing import normalize\n",
    "from sklearn.cluster import KMeans\n",
    "from sklearn.cluster import MeanShift, estimate_bandwidth\n",
    "%matplotlib inline"
   ]
  },
  {
   "cell_type": "markdown",
   "metadata": {},
   "source": [
    "## Import Data Source & Explore Characteristics"
   ]
  },
  {
   "cell_type": "code",
   "execution_count": 2,
   "metadata": {},
   "outputs": [],
   "source": [
    "#Read in from CSV\n",
    "purchases = pd.read_csv('https://raw.githubusercontent.com/Thinkful-Ed/data-201-resources/master/customers_data.csv')"
   ]
  },
  {
   "cell_type": "code",
   "execution_count": 3,
   "metadata": {},
   "outputs": [
    {
     "data": {
      "text/html": [
       "<div>\n",
       "<style scoped>\n",
       "    .dataframe tbody tr th:only-of-type {\n",
       "        vertical-align: middle;\n",
       "    }\n",
       "\n",
       "    .dataframe tbody tr th {\n",
       "        vertical-align: top;\n",
       "    }\n",
       "\n",
       "    .dataframe thead th {\n",
       "        text-align: right;\n",
       "    }\n",
       "</style>\n",
       "<table border=\"1\" class=\"dataframe\">\n",
       "  <thead>\n",
       "    <tr style=\"text-align: right;\">\n",
       "      <th></th>\n",
       "      <th>Unnamed: 0</th>\n",
       "      <th>purch_amt</th>\n",
       "      <th>gender</th>\n",
       "      <th>card_on_file</th>\n",
       "      <th>age</th>\n",
       "      <th>days_since_last_purch</th>\n",
       "      <th>loyalty</th>\n",
       "    </tr>\n",
       "  </thead>\n",
       "  <tbody>\n",
       "    <tr>\n",
       "      <th>0</th>\n",
       "      <td>0</td>\n",
       "      <td>19.58</td>\n",
       "      <td>male</td>\n",
       "      <td>no</td>\n",
       "      <td>31.0</td>\n",
       "      <td>35.0</td>\n",
       "      <td>False</td>\n",
       "    </tr>\n",
       "    <tr>\n",
       "      <th>1</th>\n",
       "      <td>1</td>\n",
       "      <td>65.16</td>\n",
       "      <td>male</td>\n",
       "      <td>yes</td>\n",
       "      <td>23.0</td>\n",
       "      <td>61.0</td>\n",
       "      <td>False</td>\n",
       "    </tr>\n",
       "    <tr>\n",
       "      <th>2</th>\n",
       "      <td>2</td>\n",
       "      <td>40.60</td>\n",
       "      <td>female</td>\n",
       "      <td>no</td>\n",
       "      <td>36.0</td>\n",
       "      <td>49.0</td>\n",
       "      <td>False</td>\n",
       "    </tr>\n",
       "    <tr>\n",
       "      <th>3</th>\n",
       "      <td>3</td>\n",
       "      <td>38.01</td>\n",
       "      <td>male</td>\n",
       "      <td>yes</td>\n",
       "      <td>47.0</td>\n",
       "      <td>57.0</td>\n",
       "      <td>False</td>\n",
       "    </tr>\n",
       "    <tr>\n",
       "      <th>4</th>\n",
       "      <td>4</td>\n",
       "      <td>22.32</td>\n",
       "      <td>female</td>\n",
       "      <td>yes</td>\n",
       "      <td>5.0</td>\n",
       "      <td>39.0</td>\n",
       "      <td>False</td>\n",
       "    </tr>\n",
       "    <tr>\n",
       "      <th>5</th>\n",
       "      <td>5</td>\n",
       "      <td>39.66</td>\n",
       "      <td>female</td>\n",
       "      <td>no</td>\n",
       "      <td>6.0</td>\n",
       "      <td>79.0</td>\n",
       "      <td>False</td>\n",
       "    </tr>\n",
       "    <tr>\n",
       "      <th>6</th>\n",
       "      <td>6</td>\n",
       "      <td>43.96</td>\n",
       "      <td>male</td>\n",
       "      <td>yes</td>\n",
       "      <td>36.0</td>\n",
       "      <td>64.0</td>\n",
       "      <td>False</td>\n",
       "    </tr>\n",
       "    <tr>\n",
       "      <th>7</th>\n",
       "      <td>7</td>\n",
       "      <td>6.09</td>\n",
       "      <td>female</td>\n",
       "      <td>yes</td>\n",
       "      <td>36.0</td>\n",
       "      <td>67.0</td>\n",
       "      <td>False</td>\n",
       "    </tr>\n",
       "    <tr>\n",
       "      <th>8</th>\n",
       "      <td>8</td>\n",
       "      <td>25.89</td>\n",
       "      <td>female</td>\n",
       "      <td>no</td>\n",
       "      <td>28.0</td>\n",
       "      <td>53.0</td>\n",
       "      <td>False</td>\n",
       "    </tr>\n",
       "    <tr>\n",
       "      <th>9</th>\n",
       "      <td>9</td>\n",
       "      <td>93.63</td>\n",
       "      <td>female</td>\n",
       "      <td>no</td>\n",
       "      <td>40.0</td>\n",
       "      <td>47.0</td>\n",
       "      <td>True</td>\n",
       "    </tr>\n",
       "  </tbody>\n",
       "</table>\n",
       "</div>"
      ],
      "text/plain": [
       "   Unnamed: 0  purch_amt  gender card_on_file   age  days_since_last_purch  \\\n",
       "0           0      19.58    male           no  31.0                   35.0   \n",
       "1           1      65.16    male          yes  23.0                   61.0   \n",
       "2           2      40.60  female           no  36.0                   49.0   \n",
       "3           3      38.01    male          yes  47.0                   57.0   \n",
       "4           4      22.32  female          yes   5.0                   39.0   \n",
       "5           5      39.66  female           no   6.0                   79.0   \n",
       "6           6      43.96    male          yes  36.0                   64.0   \n",
       "7           7       6.09  female          yes  36.0                   67.0   \n",
       "8           8      25.89  female           no  28.0                   53.0   \n",
       "9           9      93.63  female           no  40.0                   47.0   \n",
       "\n",
       "   loyalty  \n",
       "0    False  \n",
       "1    False  \n",
       "2    False  \n",
       "3    False  \n",
       "4    False  \n",
       "5    False  \n",
       "6    False  \n",
       "7    False  \n",
       "8    False  \n",
       "9     True  "
      ]
     },
     "execution_count": 3,
     "metadata": {},
     "output_type": "execute_result"
    }
   ],
   "source": [
    "#First glimpse at the dataset\n",
    "purchases.head(10)"
   ]
  },
  {
   "cell_type": "code",
   "execution_count": 10,
   "metadata": {},
   "outputs": [
    {
     "name": "stdout",
     "output_type": "stream",
     "text": [
      "Dataset contains 120000 rows, across 6 columns\n"
     ]
    }
   ],
   "source": [
    "#Take a look at the shape of our dataset\n",
    "print('Dataset contains {} rows, across {} columns'.format(purchases.shape[0], purchases.shape[1]))"
   ]
  },
  {
   "cell_type": "code",
   "execution_count": 8,
   "metadata": {},
   "outputs": [
    {
     "data": {
      "text/html": [
       "<div>\n",
       "<style scoped>\n",
       "    .dataframe tbody tr th:only-of-type {\n",
       "        vertical-align: middle;\n",
       "    }\n",
       "\n",
       "    .dataframe tbody tr th {\n",
       "        vertical-align: top;\n",
       "    }\n",
       "\n",
       "    .dataframe thead th {\n",
       "        text-align: right;\n",
       "    }\n",
       "</style>\n",
       "<table border=\"1\" class=\"dataframe\">\n",
       "  <thead>\n",
       "    <tr style=\"text-align: right;\">\n",
       "      <th></th>\n",
       "      <th>purch_amt</th>\n",
       "      <th>age</th>\n",
       "      <th>days_since_last_purch</th>\n",
       "    </tr>\n",
       "  </thead>\n",
       "  <tbody>\n",
       "    <tr>\n",
       "      <th>count</th>\n",
       "      <td>120000.000000</td>\n",
       "      <td>120000.000000</td>\n",
       "      <td>120000.000000</td>\n",
       "    </tr>\n",
       "    <tr>\n",
       "      <th>mean</th>\n",
       "      <td>44.036234</td>\n",
       "      <td>25.803008</td>\n",
       "      <td>56.605908</td>\n",
       "    </tr>\n",
       "    <tr>\n",
       "      <th>std</th>\n",
       "      <td>20.473148</td>\n",
       "      <td>10.153072</td>\n",
       "      <td>16.422187</td>\n",
       "    </tr>\n",
       "    <tr>\n",
       "      <th>min</th>\n",
       "      <td>-43.950000</td>\n",
       "      <td>-22.000000</td>\n",
       "      <td>-9.000000</td>\n",
       "    </tr>\n",
       "    <tr>\n",
       "      <th>25%</th>\n",
       "      <td>30.210000</td>\n",
       "      <td>19.000000</td>\n",
       "      <td>45.000000</td>\n",
       "    </tr>\n",
       "    <tr>\n",
       "      <th>50%</th>\n",
       "      <td>43.970000</td>\n",
       "      <td>26.000000</td>\n",
       "      <td>57.000000</td>\n",
       "    </tr>\n",
       "    <tr>\n",
       "      <th>75%</th>\n",
       "      <td>57.830000</td>\n",
       "      <td>33.000000</td>\n",
       "      <td>68.000000</td>\n",
       "    </tr>\n",
       "    <tr>\n",
       "      <th>max</th>\n",
       "      <td>142.200000</td>\n",
       "      <td>71.000000</td>\n",
       "      <td>125.000000</td>\n",
       "    </tr>\n",
       "  </tbody>\n",
       "</table>\n",
       "</div>"
      ],
      "text/plain": [
       "           purch_amt            age  days_since_last_purch\n",
       "count  120000.000000  120000.000000          120000.000000\n",
       "mean       44.036234      25.803008              56.605908\n",
       "std        20.473148      10.153072              16.422187\n",
       "min       -43.950000     -22.000000              -9.000000\n",
       "25%        30.210000      19.000000              45.000000\n",
       "50%        43.970000      26.000000              57.000000\n",
       "75%        57.830000      33.000000              68.000000\n",
       "max       142.200000      71.000000             125.000000"
      ]
     },
     "execution_count": 8,
     "metadata": {},
     "output_type": "execute_result"
    }
   ],
   "source": [
    "#Describe our numeric-based columns\n",
    "purchases.describe()"
   ]
  },
  {
   "cell_type": "code",
   "execution_count": 11,
   "metadata": {},
   "outputs": [
    {
     "data": {
      "text/plain": [
       "purch_amt                float64\n",
       "gender                    object\n",
       "card_on_file              object\n",
       "age                      float64\n",
       "days_since_last_purch    float64\n",
       "loyalty                     bool\n",
       "dtype: object"
      ]
     },
     "execution_count": 11,
     "metadata": {},
     "output_type": "execute_result"
    }
   ],
   "source": [
    "#Understand the current datatypes of our dataset\n",
    "purchases.dtypes"
   ]
  },
  {
   "cell_type": "markdown",
   "metadata": {},
   "source": [
    "## Exploratory Analysis"
   ]
  },
  {
   "cell_type": "code",
   "execution_count": 13,
   "metadata": {},
   "outputs": [
    {
     "data": {
      "image/png": "[encoded data removed]",
      "text/plain": [
       "<matplotlib.figure.Figure at 0x1a122134e0>"
      ]
     },
     "metadata": {},
     "output_type": "display_data"
    },
    {
     "data": {
      "image/png": "[encoded data removed]",
      "text/plain": [
       "<matplotlib.figure.Figure at 0x1a12a0ef98>"
      ]
     },
     "metadata": {},
     "output_type": "display_data"
    },
    {
     "data": {
      "image/png": "[encoded data removed]",
      "text/plain": [
       "<matplotlib.figure.Figure at 0x1a11f26b00>"
      ]
     },
     "metadata": {},
     "output_type": "display_data"
    }
   ],
   "source": [
    "# Plot histograms for all continuous data\n",
    "for col in purchases.dtypes[purchases.dtypes == 'float64'].index:\n",
    "    purchases[col].hist()\n",
    "    plt.title(col + \" Distribution\")\n",
    "    plt.xlabel(col + \" Values\")\n",
    "    plt.ylabel(\"Count\")\n",
    "    plt.show()"
   ]
  },
  {
   "cell_type": "code",
   "execution_count": 18,
   "metadata": {},
   "outputs": [
    {
     "data": {
      "image/png": "[encoded data removed]",
      "text/plain": [
       "<matplotlib.figure.Figure at 0x1a12dcc828>"
      ]
     },
     "metadata": {},
     "output_type": "display_data"
    }
   ],
   "source": [
    "#Age vs Purchase Amount\n",
    "sns.regplot(x=purchases['age'], y=purchases['purch_amt'])\n",
    "plt.show()"
   ]
  },
  {
   "cell_type": "code",
   "execution_count": 19,
   "metadata": {},
   "outputs": [
    {
     "data": {
      "image/png": "[encoded data removed]",
      "text/plain": [
       "<matplotlib.figure.Figure at 0x1a12d85278>"
      ]
     },
     "metadata": {},
     "output_type": "display_data"
    }
   ],
   "source": [
    "#Age vs. Days Since Last Purchase\n",
    "sns.regplot(x=purchases['age'], y=purchases['days_since_last_purch'])\n",
    "plt.show()"
   ]
  },
  {
   "cell_type": "code",
   "execution_count": 21,
   "metadata": {},
   "outputs": [
    {
     "data": {
      "image/png": "[encoded data removed]",
      "text/plain": [
       "<matplotlib.figure.Figure at 0x1a1d7e99b0>"
      ]
     },
     "metadata": {},
     "output_type": "display_data"
    }
   ],
   "source": [
    "# Days Since Last Purchase - Loyalty, No Loyalty\n",
    "\n",
    "plt.figure(figsize=[8,5])\n",
    "ax = sns.boxplot(x='loyalty',y='days_since_last_purch', data=purchases, palette='pastel')  \n",
    "plt.title('Days Since Last Purchase by Loyalty')\n",
    "sns.despine(offset=10, trim=True)\n",
    "ax.set(xlabel='Loyalty', ylabel='Days Since Last Purchase')\n",
    "plt.show()"
   ]
  },
  {
   "cell_type": "code",
   "execution_count": 22,
   "metadata": {},
   "outputs": [
    {
     "data": {
      "image/png": "[encoded data removed]",
      "text/plain": [
       "<matplotlib.figure.Figure at 0x1a11d801d0>"
      ]
     },
     "metadata": {},
     "output_type": "display_data"
    }
   ],
   "source": [
    "#Purchase Amount - Loyalty, No Loyalty\n",
    "\n",
    "plt.figure(figsize=[8,5])\n",
    "ax = sns.boxplot(x='loyalty',y='purch_amt', data=purchases, palette='pastel')  \n",
    "plt.title('Purchase Amount by Loyalty')\n",
    "sns.despine(offset=10, trim=True)\n",
    "ax.set(xlabel='Loyalty', ylabel='Purchase Amount')\n",
    "plt.show()"
   ]
  },
  {
   "cell_type": "code",
   "execution_count": 23,
   "metadata": {},
   "outputs": [
    {
     "data": {
      "image/png": "[encoded data removed]",
      "text/plain": [
       "<matplotlib.figure.Figure at 0x105f2a470>"
      ]
     },
     "metadata": {},
     "output_type": "display_data"
    }
   ],
   "source": [
    "sns.countplot(x='loyalty', hue='card_on_file', data=purchases)\n",
    "plt.show()"
   ]
  },
  {
   "cell_type": "code",
   "execution_count": 27,
   "metadata": {},
   "outputs": [
    {
     "data": {
      "image/png": "[encoded data removed]",
      "text/plain": [
       "<matplotlib.figure.Figure at 0x1a12d58080>"
      ]
     },
     "metadata": {},
     "output_type": "display_data"
    }
   ],
   "source": [
    "#For Men/Women, Average Purchase Amount, Days Since Last Purchase, and Age\n",
    "\n",
    "summary_gender = purchases[['gender', 'age', 'purch_amt', 'days_since_last_purch']].groupby('gender').mean()\n",
    "\n",
    "#Set plot preferences and show plot\n",
    "summary_gender.plot.bar(figsize=(30, 10))\n",
    "plt.legend(fontsize=20)\n",
    "plt.title('Average Statistics by Gender', fontsize=33)\n",
    "plt.xlabel('Gender', fontsize=25)\n",
    "plt.ylabel('Average', fontsize=25)\n",
    "plt.xticks(fontsize=22, rotation='horizontal')\n",
    "plt.yticks(fontsize=22)\n",
    "plt.show()"
   ]
  },
  {
   "cell_type": "code",
   "execution_count": 28,
   "metadata": {},
   "outputs": [
    {
     "data": {
      "image/png": "[encoded data removed]",
      "text/plain": [
       "<matplotlib.figure.Figure at 0x1077380f0>"
      ]
     },
     "metadata": {},
     "output_type": "display_data"
    }
   ],
   "source": [
    "#For Loyalty/No Loyalty, Average Purchase Amount, Days Since Last Purchase, and Age\n",
    "\n",
    "summary_loyalty = purchases[['loyalty', 'age', 'purch_amt', 'days_since_last_purch']].groupby('loyalty').mean()\n",
    "\n",
    "#Set plot preferences and show plot\n",
    "summary_loyalty.plot.bar(figsize=(30, 10))\n",
    "plt.legend(fontsize=20)\n",
    "plt.title('Average Statistics by Loyalty', fontsize=33)\n",
    "plt.xlabel('Loyalty', fontsize=25)\n",
    "plt.ylabel('Average', fontsize=25)\n",
    "plt.xticks(fontsize=22, rotation='horizontal')\n",
    "plt.yticks(fontsize=22)\n",
    "plt.show()"
   ]
  },
  {
   "cell_type": "markdown",
   "metadata": {},
   "source": [
    "## Data Cleaning"
   ]
  },
  {
   "cell_type": "code",
   "execution_count": 12,
   "metadata": {},
   "outputs": [
    {
     "name": "stdout",
     "output_type": "stream",
     "text": [
      "purch_amt                0\n",
      "gender                   0\n",
      "card_on_file             0\n",
      "age                      0\n",
      "days_since_last_purch    0\n",
      "loyalty                  0\n",
      "dtype: int64\n"
     ]
    }
   ],
   "source": [
    "#Find Missing Data by Column\n",
    "missing_values_count = purchases.isnull().sum()\n",
    "print(missing_values_count)"
   ]
  },
  {
   "cell_type": "code",
   "execution_count": 4,
   "metadata": {},
   "outputs": [],
   "source": [
    "#Remove ID column, not necessary\n",
    "purchases = purchases.drop(purchases.columns[0], axis=1)"
   ]
  },
  {
   "cell_type": "code",
   "execution_count": 30,
   "metadata": {},
   "outputs": [
    {
     "name": "stdout",
     "output_type": "stream",
     "text": [
      "For days since last purchase, remove data less than 23.0 and greater than 90.0\n",
      "For age, remove data less than 5.0 and greater than 47.0\n",
      "For purchase amount, remove data less than 2.19 and greater than 86.16\n"
     ]
    }
   ],
   "source": [
    "#Remove negative numbers from columns - age, purchase amount, days since last purchase\n",
    "days_since_lower = round(purchases.days_since_last_purch.quantile(0.02), 2)\n",
    "days_since_upper = round(purchases.days_since_last_purch.quantile(0.98), 2)\n",
    "\n",
    "age_lower = round(purchases.age.quantile(0.02), 2)\n",
    "age_upper = round(purchases.age.quantile(0.98), 2)\n",
    "\n",
    "purch_amt_lower = round(purchases.purch_amt.quantile(0.02), 2)\n",
    "purch_amt_upper = round(purchases.purch_amt.quantile(0.98), 2)\n",
    "\n",
    "print('For days since last purchase, remove data less than {} and greater than {}'.format(days_since_lower, days_since_upper))\n",
    "print('For age, remove data less than {} and greater than {}'.format(age_lower, age_upper))\n",
    "print('For purchase amount, remove data less than {} and greater than {}'.format(purch_amt_lower, purch_amt_upper))"
   ]
  },
  {
   "cell_type": "code",
   "execution_count": 33,
   "metadata": {},
   "outputs": [],
   "source": [
    "#Make changes to days since last purch\n",
    "purchases = purchases[purchases['days_since_last_purch'] >= 23.0]\n",
    "purchases = purchases[purchases['days_since_last_purch'] <= 90.0]"
   ]
  },
  {
   "cell_type": "code",
   "execution_count": 35,
   "metadata": {},
   "outputs": [],
   "source": [
    "#Make changes to age\n",
    "purchases = purchases[purchases['age'] >= 5.0]"
   ]
  },
  {
   "cell_type": "code",
   "execution_count": 36,
   "metadata": {},
   "outputs": [],
   "source": [
    "#Make changes to purchase amount\n",
    "purchases = purchases[purchases['purch_amt'] >= 2.19]"
   ]
  },
  {
   "cell_type": "markdown",
   "metadata": {},
   "source": [
    "## Feature Engineering"
   ]
  },
  {
   "cell_type": "code",
   "execution_count": 37,
   "metadata": {},
   "outputs": [
    {
     "data": {
      "text/html": [
       "<div>\n",
       "<style scoped>\n",
       "    .dataframe tbody tr th:only-of-type {\n",
       "        vertical-align: middle;\n",
       "    }\n",
       "\n",
       "    .dataframe tbody tr th {\n",
       "        vertical-align: top;\n",
       "    }\n",
       "\n",
       "    .dataframe thead th {\n",
       "        text-align: right;\n",
       "    }\n",
       "</style>\n",
       "<table border=\"1\" class=\"dataframe\">\n",
       "  <thead>\n",
       "    <tr style=\"text-align: right;\">\n",
       "      <th></th>\n",
       "      <th>purch_amt</th>\n",
       "      <th>age</th>\n",
       "      <th>days_since_last_purch</th>\n",
       "    </tr>\n",
       "  </thead>\n",
       "  <tbody>\n",
       "    <tr>\n",
       "      <th>count</th>\n",
       "      <td>111380.000000</td>\n",
       "      <td>111380.000000</td>\n",
       "      <td>111380.000000</td>\n",
       "    </tr>\n",
       "    <tr>\n",
       "      <th>mean</th>\n",
       "      <td>44.968928</td>\n",
       "      <td>26.211268</td>\n",
       "      <td>56.608754</td>\n",
       "    </tr>\n",
       "    <tr>\n",
       "      <th>std</th>\n",
       "      <td>19.384198</td>\n",
       "      <td>9.653660</td>\n",
       "      <td>14.870534</td>\n",
       "    </tr>\n",
       "    <tr>\n",
       "      <th>min</th>\n",
       "      <td>2.190000</td>\n",
       "      <td>5.000000</td>\n",
       "      <td>23.000000</td>\n",
       "    </tr>\n",
       "    <tr>\n",
       "      <th>25%</th>\n",
       "      <td>31.117500</td>\n",
       "      <td>19.000000</td>\n",
       "      <td>46.000000</td>\n",
       "    </tr>\n",
       "    <tr>\n",
       "      <th>50%</th>\n",
       "      <td>44.430000</td>\n",
       "      <td>26.000000</td>\n",
       "      <td>57.000000</td>\n",
       "    </tr>\n",
       "    <tr>\n",
       "      <th>75%</th>\n",
       "      <td>58.060000</td>\n",
       "      <td>33.000000</td>\n",
       "      <td>67.000000</td>\n",
       "    </tr>\n",
       "    <tr>\n",
       "      <th>max</th>\n",
       "      <td>142.200000</td>\n",
       "      <td>71.000000</td>\n",
       "      <td>90.000000</td>\n",
       "    </tr>\n",
       "  </tbody>\n",
       "</table>\n",
       "</div>"
      ],
      "text/plain": [
       "           purch_amt            age  days_since_last_purch\n",
       "count  111380.000000  111380.000000          111380.000000\n",
       "mean       44.968928      26.211268              56.608754\n",
       "std        19.384198       9.653660              14.870534\n",
       "min         2.190000       5.000000              23.000000\n",
       "25%        31.117500      19.000000              46.000000\n",
       "50%        44.430000      26.000000              57.000000\n",
       "75%        58.060000      33.000000              67.000000\n",
       "max       142.200000      71.000000              90.000000"
      ]
     },
     "execution_count": 37,
     "metadata": {},
     "output_type": "execute_result"
    }
   ],
   "source": [
    "#Quick look at our numeric features after cleaning\n",
    "purchases.describe()"
   ]
  },
  {
   "cell_type": "code",
   "execution_count": 38,
   "metadata": {},
   "outputs": [],
   "source": [
    "#Add new features (recent purchase, large purchase, purch_amt squared)\n",
    "purchases['recent_purchase'] = np.where((purchases['days_since_last_purch'] < 57.0), 1, 0)\n",
    "purchases['large_purchase'] = np.where((purchases['purch_amt'] > 44.43), 1, 0)\n",
    "purchases['purch_amt_squared'] = purchases['purch_amt']**2"
   ]
  },
  {
   "cell_type": "code",
   "execution_count": 39,
   "metadata": {},
   "outputs": [
    {
     "data": {
      "text/html": [
       "<div>\n",
       "<style scoped>\n",
       "    .dataframe tbody tr th:only-of-type {\n",
       "        vertical-align: middle;\n",
       "    }\n",
       "\n",
       "    .dataframe tbody tr th {\n",
       "        vertical-align: top;\n",
       "    }\n",
       "\n",
       "    .dataframe thead th {\n",
       "        text-align: right;\n",
       "    }\n",
       "</style>\n",
       "<table border=\"1\" class=\"dataframe\">\n",
       "  <thead>\n",
       "    <tr style=\"text-align: right;\">\n",
       "      <th></th>\n",
       "      <th>purch_amt</th>\n",
       "      <th>gender</th>\n",
       "      <th>card_on_file</th>\n",
       "      <th>age</th>\n",
       "      <th>days_since_last_purch</th>\n",
       "      <th>loyalty</th>\n",
       "      <th>recent_purchase</th>\n",
       "      <th>large_purchase</th>\n",
       "      <th>purch_amt_squared</th>\n",
       "    </tr>\n",
       "  </thead>\n",
       "  <tbody>\n",
       "    <tr>\n",
       "      <th>0</th>\n",
       "      <td>19.58</td>\n",
       "      <td>male</td>\n",
       "      <td>no</td>\n",
       "      <td>31.0</td>\n",
       "      <td>35.0</td>\n",
       "      <td>False</td>\n",
       "      <td>1</td>\n",
       "      <td>0</td>\n",
       "      <td>383.3764</td>\n",
       "    </tr>\n",
       "    <tr>\n",
       "      <th>1</th>\n",
       "      <td>65.16</td>\n",
       "      <td>male</td>\n",
       "      <td>yes</td>\n",
       "      <td>23.0</td>\n",
       "      <td>61.0</td>\n",
       "      <td>False</td>\n",
       "      <td>0</td>\n",
       "      <td>1</td>\n",
       "      <td>4245.8256</td>\n",
       "    </tr>\n",
       "    <tr>\n",
       "      <th>2</th>\n",
       "      <td>40.60</td>\n",
       "      <td>female</td>\n",
       "      <td>no</td>\n",
       "      <td>36.0</td>\n",
       "      <td>49.0</td>\n",
       "      <td>False</td>\n",
       "      <td>1</td>\n",
       "      <td>0</td>\n",
       "      <td>1648.3600</td>\n",
       "    </tr>\n",
       "    <tr>\n",
       "      <th>3</th>\n",
       "      <td>38.01</td>\n",
       "      <td>male</td>\n",
       "      <td>yes</td>\n",
       "      <td>47.0</td>\n",
       "      <td>57.0</td>\n",
       "      <td>False</td>\n",
       "      <td>0</td>\n",
       "      <td>0</td>\n",
       "      <td>1444.7601</td>\n",
       "    </tr>\n",
       "    <tr>\n",
       "      <th>4</th>\n",
       "      <td>22.32</td>\n",
       "      <td>female</td>\n",
       "      <td>yes</td>\n",
       "      <td>5.0</td>\n",
       "      <td>39.0</td>\n",
       "      <td>False</td>\n",
       "      <td>1</td>\n",
       "      <td>0</td>\n",
       "      <td>498.1824</td>\n",
       "    </tr>\n",
       "    <tr>\n",
       "      <th>5</th>\n",
       "      <td>39.66</td>\n",
       "      <td>female</td>\n",
       "      <td>no</td>\n",
       "      <td>6.0</td>\n",
       "      <td>79.0</td>\n",
       "      <td>False</td>\n",
       "      <td>0</td>\n",
       "      <td>0</td>\n",
       "      <td>1572.9156</td>\n",
       "    </tr>\n",
       "    <tr>\n",
       "      <th>6</th>\n",
       "      <td>43.96</td>\n",
       "      <td>male</td>\n",
       "      <td>yes</td>\n",
       "      <td>36.0</td>\n",
       "      <td>64.0</td>\n",
       "      <td>False</td>\n",
       "      <td>0</td>\n",
       "      <td>0</td>\n",
       "      <td>1932.4816</td>\n",
       "    </tr>\n",
       "    <tr>\n",
       "      <th>7</th>\n",
       "      <td>6.09</td>\n",
       "      <td>female</td>\n",
       "      <td>yes</td>\n",
       "      <td>36.0</td>\n",
       "      <td>67.0</td>\n",
       "      <td>False</td>\n",
       "      <td>0</td>\n",
       "      <td>0</td>\n",
       "      <td>37.0881</td>\n",
       "    </tr>\n",
       "    <tr>\n",
       "      <th>8</th>\n",
       "      <td>25.89</td>\n",
       "      <td>female</td>\n",
       "      <td>no</td>\n",
       "      <td>28.0</td>\n",
       "      <td>53.0</td>\n",
       "      <td>False</td>\n",
       "      <td>1</td>\n",
       "      <td>0</td>\n",
       "      <td>670.2921</td>\n",
       "    </tr>\n",
       "    <tr>\n",
       "      <th>9</th>\n",
       "      <td>93.63</td>\n",
       "      <td>female</td>\n",
       "      <td>no</td>\n",
       "      <td>40.0</td>\n",
       "      <td>47.0</td>\n",
       "      <td>True</td>\n",
       "      <td>1</td>\n",
       "      <td>1</td>\n",
       "      <td>8766.5769</td>\n",
       "    </tr>\n",
       "  </tbody>\n",
       "</table>\n",
       "</div>"
      ],
      "text/plain": [
       "   purch_amt  gender card_on_file   age  days_since_last_purch  loyalty  \\\n",
       "0      19.58    male           no  31.0                   35.0    False   \n",
       "1      65.16    male          yes  23.0                   61.0    False   \n",
       "2      40.60  female           no  36.0                   49.0    False   \n",
       "3      38.01    male          yes  47.0                   57.0    False   \n",
       "4      22.32  female          yes   5.0                   39.0    False   \n",
       "5      39.66  female           no   6.0                   79.0    False   \n",
       "6      43.96    male          yes  36.0                   64.0    False   \n",
       "7       6.09  female          yes  36.0                   67.0    False   \n",
       "8      25.89  female           no  28.0                   53.0    False   \n",
       "9      93.63  female           no  40.0                   47.0     True   \n",
       "\n",
       "   recent_purchase  large_purchase  purch_amt_squared  \n",
       "0                1               0           383.3764  \n",
       "1                0               1          4245.8256  \n",
       "2                1               0          1648.3600  \n",
       "3                0               0          1444.7601  \n",
       "4                1               0           498.1824  \n",
       "5                0               0          1572.9156  \n",
       "6                0               0          1932.4816  \n",
       "7                0               0            37.0881  \n",
       "8                1               0           670.2921  \n",
       "9                1               1          8766.5769  "
      ]
     },
     "execution_count": 39,
     "metadata": {},
     "output_type": "execute_result"
    }
   ],
   "source": [
    "purchases.head(10)"
   ]
  },
  {
   "cell_type": "code",
   "execution_count": 44,
   "metadata": {},
   "outputs": [],
   "source": [
    "#Binarize categoricals\n",
    "purchases['gender'] = np.where((purchases['gender'] == 'male'), 1, 0)\n",
    "purchases['card_on_file'] = np.where((purchases['card_on_file'] == 'yes'), 1, 0)\n",
    "purchases['loyalty'] = np.where((purchases['loyalty'] == True), 1, 0)"
   ]
  },
  {
   "cell_type": "code",
   "execution_count": 45,
   "metadata": {},
   "outputs": [
    {
     "data": {
      "text/html": [
       "<div>\n",
       "<style scoped>\n",
       "    .dataframe tbody tr th:only-of-type {\n",
       "        vertical-align: middle;\n",
       "    }\n",
       "\n",
       "    .dataframe tbody tr th {\n",
       "        vertical-align: top;\n",
       "    }\n",
       "\n",
       "    .dataframe thead th {\n",
       "        text-align: right;\n",
       "    }\n",
       "</style>\n",
       "<table border=\"1\" class=\"dataframe\">\n",
       "  <thead>\n",
       "    <tr style=\"text-align: right;\">\n",
       "      <th></th>\n",
       "      <th>purch_amt</th>\n",
       "      <th>gender</th>\n",
       "      <th>card_on_file</th>\n",
       "      <th>age</th>\n",
       "      <th>days_since_last_purch</th>\n",
       "      <th>loyalty</th>\n",
       "      <th>recent_purchase</th>\n",
       "      <th>large_purchase</th>\n",
       "      <th>purch_amt_squared</th>\n",
       "    </tr>\n",
       "  </thead>\n",
       "  <tbody>\n",
       "    <tr>\n",
       "      <th>0</th>\n",
       "      <td>19.58</td>\n",
       "      <td>1</td>\n",
       "      <td>0</td>\n",
       "      <td>31.0</td>\n",
       "      <td>35.0</td>\n",
       "      <td>0</td>\n",
       "      <td>1</td>\n",
       "      <td>0</td>\n",
       "      <td>383.3764</td>\n",
       "    </tr>\n",
       "    <tr>\n",
       "      <th>1</th>\n",
       "      <td>65.16</td>\n",
       "      <td>1</td>\n",
       "      <td>1</td>\n",
       "      <td>23.0</td>\n",
       "      <td>61.0</td>\n",
       "      <td>0</td>\n",
       "      <td>0</td>\n",
       "      <td>1</td>\n",
       "      <td>4245.8256</td>\n",
       "    </tr>\n",
       "    <tr>\n",
       "      <th>2</th>\n",
       "      <td>40.60</td>\n",
       "      <td>0</td>\n",
       "      <td>0</td>\n",
       "      <td>36.0</td>\n",
       "      <td>49.0</td>\n",
       "      <td>0</td>\n",
       "      <td>1</td>\n",
       "      <td>0</td>\n",
       "      <td>1648.3600</td>\n",
       "    </tr>\n",
       "    <tr>\n",
       "      <th>3</th>\n",
       "      <td>38.01</td>\n",
       "      <td>1</td>\n",
       "      <td>1</td>\n",
       "      <td>47.0</td>\n",
       "      <td>57.0</td>\n",
       "      <td>0</td>\n",
       "      <td>0</td>\n",
       "      <td>0</td>\n",
       "      <td>1444.7601</td>\n",
       "    </tr>\n",
       "    <tr>\n",
       "      <th>4</th>\n",
       "      <td>22.32</td>\n",
       "      <td>0</td>\n",
       "      <td>1</td>\n",
       "      <td>5.0</td>\n",
       "      <td>39.0</td>\n",
       "      <td>0</td>\n",
       "      <td>1</td>\n",
       "      <td>0</td>\n",
       "      <td>498.1824</td>\n",
       "    </tr>\n",
       "    <tr>\n",
       "      <th>5</th>\n",
       "      <td>39.66</td>\n",
       "      <td>0</td>\n",
       "      <td>0</td>\n",
       "      <td>6.0</td>\n",
       "      <td>79.0</td>\n",
       "      <td>0</td>\n",
       "      <td>0</td>\n",
       "      <td>0</td>\n",
       "      <td>1572.9156</td>\n",
       "    </tr>\n",
       "    <tr>\n",
       "      <th>6</th>\n",
       "      <td>43.96</td>\n",
       "      <td>1</td>\n",
       "      <td>1</td>\n",
       "      <td>36.0</td>\n",
       "      <td>64.0</td>\n",
       "      <td>0</td>\n",
       "      <td>0</td>\n",
       "      <td>0</td>\n",
       "      <td>1932.4816</td>\n",
       "    </tr>\n",
       "    <tr>\n",
       "      <th>7</th>\n",
       "      <td>6.09</td>\n",
       "      <td>0</td>\n",
       "      <td>1</td>\n",
       "      <td>36.0</td>\n",
       "      <td>67.0</td>\n",
       "      <td>0</td>\n",
       "      <td>0</td>\n",
       "      <td>0</td>\n",
       "      <td>37.0881</td>\n",
       "    </tr>\n",
       "    <tr>\n",
       "      <th>8</th>\n",
       "      <td>25.89</td>\n",
       "      <td>0</td>\n",
       "      <td>0</td>\n",
       "      <td>28.0</td>\n",
       "      <td>53.0</td>\n",
       "      <td>0</td>\n",
       "      <td>1</td>\n",
       "      <td>0</td>\n",
       "      <td>670.2921</td>\n",
       "    </tr>\n",
       "    <tr>\n",
       "      <th>9</th>\n",
       "      <td>93.63</td>\n",
       "      <td>0</td>\n",
       "      <td>0</td>\n",
       "      <td>40.0</td>\n",
       "      <td>47.0</td>\n",
       "      <td>1</td>\n",
       "      <td>1</td>\n",
       "      <td>1</td>\n",
       "      <td>8766.5769</td>\n",
       "    </tr>\n",
       "  </tbody>\n",
       "</table>\n",
       "</div>"
      ],
      "text/plain": [
       "   purch_amt  gender  card_on_file   age  days_since_last_purch  loyalty  \\\n",
       "0      19.58       1             0  31.0                   35.0        0   \n",
       "1      65.16       1             1  23.0                   61.0        0   \n",
       "2      40.60       0             0  36.0                   49.0        0   \n",
       "3      38.01       1             1  47.0                   57.0        0   \n",
       "4      22.32       0             1   5.0                   39.0        0   \n",
       "5      39.66       0             0   6.0                   79.0        0   \n",
       "6      43.96       1             1  36.0                   64.0        0   \n",
       "7       6.09       0             1  36.0                   67.0        0   \n",
       "8      25.89       0             0  28.0                   53.0        0   \n",
       "9      93.63       0             0  40.0                   47.0        1   \n",
       "\n",
       "   recent_purchase  large_purchase  purch_amt_squared  \n",
       "0                1               0           383.3764  \n",
       "1                0               1          4245.8256  \n",
       "2                1               0          1648.3600  \n",
       "3                0               0          1444.7601  \n",
       "4                1               0           498.1824  \n",
       "5                0               0          1572.9156  \n",
       "6                0               0          1932.4816  \n",
       "7                0               0            37.0881  \n",
       "8                1               0           670.2921  \n",
       "9                1               1          8766.5769  "
      ]
     },
     "execution_count": 45,
     "metadata": {},
     "output_type": "execute_result"
    }
   ],
   "source": [
    "#Final look at df before model building\n",
    "purchases.head(10)"
   ]
  },
  {
   "cell_type": "markdown",
   "metadata": {},
   "source": [
    "## Model Building"
   ]
  },
  {
   "cell_type": "code",
   "execution_count": 51,
   "metadata": {},
   "outputs": [
    {
     "name": "stdout",
     "output_type": "stream",
     "text": [
      "Baseline accuracy for Loyalty is: 16.27%\n"
     ]
    }
   ],
   "source": [
    "#Calculate baseline accuracy for Loyalty\n",
    "loyalty = purchases['loyalty'].sum()\n",
    "print('Baseline accuracy for Loyalty is: ' + str(round((loyalty/purchases.shape[0])*100, 2)) + '%')"
   ]
  },
  {
   "cell_type": "code",
   "execution_count": 52,
   "metadata": {},
   "outputs": [],
   "source": [
    "#Establish X and Y\n",
    "X = purchases.drop(['loyalty'], 1)\n",
    "Y = purchases.loyalty"
   ]
  },
  {
   "cell_type": "code",
   "execution_count": 53,
   "metadata": {},
   "outputs": [],
   "source": [
    "#Create function for tuning parameters\n",
    "def tuned_params(model):\n",
    "        if model == 'KNN':\n",
    "                KNN = np.arange(1, 501, 100)\n",
    "                KNN_df = pd.DataFrame()\n",
    "                for i in KNN:\n",
    "                    KNN_model = KNeighborsClassifier(n_neighbors=i, weights='distance')\n",
    "                    KNN_model.fit(X, Y)\n",
    "                    positive_pred = KNN_model.predict(X)\n",
    "                    cross_val = cross_val_score(KNN_model, X, Y, cv=5).mean()*100\n",
    "                    score = KNN_model.score(X, Y)*100\n",
    "                    KNN_df_temp = pd.DataFrame({'K': i, 'training': score, 'test': cross_val}, index=[0])\n",
    "                    KNN_df = KNN_df.append(KNN_df_temp)\n",
    "                plt.plot(KNN_df['K'], KNN_df['training'], color = 'r', linewidth = 3, label='Training')\n",
    "                plt.plot(KNN_df['K'], KNN_df['test'], color = 'b', linewidth = 3, label='Test')\n",
    "                plt.xlabel('K Parameter')\n",
    "                plt.title('KNN - Training vs. Test')\n",
    "                plt.show()\n",
    "                \n",
    "        elif model == 'Random Forest':\n",
    "                random_forest = np.arange(100, 500, 100)\n",
    "                random_forest_df = pd.DataFrame()\n",
    "                for i in random_forest:\n",
    "                    rfc = ensemble.RandomForestClassifier(n_estimators=i)\n",
    "                    rfc.fit(X, Y)\n",
    "                    positive_pred = rfc.predict(X)\n",
    "                    cross_val = cross_val_score(rfc, X, Y, cv=5).mean()*100\n",
    "                    score = rfc.score(X, Y)*100\n",
    "                    random_forest_df_temp = pd.DataFrame({'estimators': i, 'training': score, 'test': cross_val}, index=[0])\n",
    "                    random_forest_df = random_forest_df.append(random_forest_df_temp)\n",
    "                plt.plot(random_forest_df['estimators'], random_forest_df['training'], color = 'r', linewidth = 3, label='Training')\n",
    "                plt.plot(random_forest_df['estimators'], random_forest_df['test'], color = 'b', linewidth = 3, label='Test')\n",
    "                plt.xlabel('Estimators Parameter')\n",
    "                plt.title('Random Forest - Training vs. Test')\n",
    "                plt.show()\n",
    "        \n",
    "        elif model == 'Lasso':\n",
    "                lasso = np.arange(0.2, 1.0, 0.2)\n",
    "                lasso_df = pd.DataFrame()\n",
    "                for i in lasso:\n",
    "                    lr_lasso = LogisticRegression(penalty='l1', C=i)\n",
    "                    lr_lasso.fit(X, Y)\n",
    "                    positive_pred = lr_lasso.predict(X)\n",
    "                    cross_val = cross_val_score(lr_lasso, X, Y, cv=5).mean()*100\n",
    "                    score = lr_lasso.score(X, Y)*100\n",
    "                    lasso_df_temp = pd.DataFrame({'C': i, 'training': score, 'test': cross_val}, index=[0])\n",
    "                    lasso_df = lasso_df.append(lasso_df_temp)\n",
    "                plt.plot(lasso_df['C'], lasso_df['training'], color = 'r', linewidth = 3, label='Training')\n",
    "                plt.plot(lasso_df['C'], lasso_df['test'], color = 'b', linewidth = 3, label='Test')\n",
    "                plt.xlabel('C Parameter')\n",
    "                plt.title('Lasso - Training vs. Test')\n",
    "                plt.show()\n",
    "            \n",
    "        elif model == 'Ridge':\n",
    "                ridge = np.arange(1, 5001, 1000)\n",
    "                ridge_df = pd.DataFrame()\n",
    "                for i in ridge:\n",
    "                    lr_ridge = LogisticRegression(C=i)\n",
    "                    lr_ridge.fit(X, Y)\n",
    "                    positive_pred = lr_ridge.predict(X)\n",
    "                    cross_val = cross_val_score(lr_ridge, X, Y, cv=5).mean()*100\n",
    "                    score = lr_ridge.score(X, Y)*100\n",
    "                    ridge_df_temp = pd.DataFrame({'C': i, 'training': score, 'test': cross_val}, index=[0])\n",
    "                    ridge_df = ridge_df.append(ridge_df_temp)\n",
    "                plt.plot(ridge_df['C'], ridge_df['training'], color = 'r', linewidth = 3, label='Training')\n",
    "                plt.plot(ridge_df['C'], ridge_df['test'], color = 'b', linewidth = 3, label='Test')\n",
    "                plt.xlabel('C Parameter')\n",
    "                plt.title('Ridge - Training vs. Test')\n",
    "                plt.show()\n",
    "                \n",
    "        elif model == 'SVC':\n",
    "                svc = np.arange(0.2, 1.0, 0.2)\n",
    "                svc_df = pd.DataFrame()\n",
    "                for i in svc:\n",
    "                    svm = SVC(C=i)\n",
    "                    svm.fit(X, Y)\n",
    "                    positive_pred = svm.predict(X)\n",
    "                    cross_val = cross_val_score(svm, X, Y, cv=5).mean()*100\n",
    "                    score = svm.score(X, Y)*100\n",
    "                    svc_df_temp = pd.DataFrame({'C': i, 'training': score, 'test': cross_val}, index=[0])\n",
    "                    svc_df = svc_df.append(svc_df_temp)\n",
    "                plt.plot(svc_df['C'], svc_df['training'], color = 'r', linewidth = 3, label='Training')\n",
    "                plt.plot(svc_df['C'], svc_df['test'], color = 'b', linewidth = 3, label='Test')\n",
    "                plt.xlabel('C Parameter')\n",
    "                plt.title('SVC - Training vs. Test', fontsize=30)\n",
    "                plt.show()\n",
    "                \n",
    "        else:\n",
    "                grad_boost = np.arange(100, 500, 100)\n",
    "                grad_boost_df = pd.DataFrame()\n",
    "                for i in grad_boost:\n",
    "                    clf = ensemble.GradientBoostingClassifier(n_estimators=i)\n",
    "                    clf.fit(X, Y)\n",
    "                    positive_pred = clf.predict(X)\n",
    "                    cross_val = cross_val_score(clf, X, Y, cv=5).mean()*100\n",
    "                    score = clf.score(X, Y)*100\n",
    "                    grad_boost_df_temp = pd.DataFrame({'estimators': i, 'training': score, 'test': cross_val}, index=[0])\n",
    "                    grad_boost_df = grad_boost_df.append(grad_boost_df_temp)\n",
    "                plt.plot(grad_boost_df['estimators'], grad_boost_df['training'], color = 'r', linewidth = 3, label='Training')\n",
    "                plt.plot(grad_boost_df['estimators'], grad_boost_df['test'], color = 'b', linewidth = 3, label='Test')\n",
    "                plt.xlabel('Estimators Parameter')\n",
    "                plt.title('Gradient Boost - Training vs. Test')\n",
    "                plt.show()"
   ]
  },
  {
   "cell_type": "markdown",
   "metadata": {},
   "source": [
    "**Naive Bayes**"
   ]
  },
  {
   "cell_type": "code",
   "execution_count": null,
   "metadata": {},
   "outputs": [],
   "source": [
    "#Create Function\n",
    "\n",
    "def NB_Model(model):\n",
    "        import timeit\n",
    "        start = timeit.default_timer()\n",
    "        if model == 'Bernoulli':\n",
    "                NB_Model = BernoulliNB()\n",
    "                NB_Model.fit(X, Y)\n",
    "                positive_pred = NB_Model.predict(X)\n",
    "                print('\\n Percentage accuracy for Bernoulli Naive Bayes')\n",
    "        \n",
    "        elif model == 'Gaussian':\n",
    "                NB_Model = GaussianNB()\n",
    "                NB_Model.fit(X, Y)\n",
    "                positive_pred = NB_Model.predict(X)\n",
    "                print('\\n Percentage accuracy for Gaussian Naive Bayes')\n",
    "\n",
    "        else:\n",
    "                NB_Model = MultinomialNB()\n",
    "                NB_Model.fit(X, Y)\n",
    "                positive_pred = NB_Model.predict(X)\n",
    "                print('\\n Percentage accuracy for Multinomial Naive Bayes')\n",
    "            \n",
    "        print(str(NB_Model.score(X, Y)*100) + '%')\n",
    "        print('\\n Cross-Validation Score')\n",
    "        print(cross_val_score(NB_Model, X, Y, cv=5))\n",
    "        print('\\n Confusion Matrix')\n",
    "        display(confusion_matrix(Y, positive_pred))\n",
    "        \n",
    "        #Print time\n",
    "        stop = timeit.default_timer()\n",
    "        execution_time = stop - start\n",
    "        print(\"\\n\\n Program Executed in {}\".format(round(execution_time, 2)))"
   ]
  },
  {
   "cell_type": "code",
   "execution_count": null,
   "metadata": {},
   "outputs": [],
   "source": [
    "#Find Best Parameters\n",
    "tuned_params('Bernoulli')"
   ]
  },
  {
   "cell_type": "code",
   "execution_count": null,
   "metadata": {},
   "outputs": [],
   "source": [
    "#Run Model\n",
    "NB_Model()"
   ]
  },
  {
   "cell_type": "markdown",
   "metadata": {},
   "source": [
    "**K-Nearest Neighbors**"
   ]
  },
  {
   "cell_type": "code",
   "execution_count": 30,
   "metadata": {},
   "outputs": [],
   "source": [
    "#Create function\n",
    "\n",
    "def KNN_Model(k, weight):\n",
    "    import timeit\n",
    "    start = timeit.default_timer()\n",
    "    KNN = KNeighborsClassifier(n_neighbors=k, weights=weight)\n",
    "    KNN.fit(X, Y)\n",
    "    positive_pred = KNN.predict(X)\n",
    "    print('\\n Percentage accuracy for K Nearest Neighbors Classifier')\n",
    "    print(str(KNN.score(X, Y)*100) + '%')\n",
    "    print('\\n Cross-Validation Score')\n",
    "    print(cross_val_score(KNN, X, Y, cv=5)\n",
    "    print('\\n Confusion Matrix')\n",
    "    display(confusion_matrix(Y, positive_pred))\n",
    "    \n",
    "    #Print time\n",
    "    stop = timeit.default_timer()\n",
    "    execution_time = stop - start\n",
    "    print(\"\\n\\n Program Executed in {}\".format(round(execution_time, 2)))"
   ]
  },
  {
   "cell_type": "code",
   "execution_count": null,
   "metadata": {},
   "outputs": [],
   "source": [
    "#Find Best Parameters\n",
    "tuned_params('KNN')"
   ]
  },
  {
   "cell_type": "code",
   "execution_count": null,
   "metadata": {},
   "outputs": [],
   "source": [
    "#Run Model"
   ]
  },
  {
   "cell_type": "markdown",
   "metadata": {},
   "source": [
    "**Random Forest**"
   ]
  },
  {
   "cell_type": "code",
   "execution_count": 31,
   "metadata": {},
   "outputs": [],
   "source": [
    "#Create function\n",
    "\n",
    "def RFC_Model(trees, criteria, num_features, depth):\n",
    "    import timeit\n",
    "    start = timeit.default_timer()\n",
    "    rfc = ensemble.RandomForestClassifier(n_estimators=trees, criterion=criteria, max_features=num_features, max_depth=depth)\n",
    "    rfc.fit(X, Y)\n",
    "    positive_pred = rfc.predict(X)\n",
    "    print('\\n Percentage accuracy for Random Forest Classifier')\n",
    "    print(str(rfc.score(X, Y)*100) + '%')\n",
    "    print('\\n Cross-Validation Score')\n",
    "    print(cross_val_score(rfc, X, Y, cv=5))\n",
    "    print('\\n Confusion Matrix')\n",
    "    display(confusion_matrix(Y, positive_pred))\n",
    "    \n",
    "    #Print time\n",
    "    stop = timeit.default_timer()\n",
    "    execution_time = stop - start\n",
    "    print(\"\\n\\n Program Executed in {}\".format(round(execution_time, 2)))"
   ]
  },
  {
   "cell_type": "code",
   "execution_count": null,
   "metadata": {},
   "outputs": [],
   "source": [
    "#Find Best Parameters\n",
    "tuned_params('Random Forest')"
   ]
  },
  {
   "cell_type": "code",
   "execution_count": null,
   "metadata": {},
   "outputs": [],
   "source": [
    "#Run Model"
   ]
  },
  {
   "cell_type": "markdown",
   "metadata": {},
   "source": [
    "**Logistic Regression**"
   ]
  },
  {
   "cell_type": "code",
   "execution_count": 32,
   "metadata": {},
   "outputs": [],
   "source": [
    "#Create function\n",
    "\n",
    "def Logistic_Reg_Model(regularization, alpha):\n",
    "    import timeit\n",
    "    start = timeit.default_timer()\n",
    "    if regularization == 'l1':\n",
    "        lr_lasso = LogisticRegression(penalty=regularization, C=alpha)\n",
    "        lr_lasso.fit(X, Y)\n",
    "        positive_pred = lr_lasso.predict(X)\n",
    "        print('\\n Percentage accuracy for Lasso Logistic Regression')\n",
    "        print(str(lr_lasso.score(X, Y)*100) + '%')\n",
    "        print('\\n Cross-Validation Score')\n",
    "        print(cross_val_score(lr_lasso, X, Y, cv=5))\n",
    "        print('\\n Confusion Matrix')\n",
    "        display(confusion_matrix(Y, positive_pred))\n",
    "        \n",
    "    elif regularization == 'l2' and alpha == 1e9:\n",
    "        lr_regular = LogisticRegression(penalty=regularization, C=alpha)\n",
    "        lr_regular.fit(X, Y)\n",
    "        positive_pred = lr_regular.predict(X)\n",
    "        print('\\n Percentage accuracy for Logistic Regression')\n",
    "        print(str(lr_regular.score(X, Y)*100) + '%')\n",
    "        print('\\n Cross-Validation Score')\n",
    "        print(cross_val_score(lr_regular, X, Y, cv=5))\n",
    "        print('\\n Confusion Matrix')\n",
    "        display(confusion_matrix(Y, positive_pred))\n",
    "    else:\n",
    "        lr_ridge = LogisticRegression(penalty=regularization, C=alpha)\n",
    "        lr_ridge.fit(X, Y)\n",
    "        positive_pred = lr_ridge.predict(X)\n",
    "        print('\\n Percentage accuracy for Ridge Logistic Regression')\n",
    "        print(str(lr_ridge.score(X, Y)*100) + '%')\n",
    "        print('\\n Cross-Validation Score')\n",
    "        print(cross_val_score(lr_ridge, X, Y, cv=5))\n",
    "        print('\\n Confusion Matrix')\n",
    "        display(confusion_matrix(Y, positive_pred))\n",
    "        \n",
    "     #Print time\n",
    "    stop = timeit.default_timer()\n",
    "    execution_time = stop - start\n",
    "    print(\"\\n\\n Program Executed in {}\".format(round(execution_time, 2)))"
   ]
  },
  {
   "cell_type": "code",
   "execution_count": null,
   "metadata": {},
   "outputs": [],
   "source": [
    "#Find Best Params - Lasso\n",
    "tuned_params('Lasso')"
   ]
  },
  {
   "cell_type": "code",
   "execution_count": null,
   "metadata": {},
   "outputs": [],
   "source": [
    "#Find Best Params - Ridge\n",
    "tuned_params('Ridge')"
   ]
  },
  {
   "cell_type": "code",
   "execution_count": null,
   "metadata": {},
   "outputs": [],
   "source": [
    "#Run Lasso Model"
   ]
  },
  {
   "cell_type": "code",
   "execution_count": null,
   "metadata": {},
   "outputs": [],
   "source": [
    "#Run Ridge Model"
   ]
  },
  {
   "cell_type": "code",
   "execution_count": null,
   "metadata": {},
   "outputs": [],
   "source": [
    "#Run Regular Logistic Regression"
   ]
  },
  {
   "cell_type": "markdown",
   "metadata": {},
   "source": [
    "**Support Vector Classifier**"
   ]
  },
  {
   "cell_type": "code",
   "execution_count": 33,
   "metadata": {},
   "outputs": [],
   "source": [
    "#Create function\n",
    "\n",
    "def SVC_Model(c, kernel_type):\n",
    "    import timeit\n",
    "    start = timeit.default_timer()\n",
    "    svm = SVC(C=c, kernel=kernel_type)\n",
    "    svm.fit(X, Y)\n",
    "    positive_pred = svm.predict(X)\n",
    "    print('\\n Percentage accuracy for SVM')\n",
    "    print(str(svm.score(X, Y)*100) + '%')\n",
    "    print('\\n Cross-Validation Score')\n",
    "    print(cross_val_score(svm, X, Y, cv=5))\n",
    "    print('\\n Confusion Matrix')\n",
    "    display(confusion_matrix(Y, positive_pred))\n",
    "    \n",
    "    #Print time\n",
    "    stop = timeit.default_timer()\n",
    "    execution_time = stop - start\n",
    "    print(\"\\n\\n Program Executed in {}\".format(round(execution_time, 2)))\n",
    "    "
   ]
  },
  {
   "cell_type": "code",
   "execution_count": null,
   "metadata": {},
   "outputs": [],
   "source": [
    "#Find Best Parameters\n",
    "tuned_params('SVC')"
   ]
  },
  {
   "cell_type": "code",
   "execution_count": null,
   "metadata": {},
   "outputs": [],
   "source": [
    "#Run Model"
   ]
  },
  {
   "cell_type": "markdown",
   "metadata": {},
   "source": [
    "**Gradient Boosting**"
   ]
  },
  {
   "cell_type": "code",
   "execution_count": 34,
   "metadata": {},
   "outputs": [],
   "source": [
    "#Create function\n",
    "\n",
    "def Gradient_Boost_Model(estimators, depth, loss_function, sampling):\n",
    "    import timeit\n",
    "    start = timeit.default_timer()\n",
    "    clf = ensemble.GradientBoostingClassifier(n_estimators=estimators, max_depth=depth, loss=loss_function, subsample=sampling)\n",
    "    clf.fit(X, Y)\n",
    "    positive_pred = clf.predict(X)\n",
    "    print('\\n Percentage accuracy for Gradient Boosting Classifier')\n",
    "    print(str(clf.score(X, Y)*100) + '%')\n",
    "    print('\\n Cross-Validation Score')\n",
    "    print(cross_val_score(clf, X, Y, cv=5))\n",
    "    print('\\n Confusion Matrix')\n",
    "    display(confusion_matrix(Y, positive_pred))\n",
    "    \n",
    "    #Print time\n",
    "    stop = timeit.default_timer()\n",
    "    execution_time = stop - start\n",
    "    print(\"\\n\\n Program Executed in {}\".format(round(execution_time, 2)))"
   ]
  },
  {
   "cell_type": "code",
   "execution_count": null,
   "metadata": {},
   "outputs": [],
   "source": [
    "#Find Best Parameters\n",
    "tuned_params('GB')"
   ]
  },
  {
   "cell_type": "code",
   "execution_count": null,
   "metadata": {},
   "outputs": [],
   "source": [
    "#Run Model"
   ]
  },
  {
   "cell_type": "markdown",
   "metadata": {},
   "source": [
    "## Final Analysis and Results"
   ]
  }
 ],
 "metadata": {
  "kernelspec": {
   "display_name": "Python 3",
   "language": "python",
   "name": "python3"
  },
  "language_info": {
   "codemirror_mode": {
    "name": "ipython",
    "version": 3
   },
   "file_extension": ".py",
   "mimetype": "text/x-python",
   "name": "python",
   "nbconvert_exporter": "python",
   "pygments_lexer": "ipython3",
   "version": "3.6.4"
  }
 },
 "nbformat": 4,
 "nbformat_minor": 2
}
