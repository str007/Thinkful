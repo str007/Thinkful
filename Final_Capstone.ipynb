{
 "cells": [
  {
   "cell_type": "markdown",
   "metadata": {},
   "source": [
    "## Final Capstone"
   ]
  },
  {
   "cell_type": "markdown",
   "metadata": {},
   "source": [
    "For this final capstone project for the Thinkful Data Science Bootcamp, I will be exploring data related to Major League Baseball (MLB) attendance from 2016-2017. I will scrape data from www.baseball-reference.com in attempt to predict attendance for future games. This information would be extremely useful to MLB teams, as well as their supplier companies."
   ]
  },
  {
   "cell_type": "code",
   "execution_count": 136,
   "metadata": {},
   "outputs": [],
   "source": [
    "#Import necessary modules\n",
    "\n",
    "import requests\n",
    "from bs4 import BeautifulSoup\n",
    "import urllib.request\n",
    "import pandas as pd\n",
    "import numpy as np\n",
    "import matplotlib.pyplot as plt\n",
    "import seaborn as sns\n",
    "import scipy.stats as stats\n",
    "import statistics as stat\n",
    "from sklearn.preprocessing import LabelEncoder\n",
    "from sklearn.svm import SVR\n",
    "from sklearn.model_selection import cross_val_score\n",
    "from sklearn import neighbors\n",
    "from sklearn import ensemble\n",
    "from sklearn import linear_model\n",
    "from sklearn.linear_model import LogisticRegression\n",
    "from sklearn.svm import SVR\n",
    "from sklearn.svm import SVC\n",
    "from sklearn.neighbors import KNeighborsClassifier\n",
    "from sklearn.naive_bayes import BernoulliNB\n",
    "from sklearn import preprocessing\n",
    "from sklearn.metrics import confusion_matrix\n",
    "from sklearn.feature_selection import RFE\n",
    "from sklearn.decomposition import PCA\n",
    "from sklearn.preprocessing import normalize\n",
    "from sklearn.cluster import KMeans\n",
    "from sklearn.cluster import MeanShift, estimate_bandwidth\n",
    "\n",
    "\n",
    "%matplotlib inline"
   ]
  },
  {
   "cell_type": "markdown",
   "metadata": {},
   "source": [
    "## Scrape Data, Conduct General Cleaning"
   ]
  },
  {
   "cell_type": "code",
   "execution_count": 137,
   "metadata": {},
   "outputs": [],
   "source": [
    "#Create list of teams in order to run our loop on baseball-reference.com\n",
    "\n",
    "teams = ['ANA', 'ARI', 'ATL', 'BAL', 'BOS', 'CHC', 'CHW', 'CIN',\n",
    "       'CLE', 'COL', 'DET', 'FLA', 'HOU', 'KCR', 'LAA', 'LAD', 'MIA',\n",
    "       'MIL', 'MIN', 'MON', 'NYM', 'NYY', 'OAK', 'PHI', 'PIT', 'SDP',\n",
    "       'SEA', 'SFG', 'STL', 'TBD', 'TBR', 'TEX', 'TOR', 'WSN']"
   ]
  },
  {
   "cell_type": "code",
   "execution_count": 138,
   "metadata": {},
   "outputs": [
    {
     "name": "stdout",
     "output_type": "stream",
     "text": [
      "Shape of Dataframe is (10535, 18)\n"
     ]
    },
    {
     "data": {
      "text/html": [
       "<div>\n",
       "<style scoped>\n",
       "    .dataframe tbody tr th:only-of-type {\n",
       "        vertical-align: middle;\n",
       "    }\n",
       "\n",
       "    .dataframe tbody tr th {\n",
       "        vertical-align: top;\n",
       "    }\n",
       "\n",
       "    .dataframe thead th {\n",
       "        text-align: right;\n",
       "    }\n",
       "</style>\n",
       "<table border=\"1\" class=\"dataframe\">\n",
       "  <thead>\n",
       "    <tr style=\"text-align: right;\">\n",
       "      <th></th>\n",
       "      <th>day</th>\n",
       "      <th>date</th>\n",
       "      <th>team</th>\n",
       "      <th>home_away</th>\n",
       "      <th>opponent</th>\n",
       "      <th>WL</th>\n",
       "      <th>runs</th>\n",
       "      <th>runs_against</th>\n",
       "      <th>division_rank</th>\n",
       "      <th>GB</th>\n",
       "      <th>winning_pitcher</th>\n",
       "      <th>losing_pitcher</th>\n",
       "      <th>time</th>\n",
       "      <th>day_night</th>\n",
       "      <th>streak</th>\n",
       "      <th>year_num</th>\n",
       "      <th>attendance</th>\n",
       "      <th>win_percentage</th>\n",
       "    </tr>\n",
       "  </thead>\n",
       "  <tbody>\n",
       "    <tr>\n",
       "      <th>1</th>\n",
       "      <td>Monday</td>\n",
       "      <td>Apr 4</td>\n",
       "      <td>ARI</td>\n",
       "      <td></td>\n",
       "      <td>COL</td>\n",
       "      <td>L</td>\n",
       "      <td>5</td>\n",
       "      <td>10</td>\n",
       "      <td>4</td>\n",
       "      <td>1.0</td>\n",
       "      <td>Miller</td>\n",
       "      <td>Greinke</td>\n",
       "      <td>4:11</td>\n",
       "      <td>N</td>\n",
       "      <td>-</td>\n",
       "      <td>2016</td>\n",
       "      <td>48165.0</td>\n",
       "      <td>0.00</td>\n",
       "    </tr>\n",
       "    <tr>\n",
       "      <th>2</th>\n",
       "      <td>Tuesday</td>\n",
       "      <td>Apr 5</td>\n",
       "      <td>ARI</td>\n",
       "      <td></td>\n",
       "      <td>COL</td>\n",
       "      <td>W</td>\n",
       "      <td>11</td>\n",
       "      <td>6</td>\n",
       "      <td>3</td>\n",
       "      <td>1.0</td>\n",
       "      <td>Clippard</td>\n",
       "      <td>Bergman</td>\n",
       "      <td>3:14</td>\n",
       "      <td>N</td>\n",
       "      <td>+</td>\n",
       "      <td>2016</td>\n",
       "      <td>21830.0</td>\n",
       "      <td>0.50</td>\n",
       "    </tr>\n",
       "    <tr>\n",
       "      <th>3</th>\n",
       "      <td>Wednesday</td>\n",
       "      <td>Apr 6</td>\n",
       "      <td>ARI</td>\n",
       "      <td></td>\n",
       "      <td>COL</td>\n",
       "      <td>L</td>\n",
       "      <td>3</td>\n",
       "      <td>4</td>\n",
       "      <td>4</td>\n",
       "      <td>2.0</td>\n",
       "      <td>Chatwood</td>\n",
       "      <td>Corbin</td>\n",
       "      <td>2:39</td>\n",
       "      <td>D</td>\n",
       "      <td>-</td>\n",
       "      <td>2016</td>\n",
       "      <td>18572.0</td>\n",
       "      <td>0.33</td>\n",
       "    </tr>\n",
       "    <tr>\n",
       "      <th>4</th>\n",
       "      <td>Thursday</td>\n",
       "      <td>Apr 7</td>\n",
       "      <td>ARI</td>\n",
       "      <td></td>\n",
       "      <td>CHC</td>\n",
       "      <td>L</td>\n",
       "      <td>6</td>\n",
       "      <td>14</td>\n",
       "      <td>4</td>\n",
       "      <td>2.0</td>\n",
       "      <td>Lackey</td>\n",
       "      <td>De La Rosa</td>\n",
       "      <td>3:29</td>\n",
       "      <td>N</td>\n",
       "      <td>--</td>\n",
       "      <td>2016</td>\n",
       "      <td>24656.0</td>\n",
       "      <td>0.25</td>\n",
       "    </tr>\n",
       "    <tr>\n",
       "      <th>5</th>\n",
       "      <td>Friday</td>\n",
       "      <td>Apr 8</td>\n",
       "      <td>ARI</td>\n",
       "      <td></td>\n",
       "      <td>CHC</td>\n",
       "      <td>W-wo</td>\n",
       "      <td>3</td>\n",
       "      <td>2</td>\n",
       "      <td>4</td>\n",
       "      <td>2.0</td>\n",
       "      <td>Ziegler</td>\n",
       "      <td>Cahill</td>\n",
       "      <td>2:48</td>\n",
       "      <td>N</td>\n",
       "      <td>+</td>\n",
       "      <td>2016</td>\n",
       "      <td>27539.0</td>\n",
       "      <td>0.40</td>\n",
       "    </tr>\n",
       "    <tr>\n",
       "      <th>6</th>\n",
       "      <td>Saturday</td>\n",
       "      <td>Apr 9</td>\n",
       "      <td>ARI</td>\n",
       "      <td></td>\n",
       "      <td>CHC</td>\n",
       "      <td>L</td>\n",
       "      <td>2</td>\n",
       "      <td>4</td>\n",
       "      <td>5</td>\n",
       "      <td>2.0</td>\n",
       "      <td>Hendricks</td>\n",
       "      <td>Greinke</td>\n",
       "      <td>2:46</td>\n",
       "      <td>N</td>\n",
       "      <td>-</td>\n",
       "      <td>2016</td>\n",
       "      <td>32185.0</td>\n",
       "      <td>0.33</td>\n",
       "    </tr>\n",
       "    <tr>\n",
       "      <th>7</th>\n",
       "      <td>Sunday</td>\n",
       "      <td>Apr 10</td>\n",
       "      <td>ARI</td>\n",
       "      <td></td>\n",
       "      <td>CHC</td>\n",
       "      <td>L</td>\n",
       "      <td>3</td>\n",
       "      <td>7</td>\n",
       "      <td>5</td>\n",
       "      <td>3.0</td>\n",
       "      <td>Arrieta</td>\n",
       "      <td>Miller</td>\n",
       "      <td>3:21</td>\n",
       "      <td>D</td>\n",
       "      <td>--</td>\n",
       "      <td>2016</td>\n",
       "      <td>33258.0</td>\n",
       "      <td>0.29</td>\n",
       "    </tr>\n",
       "    <tr>\n",
       "      <th>8</th>\n",
       "      <td>Tuesday</td>\n",
       "      <td>Apr 12</td>\n",
       "      <td>ARI</td>\n",
       "      <td>@</td>\n",
       "      <td>LAD</td>\n",
       "      <td>W</td>\n",
       "      <td>4</td>\n",
       "      <td>2</td>\n",
       "      <td>4</td>\n",
       "      <td>3.0</td>\n",
       "      <td>Clippard</td>\n",
       "      <td>Hatcher</td>\n",
       "      <td>3:00</td>\n",
       "      <td>D</td>\n",
       "      <td>+</td>\n",
       "      <td>2016</td>\n",
       "      <td>53279.0</td>\n",
       "      <td>0.38</td>\n",
       "    </tr>\n",
       "    <tr>\n",
       "      <th>9</th>\n",
       "      <td>Wednesday</td>\n",
       "      <td>Apr 13</td>\n",
       "      <td>ARI</td>\n",
       "      <td>@</td>\n",
       "      <td>LAD</td>\n",
       "      <td>L</td>\n",
       "      <td>1</td>\n",
       "      <td>3</td>\n",
       "      <td>4</td>\n",
       "      <td>3.0</td>\n",
       "      <td>Wood</td>\n",
       "      <td>De La Rosa</td>\n",
       "      <td>3:12</td>\n",
       "      <td>N</td>\n",
       "      <td>-</td>\n",
       "      <td>2016</td>\n",
       "      <td>44244.0</td>\n",
       "      <td>0.33</td>\n",
       "    </tr>\n",
       "    <tr>\n",
       "      <th>10</th>\n",
       "      <td>Thursday</td>\n",
       "      <td>Apr 14</td>\n",
       "      <td>ARI</td>\n",
       "      <td>@</td>\n",
       "      <td>LAD</td>\n",
       "      <td>L</td>\n",
       "      <td>2</td>\n",
       "      <td>5</td>\n",
       "      <td>4</td>\n",
       "      <td>3.0</td>\n",
       "      <td>Howell</td>\n",
       "      <td>Delgado</td>\n",
       "      <td>2:36</td>\n",
       "      <td>N</td>\n",
       "      <td>--</td>\n",
       "      <td>2016</td>\n",
       "      <td>40879.0</td>\n",
       "      <td>0.30</td>\n",
       "    </tr>\n",
       "  </tbody>\n",
       "</table>\n",
       "</div>"
      ],
      "text/plain": [
       "          day     date  team home_away opponent     WL runs runs_against  \\\n",
       "1      Monday    Apr 4   ARI                COL      L    5           10   \n",
       "2     Tuesday    Apr 5   ARI                COL      W   11            6   \n",
       "3   Wednesday    Apr 6   ARI                COL      L    3            4   \n",
       "4    Thursday    Apr 7   ARI                CHC      L    6           14   \n",
       "5      Friday    Apr 8   ARI                CHC   W-wo    3            2   \n",
       "6    Saturday    Apr 9   ARI                CHC      L    2            4   \n",
       "7      Sunday   Apr 10   ARI                CHC      L    3            7   \n",
       "8     Tuesday   Apr 12   ARI         @      LAD      W    4            2   \n",
       "9   Wednesday   Apr 13   ARI         @      LAD      L    1            3   \n",
       "10   Thursday   Apr 14   ARI         @      LAD      L    2            5   \n",
       "\n",
       "   division_rank     GB winning_pitcher losing_pitcher   time day_night  \\\n",
       "1              4    1.0          Miller        Greinke   4:11         N   \n",
       "2              3    1.0        Clippard        Bergman   3:14         N   \n",
       "3              4    2.0        Chatwood         Corbin   2:39         D   \n",
       "4              4    2.0          Lackey     De La Rosa   3:29         N   \n",
       "5              4    2.0         Ziegler         Cahill   2:48         N   \n",
       "6              5    2.0       Hendricks        Greinke   2:46         N   \n",
       "7              5    3.0         Arrieta         Miller   3:21         D   \n",
       "8              4    3.0        Clippard        Hatcher   3:00         D   \n",
       "9              4    3.0            Wood     De La Rosa   3:12         N   \n",
       "10             4    3.0          Howell        Delgado   2:36         N   \n",
       "\n",
       "   streak year_num  attendance  win_percentage  \n",
       "1       -     2016     48165.0            0.00  \n",
       "2       +     2016     21830.0            0.50  \n",
       "3       -     2016     18572.0            0.33  \n",
       "4      --     2016     24656.0            0.25  \n",
       "5       +     2016     27539.0            0.40  \n",
       "6       -     2016     32185.0            0.33  \n",
       "7      --     2016     33258.0            0.29  \n",
       "8       +     2016     53279.0            0.38  \n",
       "9       -     2016     44244.0            0.33  \n",
       "10     --     2016     40879.0            0.30  "
      ]
     },
     "metadata": {},
     "output_type": "display_data"
    },
    {
     "name": "stdout",
     "output_type": "stream",
     "text": [
      "day                 object\n",
      "date                object\n",
      "team                object\n",
      "home_away           object\n",
      "opponent            object\n",
      "WL                  object\n",
      "runs                object\n",
      "runs_against        object\n",
      "division_rank       object\n",
      "GB                  object\n",
      "winning_pitcher     object\n",
      "losing_pitcher      object\n",
      "time                object\n",
      "day_night           object\n",
      "streak              object\n",
      "year_num            object\n",
      "attendance         float64\n",
      "win_percentage     float64\n",
      "dtype: object\n"
     ]
    }
   ],
   "source": [
    "#Create empty dataframe to append onto after each run\n",
    "team_df = pd.DataFrame()\n",
    "\n",
    "#Set our list of columns to be added at the end\n",
    "columns_list = ['day', 'date', 'box_score', 'team', 'home_away', 'opponent', 'WL', 'runs', 'runs_against',\n",
    "            'innings', 'record', 'division_rank', 'GB', 'winning_pitcher', 'losing_pitcher',\n",
    "            'save_pitcher', 'time', 'day_night', 'attendance_1', 'attendance_2', 'streak', 'original', 'year_num']\n",
    "    \n",
    "#Make a pass for each team, for each year\n",
    "for team in teams:\n",
    "    for year in range(2016, 2018):\n",
    "        try:\n",
    "            html = requests.get('http://www.baseball-reference.com/teams/' + team + '/' + str(year) +\n",
    "                                '-schedule-scores.shtml')\n",
    "            bs = BeautifulSoup(html.text, 'html.parser')\n",
    "            trows = bs.find('table', {'class':'stats_table'}).find_all('tr')\n",
    "            results = []\n",
    "            for trow in trows:\n",
    "                cells = trow.find_all('td')\n",
    "                str_cells = str(cells)\n",
    "                cleantext = BeautifulSoup(str_cells, 'html.parser').get_text()\n",
    "                results.append(cleantext + ',' + str(year))\n",
    "            df = pd.DataFrame(results)\n",
    "            team_df = team_df.append(df, ignore_index=True)\n",
    "\n",
    "        except:\n",
    "            pass\n",
    "    \n",
    "#Clean our final dataframe\n",
    "team_df = team_df[0].str.split(',', expand=True) #split beautiful soup elements into each cell\n",
    "team_df[0] = team_df[0].str.strip('[') #remove front bracket\n",
    "team_df.iloc[:,-2] = team_df.iloc[:,-2].str.strip(']') #remove end backet\n",
    "team_df.columns = columns_list #set out column names\n",
    "team_df = team_df.iloc[1:] #remove first blank row\n",
    "team_df = team_df.drop(['box_score', 'innings', 'original', 'save_pitcher'], 1) #drop unnecessary columns\n",
    "team_df['attendance'] = team_df['attendance_1'].astype(str) + team_df['attendance_2'].astype(str) #concatenating attendance columns that were separated\n",
    "team_df['attendance'] = pd.to_numeric(team_df['attendance'], errors='coerce') #convert new attendance column to int\n",
    "team_df = team_df.drop(['attendance_1', 'attendance_2'], 1) #now drop unnecessary attendance columns after conversion\n",
    "team_df['win'], team_df['loss'] = team_df['record'].str.split('-', 1).str #split record into win/loss (temporary)\n",
    "team_df['win'] = pd.to_numeric(team_df['win'], errors='coerce') #convert win to int\n",
    "team_df['loss'] = pd.to_numeric(team_df['loss'], errors='coerce') #convert loss to int\n",
    "team_df['win_percentage'] = round(team_df['win']/(team_df['win'] + team_df['loss']), 2) #create win percentage column\n",
    "team_df = team_df.drop(['win', 'loss', 'record'], 1) #now drop unnecessary win/loss/record after creating win percentage\n",
    "\n",
    "#Get a feel for our dataframe\n",
    "pd.options.display.max_columns = 30\n",
    "print(\"Shape of Dataframe is {}\".format(team_df.shape))\n",
    "display(team_df.head(10))\n",
    "print(team_df.dtypes)"
   ]
  },
  {
   "cell_type": "markdown",
   "metadata": {},
   "source": [
    "## Further Data Cleaning, Preliminary Feature Engineering"
   ]
  },
  {
   "cell_type": "code",
   "execution_count": 139,
   "metadata": {},
   "outputs": [],
   "source": [
    "#Remove white space\n",
    "for col in team_df.columns:\n",
    "    team_df[col] = team_df[col].astype(str)\n",
    "    team_df[col] = team_df[col].str.strip()"
   ]
  },
  {
   "cell_type": "code",
   "execution_count": 140,
   "metadata": {},
   "outputs": [],
   "source": [
    "#Filter out away games\n",
    "team_df = team_df.loc[team_df['home_away'] == '']"
   ]
  },
  {
   "cell_type": "code",
   "execution_count": 141,
   "metadata": {},
   "outputs": [],
   "source": [
    "#Recreate WL groupings\n",
    "team_df['WL'].replace(['L', 'W', 'W-wo', 'L-wo', 'None', 'T', 'W &H;', 'W &V;', 'L &V;', 'L &H;'],\n",
    "                      ['L', 'W', 'W', 'L', 'None', 'T', 'W', 'W', 'L', 'L'], inplace=True)"
   ]
  },
  {
   "cell_type": "code",
   "execution_count": 142,
   "metadata": {},
   "outputs": [],
   "source": [
    "#Remove None from WL\n",
    "team_df = team_df.loc[team_df['WL'] != 'None']"
   ]
  },
  {
   "cell_type": "code",
   "execution_count": 143,
   "metadata": {},
   "outputs": [],
   "source": [
    "#Turn day_night into indicator (day = 1, night = 0)\n",
    "team_df['day_night'] = np.where((team_df['day_night'] == 'D'), 1, 0)"
   ]
  },
  {
   "cell_type": "code",
   "execution_count": 144,
   "metadata": {},
   "outputs": [
    {
     "data": {
      "text/plain": [
       "array(['-', '+', '--', '---', '----', '-----', '++', '+++', '------',\n",
       "       '++++', '+++++', '++++++', '+++++++', '-------', '++++++++',\n",
       "       '+++++++++', '++++++++++', '+++++++++++', ']', '--------',\n",
       "       '---------', '++++++++++++++++', '+++++++++++++++++',\n",
       "       '++++++++++++++++++', '+++++++++++++++++++',\n",
       "       '++++++++++++++++++++', '+++++++++++++++++++++',\n",
       "       '++++++++++++++++++++++', '-----------', '----------'],\n",
       "      dtype=object)"
      ]
     },
     "execution_count": 144,
     "metadata": {},
     "output_type": "execute_result"
    }
   ],
   "source": [
    "#Understand unique streak values\n",
    "team_df.streak.unique()"
   ]
  },
  {
   "cell_type": "code",
   "execution_count": 145,
   "metadata": {},
   "outputs": [],
   "source": [
    "#Streak function\n",
    "\n",
    "def streak(x):\n",
    "    x_streak = str(x)\n",
    "    x_streak = list(x_streak)\n",
    "    counter = 0\n",
    "    if x_streak[0] == '-':\n",
    "        for i in x_streak:\n",
    "            counter += 1\n",
    "            final = '-' + str(counter)\n",
    "            final = int(final)\n",
    "    else:\n",
    "        for i in x_streak:\n",
    "            counter += 1\n",
    "            final = '+' + str(counter)\n",
    "            final = int(final)\n",
    "    return final"
   ]
  },
  {
   "cell_type": "code",
   "execution_count": 146,
   "metadata": {},
   "outputs": [],
   "source": [
    "#Apply streak function to streak column\n",
    "team_df['streak'] = team_df['streak'].apply(streak)"
   ]
  },
  {
   "cell_type": "code",
   "execution_count": 147,
   "metadata": {},
   "outputs": [
    {
     "data": {
      "text/plain": [
       "1   -1\n",
       "2    1\n",
       "3   -1\n",
       "4   -2\n",
       "5    1\n",
       "Name: streak, dtype: int64"
      ]
     },
     "execution_count": 147,
     "metadata": {},
     "output_type": "execute_result"
    }
   ],
   "source": [
    "#Confirm this worked\n",
    "team_df['streak'].head(5)"
   ]
  },
  {
   "cell_type": "code",
   "execution_count": 148,
   "metadata": {},
   "outputs": [
    {
     "data": {
      "text/plain": [
       "array(['1.0', '2.0', '3.0', '1.5', '2.5', '0.5', '4.0', '5.0', '4.5',\n",
       "       '5.5', '9.0', '10.0', '10.5', '9.5', '11.5', '12.5', '13.5',\n",
       "       '15.0', '14.0', '16.0', '19.0', '18.0', '17.0', '18.5', '17.5',\n",
       "       '21.0', '22.0', '20.0', '24.0', '23.0', 'up 0.5', 'Tied', 'up 1.0',\n",
       "       '3.5', '6.5', '7.5', '6.0', '7.0', '8.0', '12.0', '16.5', '19.5',\n",
       "       '20.5', '21.5', '23.5', '24.5', '25.0', '25.5', '26.5', '27.5',\n",
       "       '28.5', '29.5', '28.0', '29.0', '30.0', '31.0', '32.0', '11.0',\n",
       "       '14.5', '22.5', 'up 1.5', 'up 2.0', 'up 2.5', 'up 3.5', 'up 3.0',\n",
       "       'up 4.0', '8.5', '15.5', 'up 5.0', 'up 4.5', 'up 6.5', 'up 7.5',\n",
       "       'up 8.5', 'up 7.0', 'up 8.0', 'up 9.0', 'up 5.5', 'up 9.5',\n",
       "       'up10.5', 'up11.5', 'up12.5', 'up12.0', 'up13.0', 'up14.0',\n",
       "       'up15.0', 'up15.5', 'up16.5', 'up17.0', 'up18.0', 'up16.0', '13.0',\n",
       "       '30.5', '33.5', '34.5', '34.0', '26.0', '27.0', '31.5', '35.5',\n",
       "       'up 6.0', 'up11.0', 'up13.5', 'up14.5', '33.0', '35.0', '36.0',\n",
       "       'up10.0', 'up19.0', 'up18.5', 'up21.0', 'up20.0', '32.5', 'up21.5',\n",
       "       'up20.5', '36.5', '38.0', '39.0', '40.0', '41.0', '39.5', '37.0',\n",
       "       '37.5'], dtype=object)"
      ]
     },
     "execution_count": 148,
     "metadata": {},
     "output_type": "execute_result"
    }
   ],
   "source": [
    "#Deal with GB column\n",
    "team_df['GB'].unique()"
   ]
  },
  {
   "cell_type": "code",
   "execution_count": 149,
   "metadata": {},
   "outputs": [],
   "source": [
    "#Create function to convert GB\n",
    "\n",
    "def gb(x):\n",
    "    x = x.replace(\" \", \"\")\n",
    "    if x[0] == 'u':\n",
    "        x = x[2:]\n",
    "        x = float(x)\n",
    "\n",
    "    elif x[0].isdigit() == True:\n",
    "        x = '-' + x\n",
    "        x = float(x)\n",
    "    \n",
    "    else:\n",
    "        x = 0\n",
    "        \n",
    "    return x"
   ]
  },
  {
   "cell_type": "code",
   "execution_count": 150,
   "metadata": {},
   "outputs": [],
   "source": [
    "#Apply function to GB column\n",
    "team_df['GB'] = team_df['GB'].apply(gb)"
   ]
  },
  {
   "cell_type": "code",
   "execution_count": 151,
   "metadata": {},
   "outputs": [],
   "source": [
    "#Clean date column, first create function\n",
    "import re\n",
    "def remove_parentheses(i):\n",
    "    i = str(i)\n",
    "    i = re.sub(r'\\([^)]*\\)', '', i)\n",
    "    return i"
   ]
  },
  {
   "cell_type": "code",
   "execution_count": 152,
   "metadata": {},
   "outputs": [],
   "source": [
    "#Apply it to date column\n",
    "team_df['date'] = team_df['date'].apply(remove_parentheses)"
   ]
  },
  {
   "cell_type": "code",
   "execution_count": 153,
   "metadata": {},
   "outputs": [],
   "source": [
    "#Strip whitespace again after removing parentheses data\n",
    "team_df['date'] = team_df['date'].str.strip()"
   ]
  },
  {
   "cell_type": "code",
   "execution_count": 154,
   "metadata": {},
   "outputs": [],
   "source": [
    "#Convert date into month and day\n",
    "team_df['month_num'], team_df['day_num'] = team_df['date'].str.split(' ', 1).str"
   ]
  },
  {
   "cell_type": "code",
   "execution_count": 155,
   "metadata": {},
   "outputs": [],
   "source": [
    "#Recreate month_num groupings\n",
    "team_df['month_num'].replace(['Apr', 'May', 'Jun', 'Jul', 'Aug', 'Sep', 'Oct'],\n",
    "                      [4, 5, 6, 7, 8, 9, 10], inplace=True)"
   ]
  },
  {
   "cell_type": "code",
   "execution_count": 156,
   "metadata": {},
   "outputs": [
    {
     "name": "stdout",
     "output_type": "stream",
     "text": [
      "day                0\n",
      "date               0\n",
      "team               0\n",
      "home_away          0\n",
      "opponent           0\n",
      "WL                 0\n",
      "runs               0\n",
      "runs_against       0\n",
      "division_rank      0\n",
      "GB                 0\n",
      "winning_pitcher    0\n",
      "losing_pitcher     0\n",
      "time               0\n",
      "day_night          0\n",
      "streak             0\n",
      "year_num           0\n",
      "attendance         0\n",
      "win_percentage     0\n",
      "month_num          0\n",
      "day_num            0\n",
      "dtype: int64\n"
     ]
    }
   ],
   "source": [
    "#Deal with null values\n",
    "missing_values_count = team_df.isnull().sum()\n",
    "print(missing_values_count)"
   ]
  },
  {
   "cell_type": "code",
   "execution_count": 157,
   "metadata": {},
   "outputs": [],
   "source": [
    "#Do pd.datetime on all date related columns\n",
    "team_df = team_df.loc[team_df['year_num'] != 'None']\n",
    "\n",
    "team_df['month_num'] = team_df['month_num'].astype(int)\n",
    "team_df['day_num'] = team_df['day_num'].astype(int)\n",
    "team_df['year_num'] = team_df['year_num'].astype(int)"
   ]
  },
  {
   "cell_type": "code",
   "execution_count": 158,
   "metadata": {},
   "outputs": [],
   "source": [
    "#Create standardized date column\n",
    "team_df['actual_date'] = pd.to_datetime(team_df.year_num*10000+team_df.month_num*100+team_df.day_num,format='%Y%m%d')"
   ]
  },
  {
   "cell_type": "code",
   "execution_count": 159,
   "metadata": {},
   "outputs": [],
   "source": [
    "#Final removal of columns - date, home_away\n",
    "team_df = team_df.drop(['date', 'home_away'], 1)"
   ]
  },
  {
   "cell_type": "code",
   "execution_count": 160,
   "metadata": {},
   "outputs": [],
   "source": [
    "#Convert time of game column - first create function\n",
    "\n",
    "def convert_game_time(x):\n",
    "    x = str(x)\n",
    "    i, j = x.split(':')\n",
    "    i, j = int(i), int(j)\n",
    "    x = (i*60) + (j)\n",
    "    return x"
   ]
  },
  {
   "cell_type": "code",
   "execution_count": 161,
   "metadata": {},
   "outputs": [],
   "source": [
    "#Apply function to time column\n",
    "team_df['time'] = team_df['time'].apply(convert_game_time)"
   ]
  },
  {
   "cell_type": "code",
   "execution_count": 162,
   "metadata": {},
   "outputs": [
    {
     "data": {
      "text/plain": [
       "day                        object\n",
       "team                       object\n",
       "opponent                   object\n",
       "WL                         object\n",
       "runs                       object\n",
       "runs_against               object\n",
       "division_rank              object\n",
       "GB                        float64\n",
       "winning_pitcher            object\n",
       "losing_pitcher             object\n",
       "time                        int64\n",
       "day_night                   int64\n",
       "streak                      int64\n",
       "year_num                    int64\n",
       "attendance                 object\n",
       "win_percentage             object\n",
       "month_num                   int64\n",
       "day_num                     int64\n",
       "actual_date        datetime64[ns]\n",
       "dtype: object"
      ]
     },
     "execution_count": 162,
     "metadata": {},
     "output_type": "execute_result"
    }
   ],
   "source": [
    "#Convert all data types to appropriate ones - first take a look at our datatypes\n",
    "team_df.dtypes"
   ]
  },
  {
   "cell_type": "code",
   "execution_count": 163,
   "metadata": {},
   "outputs": [],
   "source": [
    "#Apply conversions\n",
    "team_df['win_percentage'] = team_df['win_percentage'].astype(float)\n",
    "team_df['attendance'] = team_df['attendance'].astype(float)\n",
    "team_df['division_rank'] = team_df['division_rank'].astype(float)\n",
    "team_df['GB'] = team_df['GB'].astype(float)\n",
    "team_df['runs'] = team_df['runs'].astype(int)\n",
    "team_df['runs_against'] = team_df['runs_against'].astype(int)\n",
    "team_df['attendance'] = team_df['attendance'].astype(int)\n",
    "\n",
    "#Label encoders for categoricals\n",
    "encoder = LabelEncoder()\n",
    "team_df['day_category'] = encoder.fit_transform(team_df['day'])\n",
    "team_df['team_category'] = encoder.fit_transform(team_df['team'])\n",
    "team_df['opponent_category'] = encoder.fit_transform(team_df['opponent'])\n",
    "team_df['WL_category'] = encoder.fit_transform(team_df['WL'])\n",
    "team_df['WP_category'] = encoder.fit_transform(team_df['winning_pitcher'])\n",
    "team_df['LP_category'] = encoder.fit_transform(team_df['losing_pitcher'])"
   ]
  },
  {
   "cell_type": "code",
   "execution_count": 164,
   "metadata": {},
   "outputs": [],
   "source": [
    "#Add ticket price data\n",
    "ticket_prices = pd.read_csv('ticket_prices.csv')"
   ]
  },
  {
   "cell_type": "code",
   "execution_count": 165,
   "metadata": {},
   "outputs": [
    {
     "data": {
      "text/html": [
       "<div>\n",
       "<style scoped>\n",
       "    .dataframe tbody tr th:only-of-type {\n",
       "        vertical-align: middle;\n",
       "    }\n",
       "\n",
       "    .dataframe tbody tr th {\n",
       "        vertical-align: top;\n",
       "    }\n",
       "\n",
       "    .dataframe thead th {\n",
       "        text-align: right;\n",
       "    }\n",
       "</style>\n",
       "<table border=\"1\" class=\"dataframe\">\n",
       "  <thead>\n",
       "    <tr style=\"text-align: right;\">\n",
       "      <th></th>\n",
       "      <th>team</th>\n",
       "      <th>year_num</th>\n",
       "      <th>price</th>\n",
       "    </tr>\n",
       "  </thead>\n",
       "  <tbody>\n",
       "    <tr>\n",
       "      <th>0</th>\n",
       "      <td>ATL</td>\n",
       "      <td>2017</td>\n",
       "      <td>80</td>\n",
       "    </tr>\n",
       "    <tr>\n",
       "      <th>1</th>\n",
       "      <td>CHC</td>\n",
       "      <td>2017</td>\n",
       "      <td>130</td>\n",
       "    </tr>\n",
       "    <tr>\n",
       "      <th>2</th>\n",
       "      <td>STL</td>\n",
       "      <td>2017</td>\n",
       "      <td>75</td>\n",
       "    </tr>\n",
       "    <tr>\n",
       "      <th>3</th>\n",
       "      <td>TBD</td>\n",
       "      <td>2017</td>\n",
       "      <td>89</td>\n",
       "    </tr>\n",
       "    <tr>\n",
       "      <th>4</th>\n",
       "      <td>NYY</td>\n",
       "      <td>2017</td>\n",
       "      <td>117</td>\n",
       "    </tr>\n",
       "    <tr>\n",
       "      <th>5</th>\n",
       "      <td>LAD</td>\n",
       "      <td>2017</td>\n",
       "      <td>64</td>\n",
       "    </tr>\n",
       "    <tr>\n",
       "      <th>6</th>\n",
       "      <td>MIL</td>\n",
       "      <td>2017</td>\n",
       "      <td>66</td>\n",
       "    </tr>\n",
       "    <tr>\n",
       "      <th>7</th>\n",
       "      <td>CIN</td>\n",
       "      <td>2017</td>\n",
       "      <td>80</td>\n",
       "    </tr>\n",
       "    <tr>\n",
       "      <th>8</th>\n",
       "      <td>PHI</td>\n",
       "      <td>2017</td>\n",
       "      <td>60</td>\n",
       "    </tr>\n",
       "    <tr>\n",
       "      <th>9</th>\n",
       "      <td>HOU</td>\n",
       "      <td>2017</td>\n",
       "      <td>73</td>\n",
       "    </tr>\n",
       "  </tbody>\n",
       "</table>\n",
       "</div>"
      ],
      "text/plain": [
       "  team  year_num  price\n",
       "0  ATL      2017     80\n",
       "1  CHC      2017    130\n",
       "2  STL      2017     75\n",
       "3  TBD      2017     89\n",
       "4  NYY      2017    117\n",
       "5  LAD      2017     64\n",
       "6  MIL      2017     66\n",
       "7  CIN      2017     80\n",
       "8  PHI      2017     60\n",
       "9  HOU      2017     73"
      ]
     },
     "execution_count": 165,
     "metadata": {},
     "output_type": "execute_result"
    }
   ],
   "source": [
    "ticket_prices.head(10)"
   ]
  },
  {
   "cell_type": "code",
   "execution_count": 166,
   "metadata": {},
   "outputs": [
    {
     "data": {
      "text/html": [
       "<div>\n",
       "<style scoped>\n",
       "    .dataframe tbody tr th:only-of-type {\n",
       "        vertical-align: middle;\n",
       "    }\n",
       "\n",
       "    .dataframe tbody tr th {\n",
       "        vertical-align: top;\n",
       "    }\n",
       "\n",
       "    .dataframe thead th {\n",
       "        text-align: right;\n",
       "    }\n",
       "</style>\n",
       "<table border=\"1\" class=\"dataframe\">\n",
       "  <thead>\n",
       "    <tr style=\"text-align: right;\">\n",
       "      <th></th>\n",
       "      <th>day</th>\n",
       "      <th>team</th>\n",
       "      <th>opponent</th>\n",
       "      <th>WL</th>\n",
       "      <th>runs</th>\n",
       "      <th>runs_against</th>\n",
       "      <th>division_rank</th>\n",
       "      <th>GB</th>\n",
       "      <th>winning_pitcher</th>\n",
       "      <th>losing_pitcher</th>\n",
       "      <th>time</th>\n",
       "      <th>day_night</th>\n",
       "      <th>streak</th>\n",
       "      <th>year_num</th>\n",
       "      <th>attendance</th>\n",
       "      <th>win_percentage</th>\n",
       "      <th>month_num</th>\n",
       "      <th>day_num</th>\n",
       "      <th>actual_date</th>\n",
       "      <th>day_category</th>\n",
       "      <th>team_category</th>\n",
       "      <th>opponent_category</th>\n",
       "      <th>WL_category</th>\n",
       "      <th>WP_category</th>\n",
       "      <th>LP_category</th>\n",
       "      <th>price</th>\n",
       "    </tr>\n",
       "  </thead>\n",
       "  <tbody>\n",
       "    <tr>\n",
       "      <th>0</th>\n",
       "      <td>Monday</td>\n",
       "      <td>ARI</td>\n",
       "      <td>COL</td>\n",
       "      <td>L</td>\n",
       "      <td>5</td>\n",
       "      <td>10</td>\n",
       "      <td>4.0</td>\n",
       "      <td>-1.0</td>\n",
       "      <td>Miller</td>\n",
       "      <td>Greinke</td>\n",
       "      <td>251</td>\n",
       "      <td>0</td>\n",
       "      <td>-1</td>\n",
       "      <td>2016</td>\n",
       "      <td>48165</td>\n",
       "      <td>0.00</td>\n",
       "      <td>4</td>\n",
       "      <td>4</td>\n",
       "      <td>2016-04-04</td>\n",
       "      <td>1</td>\n",
       "      <td>0</td>\n",
       "      <td>8</td>\n",
       "      <td>0</td>\n",
       "      <td>360</td>\n",
       "      <td>220</td>\n",
       "      <td>70</td>\n",
       "    </tr>\n",
       "    <tr>\n",
       "      <th>1</th>\n",
       "      <td>Tuesday</td>\n",
       "      <td>ARI</td>\n",
       "      <td>COL</td>\n",
       "      <td>W</td>\n",
       "      <td>11</td>\n",
       "      <td>6</td>\n",
       "      <td>3.0</td>\n",
       "      <td>-1.0</td>\n",
       "      <td>Clippard</td>\n",
       "      <td>Bergman</td>\n",
       "      <td>194</td>\n",
       "      <td>0</td>\n",
       "      <td>1</td>\n",
       "      <td>2016</td>\n",
       "      <td>21830</td>\n",
       "      <td>0.50</td>\n",
       "      <td>4</td>\n",
       "      <td>5</td>\n",
       "      <td>2016-04-05</td>\n",
       "      <td>5</td>\n",
       "      <td>0</td>\n",
       "      <td>8</td>\n",
       "      <td>2</td>\n",
       "      <td>107</td>\n",
       "      <td>40</td>\n",
       "      <td>70</td>\n",
       "    </tr>\n",
       "    <tr>\n",
       "      <th>2</th>\n",
       "      <td>Wednesday</td>\n",
       "      <td>ARI</td>\n",
       "      <td>COL</td>\n",
       "      <td>L</td>\n",
       "      <td>3</td>\n",
       "      <td>4</td>\n",
       "      <td>4.0</td>\n",
       "      <td>-2.0</td>\n",
       "      <td>Chatwood</td>\n",
       "      <td>Corbin</td>\n",
       "      <td>159</td>\n",
       "      <td>1</td>\n",
       "      <td>-1</td>\n",
       "      <td>2016</td>\n",
       "      <td>18572</td>\n",
       "      <td>0.33</td>\n",
       "      <td>4</td>\n",
       "      <td>6</td>\n",
       "      <td>2016-04-06</td>\n",
       "      <td>6</td>\n",
       "      <td>0</td>\n",
       "      <td>8</td>\n",
       "      <td>0</td>\n",
       "      <td>99</td>\n",
       "      <td>112</td>\n",
       "      <td>70</td>\n",
       "    </tr>\n",
       "    <tr>\n",
       "      <th>3</th>\n",
       "      <td>Thursday</td>\n",
       "      <td>ARI</td>\n",
       "      <td>CHC</td>\n",
       "      <td>L</td>\n",
       "      <td>6</td>\n",
       "      <td>14</td>\n",
       "      <td>4.0</td>\n",
       "      <td>-2.0</td>\n",
       "      <td>Lackey</td>\n",
       "      <td>De La Rosa</td>\n",
       "      <td>209</td>\n",
       "      <td>0</td>\n",
       "      <td>-2</td>\n",
       "      <td>2016</td>\n",
       "      <td>24656</td>\n",
       "      <td>0.25</td>\n",
       "      <td>4</td>\n",
       "      <td>7</td>\n",
       "      <td>2016-04-07</td>\n",
       "      <td>4</td>\n",
       "      <td>0</td>\n",
       "      <td>4</td>\n",
       "      <td>0</td>\n",
       "      <td>294</td>\n",
       "      <td>135</td>\n",
       "      <td>70</td>\n",
       "    </tr>\n",
       "    <tr>\n",
       "      <th>4</th>\n",
       "      <td>Friday</td>\n",
       "      <td>ARI</td>\n",
       "      <td>CHC</td>\n",
       "      <td>W</td>\n",
       "      <td>3</td>\n",
       "      <td>2</td>\n",
       "      <td>4.0</td>\n",
       "      <td>-2.0</td>\n",
       "      <td>Ziegler</td>\n",
       "      <td>Cahill</td>\n",
       "      <td>168</td>\n",
       "      <td>0</td>\n",
       "      <td>1</td>\n",
       "      <td>2016</td>\n",
       "      <td>27539</td>\n",
       "      <td>0.40</td>\n",
       "      <td>4</td>\n",
       "      <td>8</td>\n",
       "      <td>2016-04-08</td>\n",
       "      <td>0</td>\n",
       "      <td>0</td>\n",
       "      <td>4</td>\n",
       "      <td>2</td>\n",
       "      <td>603</td>\n",
       "      <td>80</td>\n",
       "      <td>70</td>\n",
       "    </tr>\n",
       "    <tr>\n",
       "      <th>5</th>\n",
       "      <td>Saturday</td>\n",
       "      <td>ARI</td>\n",
       "      <td>CHC</td>\n",
       "      <td>L</td>\n",
       "      <td>2</td>\n",
       "      <td>4</td>\n",
       "      <td>5.0</td>\n",
       "      <td>-2.0</td>\n",
       "      <td>Hendricks</td>\n",
       "      <td>Greinke</td>\n",
       "      <td>166</td>\n",
       "      <td>0</td>\n",
       "      <td>-1</td>\n",
       "      <td>2016</td>\n",
       "      <td>32185</td>\n",
       "      <td>0.33</td>\n",
       "      <td>4</td>\n",
       "      <td>9</td>\n",
       "      <td>2016-04-09</td>\n",
       "      <td>2</td>\n",
       "      <td>0</td>\n",
       "      <td>4</td>\n",
       "      <td>0</td>\n",
       "      <td>236</td>\n",
       "      <td>220</td>\n",
       "      <td>70</td>\n",
       "    </tr>\n",
       "    <tr>\n",
       "      <th>6</th>\n",
       "      <td>Sunday</td>\n",
       "      <td>ARI</td>\n",
       "      <td>CHC</td>\n",
       "      <td>L</td>\n",
       "      <td>3</td>\n",
       "      <td>7</td>\n",
       "      <td>5.0</td>\n",
       "      <td>-3.0</td>\n",
       "      <td>Arrieta</td>\n",
       "      <td>Miller</td>\n",
       "      <td>201</td>\n",
       "      <td>1</td>\n",
       "      <td>-2</td>\n",
       "      <td>2016</td>\n",
       "      <td>33258</td>\n",
       "      <td>0.29</td>\n",
       "      <td>4</td>\n",
       "      <td>10</td>\n",
       "      <td>2016-04-10</td>\n",
       "      <td>3</td>\n",
       "      <td>0</td>\n",
       "      <td>4</td>\n",
       "      <td>0</td>\n",
       "      <td>17</td>\n",
       "      <td>365</td>\n",
       "      <td>70</td>\n",
       "    </tr>\n",
       "    <tr>\n",
       "      <th>7</th>\n",
       "      <td>Friday</td>\n",
       "      <td>ARI</td>\n",
       "      <td>PIT</td>\n",
       "      <td>L</td>\n",
       "      <td>7</td>\n",
       "      <td>8</td>\n",
       "      <td>3.0</td>\n",
       "      <td>-1.5</td>\n",
       "      <td>Niese</td>\n",
       "      <td>Corbin</td>\n",
       "      <td>192</td>\n",
       "      <td>0</td>\n",
       "      <td>-1</td>\n",
       "      <td>2016</td>\n",
       "      <td>27829</td>\n",
       "      <td>0.50</td>\n",
       "      <td>4</td>\n",
       "      <td>22</td>\n",
       "      <td>2016-04-22</td>\n",
       "      <td>0</td>\n",
       "      <td>0</td>\n",
       "      <td>21</td>\n",
       "      <td>0</td>\n",
       "      <td>389</td>\n",
       "      <td>112</td>\n",
       "      <td>70</td>\n",
       "    </tr>\n",
       "    <tr>\n",
       "      <th>8</th>\n",
       "      <td>Saturday</td>\n",
       "      <td>ARI</td>\n",
       "      <td>PIT</td>\n",
       "      <td>W</td>\n",
       "      <td>7</td>\n",
       "      <td>1</td>\n",
       "      <td>2.0</td>\n",
       "      <td>-1.5</td>\n",
       "      <td>De La Rosa</td>\n",
       "      <td>Nicasio</td>\n",
       "      <td>178</td>\n",
       "      <td>0</td>\n",
       "      <td>1</td>\n",
       "      <td>2016</td>\n",
       "      <td>32935</td>\n",
       "      <td>0.53</td>\n",
       "      <td>4</td>\n",
       "      <td>23</td>\n",
       "      <td>2016-04-23</td>\n",
       "      <td>2</td>\n",
       "      <td>0</td>\n",
       "      <td>21</td>\n",
       "      <td>2</td>\n",
       "      <td>132</td>\n",
       "      <td>391</td>\n",
       "      <td>70</td>\n",
       "    </tr>\n",
       "    <tr>\n",
       "      <th>9</th>\n",
       "      <td>Sunday</td>\n",
       "      <td>ARI</td>\n",
       "      <td>PIT</td>\n",
       "      <td>L</td>\n",
       "      <td>10</td>\n",
       "      <td>12</td>\n",
       "      <td>2.0</td>\n",
       "      <td>-2.5</td>\n",
       "      <td>Feliz</td>\n",
       "      <td>Marshall</td>\n",
       "      <td>325</td>\n",
       "      <td>1</td>\n",
       "      <td>-1</td>\n",
       "      <td>2016</td>\n",
       "      <td>27573</td>\n",
       "      <td>0.50</td>\n",
       "      <td>4</td>\n",
       "      <td>24</td>\n",
       "      <td>2016-04-24</td>\n",
       "      <td>3</td>\n",
       "      <td>0</td>\n",
       "      <td>21</td>\n",
       "      <td>0</td>\n",
       "      <td>163</td>\n",
       "      <td>339</td>\n",
       "      <td>70</td>\n",
       "    </tr>\n",
       "  </tbody>\n",
       "</table>\n",
       "</div>"
      ],
      "text/plain": [
       "         day team opponent WL  runs  runs_against  division_rank   GB  \\\n",
       "0     Monday  ARI      COL  L     5            10            4.0 -1.0   \n",
       "1    Tuesday  ARI      COL  W    11             6            3.0 -1.0   \n",
       "2  Wednesday  ARI      COL  L     3             4            4.0 -2.0   \n",
       "3   Thursday  ARI      CHC  L     6            14            4.0 -2.0   \n",
       "4     Friday  ARI      CHC  W     3             2            4.0 -2.0   \n",
       "5   Saturday  ARI      CHC  L     2             4            5.0 -2.0   \n",
       "6     Sunday  ARI      CHC  L     3             7            5.0 -3.0   \n",
       "7     Friday  ARI      PIT  L     7             8            3.0 -1.5   \n",
       "8   Saturday  ARI      PIT  W     7             1            2.0 -1.5   \n",
       "9     Sunday  ARI      PIT  L    10            12            2.0 -2.5   \n",
       "\n",
       "  winning_pitcher losing_pitcher  time  day_night  streak  year_num  \\\n",
       "0          Miller        Greinke   251          0      -1      2016   \n",
       "1        Clippard        Bergman   194          0       1      2016   \n",
       "2        Chatwood         Corbin   159          1      -1      2016   \n",
       "3          Lackey     De La Rosa   209          0      -2      2016   \n",
       "4         Ziegler         Cahill   168          0       1      2016   \n",
       "5       Hendricks        Greinke   166          0      -1      2016   \n",
       "6         Arrieta         Miller   201          1      -2      2016   \n",
       "7           Niese         Corbin   192          0      -1      2016   \n",
       "8      De La Rosa        Nicasio   178          0       1      2016   \n",
       "9           Feliz       Marshall   325          1      -1      2016   \n",
       "\n",
       "   attendance  win_percentage  month_num  day_num actual_date  day_category  \\\n",
       "0       48165            0.00          4        4  2016-04-04             1   \n",
       "1       21830            0.50          4        5  2016-04-05             5   \n",
       "2       18572            0.33          4        6  2016-04-06             6   \n",
       "3       24656            0.25          4        7  2016-04-07             4   \n",
       "4       27539            0.40          4        8  2016-04-08             0   \n",
       "5       32185            0.33          4        9  2016-04-09             2   \n",
       "6       33258            0.29          4       10  2016-04-10             3   \n",
       "7       27829            0.50          4       22  2016-04-22             0   \n",
       "8       32935            0.53          4       23  2016-04-23             2   \n",
       "9       27573            0.50          4       24  2016-04-24             3   \n",
       "\n",
       "   team_category  opponent_category  WL_category  WP_category  LP_category  \\\n",
       "0              0                  8            0          360          220   \n",
       "1              0                  8            2          107           40   \n",
       "2              0                  8            0           99          112   \n",
       "3              0                  4            0          294          135   \n",
       "4              0                  4            2          603           80   \n",
       "5              0                  4            0          236          220   \n",
       "6              0                  4            0           17          365   \n",
       "7              0                 21            0          389          112   \n",
       "8              0                 21            2          132          391   \n",
       "9              0                 21            0          163          339   \n",
       "\n",
       "   price  \n",
       "0     70  \n",
       "1     70  \n",
       "2     70  \n",
       "3     70  \n",
       "4     70  \n",
       "5     70  \n",
       "6     70  \n",
       "7     70  \n",
       "8     70  \n",
       "9     70  "
      ]
     },
     "metadata": {},
     "output_type": "display_data"
    }
   ],
   "source": [
    "#Merge our dataframes (prices and team_df)\n",
    "\n",
    "team_df = pd.merge(team_df, ticket_prices, how='inner', on=['team', 'year_num'])\n",
    "display(team_df.head(10))"
   ]
  },
  {
   "cell_type": "code",
   "execution_count": 167,
   "metadata": {},
   "outputs": [],
   "source": [
    "#Add Stadium Capacity Data\n",
    "capacity = pd.read_csv('capacity.csv')"
   ]
  },
  {
   "cell_type": "code",
   "execution_count": 168,
   "metadata": {},
   "outputs": [
    {
     "data": {
      "text/html": [
       "<div>\n",
       "<style scoped>\n",
       "    .dataframe tbody tr th:only-of-type {\n",
       "        vertical-align: middle;\n",
       "    }\n",
       "\n",
       "    .dataframe tbody tr th {\n",
       "        vertical-align: top;\n",
       "    }\n",
       "\n",
       "    .dataframe thead th {\n",
       "        text-align: right;\n",
       "    }\n",
       "</style>\n",
       "<table border=\"1\" class=\"dataframe\">\n",
       "  <thead>\n",
       "    <tr style=\"text-align: right;\">\n",
       "      <th></th>\n",
       "      <th>team</th>\n",
       "      <th>capacity</th>\n",
       "    </tr>\n",
       "  </thead>\n",
       "  <tbody>\n",
       "    <tr>\n",
       "      <th>0</th>\n",
       "      <td>ATL</td>\n",
       "      <td>41149</td>\n",
       "    </tr>\n",
       "    <tr>\n",
       "      <th>1</th>\n",
       "      <td>CHC</td>\n",
       "      <td>41159</td>\n",
       "    </tr>\n",
       "    <tr>\n",
       "      <th>2</th>\n",
       "      <td>STL</td>\n",
       "      <td>43975</td>\n",
       "    </tr>\n",
       "    <tr>\n",
       "      <th>3</th>\n",
       "      <td>TBD</td>\n",
       "      <td>31042</td>\n",
       "    </tr>\n",
       "    <tr>\n",
       "      <th>4</th>\n",
       "      <td>NYY</td>\n",
       "      <td>47422</td>\n",
       "    </tr>\n",
       "    <tr>\n",
       "      <th>5</th>\n",
       "      <td>LAD</td>\n",
       "      <td>56000</td>\n",
       "    </tr>\n",
       "    <tr>\n",
       "      <th>6</th>\n",
       "      <td>MIL</td>\n",
       "      <td>41900</td>\n",
       "    </tr>\n",
       "    <tr>\n",
       "      <th>7</th>\n",
       "      <td>CIN</td>\n",
       "      <td>42319</td>\n",
       "    </tr>\n",
       "    <tr>\n",
       "      <th>8</th>\n",
       "      <td>PHI</td>\n",
       "      <td>43647</td>\n",
       "    </tr>\n",
       "    <tr>\n",
       "      <th>9</th>\n",
       "      <td>HOU</td>\n",
       "      <td>40963</td>\n",
       "    </tr>\n",
       "  </tbody>\n",
       "</table>\n",
       "</div>"
      ],
      "text/plain": [
       "  team  capacity\n",
       "0  ATL     41149\n",
       "1  CHC     41159\n",
       "2  STL     43975\n",
       "3  TBD     31042\n",
       "4  NYY     47422\n",
       "5  LAD     56000\n",
       "6  MIL     41900\n",
       "7  CIN     42319\n",
       "8  PHI     43647\n",
       "9  HOU     40963"
      ]
     },
     "execution_count": 168,
     "metadata": {},
     "output_type": "execute_result"
    }
   ],
   "source": [
    "capacity.head(10)"
   ]
  },
  {
   "cell_type": "code",
   "execution_count": 169,
   "metadata": {},
   "outputs": [
    {
     "data": {
      "text/html": [
       "<div>\n",
       "<style scoped>\n",
       "    .dataframe tbody tr th:only-of-type {\n",
       "        vertical-align: middle;\n",
       "    }\n",
       "\n",
       "    .dataframe tbody tr th {\n",
       "        vertical-align: top;\n",
       "    }\n",
       "\n",
       "    .dataframe thead th {\n",
       "        text-align: right;\n",
       "    }\n",
       "</style>\n",
       "<table border=\"1\" class=\"dataframe\">\n",
       "  <thead>\n",
       "    <tr style=\"text-align: right;\">\n",
       "      <th></th>\n",
       "      <th>day</th>\n",
       "      <th>team</th>\n",
       "      <th>opponent</th>\n",
       "      <th>WL</th>\n",
       "      <th>runs</th>\n",
       "      <th>runs_against</th>\n",
       "      <th>division_rank</th>\n",
       "      <th>GB</th>\n",
       "      <th>winning_pitcher</th>\n",
       "      <th>losing_pitcher</th>\n",
       "      <th>time</th>\n",
       "      <th>day_night</th>\n",
       "      <th>streak</th>\n",
       "      <th>year_num</th>\n",
       "      <th>attendance</th>\n",
       "      <th>win_percentage</th>\n",
       "      <th>month_num</th>\n",
       "      <th>day_num</th>\n",
       "      <th>actual_date</th>\n",
       "      <th>day_category</th>\n",
       "      <th>team_category</th>\n",
       "      <th>opponent_category</th>\n",
       "      <th>WL_category</th>\n",
       "      <th>WP_category</th>\n",
       "      <th>LP_category</th>\n",
       "      <th>price</th>\n",
       "      <th>capacity</th>\n",
       "    </tr>\n",
       "  </thead>\n",
       "  <tbody>\n",
       "    <tr>\n",
       "      <th>0</th>\n",
       "      <td>Monday</td>\n",
       "      <td>ARI</td>\n",
       "      <td>COL</td>\n",
       "      <td>L</td>\n",
       "      <td>5</td>\n",
       "      <td>10</td>\n",
       "      <td>4.0</td>\n",
       "      <td>-1.0</td>\n",
       "      <td>Miller</td>\n",
       "      <td>Greinke</td>\n",
       "      <td>251</td>\n",
       "      <td>0</td>\n",
       "      <td>-1</td>\n",
       "      <td>2016</td>\n",
       "      <td>48165</td>\n",
       "      <td>0.00</td>\n",
       "      <td>4</td>\n",
       "      <td>4</td>\n",
       "      <td>2016-04-04</td>\n",
       "      <td>1</td>\n",
       "      <td>0</td>\n",
       "      <td>8</td>\n",
       "      <td>0</td>\n",
       "      <td>360</td>\n",
       "      <td>220</td>\n",
       "      <td>70</td>\n",
       "      <td>48633</td>\n",
       "    </tr>\n",
       "    <tr>\n",
       "      <th>1</th>\n",
       "      <td>Tuesday</td>\n",
       "      <td>ARI</td>\n",
       "      <td>COL</td>\n",
       "      <td>W</td>\n",
       "      <td>11</td>\n",
       "      <td>6</td>\n",
       "      <td>3.0</td>\n",
       "      <td>-1.0</td>\n",
       "      <td>Clippard</td>\n",
       "      <td>Bergman</td>\n",
       "      <td>194</td>\n",
       "      <td>0</td>\n",
       "      <td>1</td>\n",
       "      <td>2016</td>\n",
       "      <td>21830</td>\n",
       "      <td>0.50</td>\n",
       "      <td>4</td>\n",
       "      <td>5</td>\n",
       "      <td>2016-04-05</td>\n",
       "      <td>5</td>\n",
       "      <td>0</td>\n",
       "      <td>8</td>\n",
       "      <td>2</td>\n",
       "      <td>107</td>\n",
       "      <td>40</td>\n",
       "      <td>70</td>\n",
       "      <td>48633</td>\n",
       "    </tr>\n",
       "    <tr>\n",
       "      <th>2</th>\n",
       "      <td>Wednesday</td>\n",
       "      <td>ARI</td>\n",
       "      <td>COL</td>\n",
       "      <td>L</td>\n",
       "      <td>3</td>\n",
       "      <td>4</td>\n",
       "      <td>4.0</td>\n",
       "      <td>-2.0</td>\n",
       "      <td>Chatwood</td>\n",
       "      <td>Corbin</td>\n",
       "      <td>159</td>\n",
       "      <td>1</td>\n",
       "      <td>-1</td>\n",
       "      <td>2016</td>\n",
       "      <td>18572</td>\n",
       "      <td>0.33</td>\n",
       "      <td>4</td>\n",
       "      <td>6</td>\n",
       "      <td>2016-04-06</td>\n",
       "      <td>6</td>\n",
       "      <td>0</td>\n",
       "      <td>8</td>\n",
       "      <td>0</td>\n",
       "      <td>99</td>\n",
       "      <td>112</td>\n",
       "      <td>70</td>\n",
       "      <td>48633</td>\n",
       "    </tr>\n",
       "    <tr>\n",
       "      <th>3</th>\n",
       "      <td>Thursday</td>\n",
       "      <td>ARI</td>\n",
       "      <td>CHC</td>\n",
       "      <td>L</td>\n",
       "      <td>6</td>\n",
       "      <td>14</td>\n",
       "      <td>4.0</td>\n",
       "      <td>-2.0</td>\n",
       "      <td>Lackey</td>\n",
       "      <td>De La Rosa</td>\n",
       "      <td>209</td>\n",
       "      <td>0</td>\n",
       "      <td>-2</td>\n",
       "      <td>2016</td>\n",
       "      <td>24656</td>\n",
       "      <td>0.25</td>\n",
       "      <td>4</td>\n",
       "      <td>7</td>\n",
       "      <td>2016-04-07</td>\n",
       "      <td>4</td>\n",
       "      <td>0</td>\n",
       "      <td>4</td>\n",
       "      <td>0</td>\n",
       "      <td>294</td>\n",
       "      <td>135</td>\n",
       "      <td>70</td>\n",
       "      <td>48633</td>\n",
       "    </tr>\n",
       "    <tr>\n",
       "      <th>4</th>\n",
       "      <td>Friday</td>\n",
       "      <td>ARI</td>\n",
       "      <td>CHC</td>\n",
       "      <td>W</td>\n",
       "      <td>3</td>\n",
       "      <td>2</td>\n",
       "      <td>4.0</td>\n",
       "      <td>-2.0</td>\n",
       "      <td>Ziegler</td>\n",
       "      <td>Cahill</td>\n",
       "      <td>168</td>\n",
       "      <td>0</td>\n",
       "      <td>1</td>\n",
       "      <td>2016</td>\n",
       "      <td>27539</td>\n",
       "      <td>0.40</td>\n",
       "      <td>4</td>\n",
       "      <td>8</td>\n",
       "      <td>2016-04-08</td>\n",
       "      <td>0</td>\n",
       "      <td>0</td>\n",
       "      <td>4</td>\n",
       "      <td>2</td>\n",
       "      <td>603</td>\n",
       "      <td>80</td>\n",
       "      <td>70</td>\n",
       "      <td>48633</td>\n",
       "    </tr>\n",
       "    <tr>\n",
       "      <th>5</th>\n",
       "      <td>Saturday</td>\n",
       "      <td>ARI</td>\n",
       "      <td>CHC</td>\n",
       "      <td>L</td>\n",
       "      <td>2</td>\n",
       "      <td>4</td>\n",
       "      <td>5.0</td>\n",
       "      <td>-2.0</td>\n",
       "      <td>Hendricks</td>\n",
       "      <td>Greinke</td>\n",
       "      <td>166</td>\n",
       "      <td>0</td>\n",
       "      <td>-1</td>\n",
       "      <td>2016</td>\n",
       "      <td>32185</td>\n",
       "      <td>0.33</td>\n",
       "      <td>4</td>\n",
       "      <td>9</td>\n",
       "      <td>2016-04-09</td>\n",
       "      <td>2</td>\n",
       "      <td>0</td>\n",
       "      <td>4</td>\n",
       "      <td>0</td>\n",
       "      <td>236</td>\n",
       "      <td>220</td>\n",
       "      <td>70</td>\n",
       "      <td>48633</td>\n",
       "    </tr>\n",
       "    <tr>\n",
       "      <th>6</th>\n",
       "      <td>Sunday</td>\n",
       "      <td>ARI</td>\n",
       "      <td>CHC</td>\n",
       "      <td>L</td>\n",
       "      <td>3</td>\n",
       "      <td>7</td>\n",
       "      <td>5.0</td>\n",
       "      <td>-3.0</td>\n",
       "      <td>Arrieta</td>\n",
       "      <td>Miller</td>\n",
       "      <td>201</td>\n",
       "      <td>1</td>\n",
       "      <td>-2</td>\n",
       "      <td>2016</td>\n",
       "      <td>33258</td>\n",
       "      <td>0.29</td>\n",
       "      <td>4</td>\n",
       "      <td>10</td>\n",
       "      <td>2016-04-10</td>\n",
       "      <td>3</td>\n",
       "      <td>0</td>\n",
       "      <td>4</td>\n",
       "      <td>0</td>\n",
       "      <td>17</td>\n",
       "      <td>365</td>\n",
       "      <td>70</td>\n",
       "      <td>48633</td>\n",
       "    </tr>\n",
       "    <tr>\n",
       "      <th>7</th>\n",
       "      <td>Friday</td>\n",
       "      <td>ARI</td>\n",
       "      <td>PIT</td>\n",
       "      <td>L</td>\n",
       "      <td>7</td>\n",
       "      <td>8</td>\n",
       "      <td>3.0</td>\n",
       "      <td>-1.5</td>\n",
       "      <td>Niese</td>\n",
       "      <td>Corbin</td>\n",
       "      <td>192</td>\n",
       "      <td>0</td>\n",
       "      <td>-1</td>\n",
       "      <td>2016</td>\n",
       "      <td>27829</td>\n",
       "      <td>0.50</td>\n",
       "      <td>4</td>\n",
       "      <td>22</td>\n",
       "      <td>2016-04-22</td>\n",
       "      <td>0</td>\n",
       "      <td>0</td>\n",
       "      <td>21</td>\n",
       "      <td>0</td>\n",
       "      <td>389</td>\n",
       "      <td>112</td>\n",
       "      <td>70</td>\n",
       "      <td>48633</td>\n",
       "    </tr>\n",
       "    <tr>\n",
       "      <th>8</th>\n",
       "      <td>Saturday</td>\n",
       "      <td>ARI</td>\n",
       "      <td>PIT</td>\n",
       "      <td>W</td>\n",
       "      <td>7</td>\n",
       "      <td>1</td>\n",
       "      <td>2.0</td>\n",
       "      <td>-1.5</td>\n",
       "      <td>De La Rosa</td>\n",
       "      <td>Nicasio</td>\n",
       "      <td>178</td>\n",
       "      <td>0</td>\n",
       "      <td>1</td>\n",
       "      <td>2016</td>\n",
       "      <td>32935</td>\n",
       "      <td>0.53</td>\n",
       "      <td>4</td>\n",
       "      <td>23</td>\n",
       "      <td>2016-04-23</td>\n",
       "      <td>2</td>\n",
       "      <td>0</td>\n",
       "      <td>21</td>\n",
       "      <td>2</td>\n",
       "      <td>132</td>\n",
       "      <td>391</td>\n",
       "      <td>70</td>\n",
       "      <td>48633</td>\n",
       "    </tr>\n",
       "    <tr>\n",
       "      <th>9</th>\n",
       "      <td>Sunday</td>\n",
       "      <td>ARI</td>\n",
       "      <td>PIT</td>\n",
       "      <td>L</td>\n",
       "      <td>10</td>\n",
       "      <td>12</td>\n",
       "      <td>2.0</td>\n",
       "      <td>-2.5</td>\n",
       "      <td>Feliz</td>\n",
       "      <td>Marshall</td>\n",
       "      <td>325</td>\n",
       "      <td>1</td>\n",
       "      <td>-1</td>\n",
       "      <td>2016</td>\n",
       "      <td>27573</td>\n",
       "      <td>0.50</td>\n",
       "      <td>4</td>\n",
       "      <td>24</td>\n",
       "      <td>2016-04-24</td>\n",
       "      <td>3</td>\n",
       "      <td>0</td>\n",
       "      <td>21</td>\n",
       "      <td>0</td>\n",
       "      <td>163</td>\n",
       "      <td>339</td>\n",
       "      <td>70</td>\n",
       "      <td>48633</td>\n",
       "    </tr>\n",
       "  </tbody>\n",
       "</table>\n",
       "</div>"
      ],
      "text/plain": [
       "         day team opponent WL  runs  runs_against  division_rank   GB  \\\n",
       "0     Monday  ARI      COL  L     5            10            4.0 -1.0   \n",
       "1    Tuesday  ARI      COL  W    11             6            3.0 -1.0   \n",
       "2  Wednesday  ARI      COL  L     3             4            4.0 -2.0   \n",
       "3   Thursday  ARI      CHC  L     6            14            4.0 -2.0   \n",
       "4     Friday  ARI      CHC  W     3             2            4.0 -2.0   \n",
       "5   Saturday  ARI      CHC  L     2             4            5.0 -2.0   \n",
       "6     Sunday  ARI      CHC  L     3             7            5.0 -3.0   \n",
       "7     Friday  ARI      PIT  L     7             8            3.0 -1.5   \n",
       "8   Saturday  ARI      PIT  W     7             1            2.0 -1.5   \n",
       "9     Sunday  ARI      PIT  L    10            12            2.0 -2.5   \n",
       "\n",
       "  winning_pitcher losing_pitcher  time  day_night  streak  year_num  \\\n",
       "0          Miller        Greinke   251          0      -1      2016   \n",
       "1        Clippard        Bergman   194          0       1      2016   \n",
       "2        Chatwood         Corbin   159          1      -1      2016   \n",
       "3          Lackey     De La Rosa   209          0      -2      2016   \n",
       "4         Ziegler         Cahill   168          0       1      2016   \n",
       "5       Hendricks        Greinke   166          0      -1      2016   \n",
       "6         Arrieta         Miller   201          1      -2      2016   \n",
       "7           Niese         Corbin   192          0      -1      2016   \n",
       "8      De La Rosa        Nicasio   178          0       1      2016   \n",
       "9           Feliz       Marshall   325          1      -1      2016   \n",
       "\n",
       "   attendance  win_percentage  month_num  day_num actual_date  day_category  \\\n",
       "0       48165            0.00          4        4  2016-04-04             1   \n",
       "1       21830            0.50          4        5  2016-04-05             5   \n",
       "2       18572            0.33          4        6  2016-04-06             6   \n",
       "3       24656            0.25          4        7  2016-04-07             4   \n",
       "4       27539            0.40          4        8  2016-04-08             0   \n",
       "5       32185            0.33          4        9  2016-04-09             2   \n",
       "6       33258            0.29          4       10  2016-04-10             3   \n",
       "7       27829            0.50          4       22  2016-04-22             0   \n",
       "8       32935            0.53          4       23  2016-04-23             2   \n",
       "9       27573            0.50          4       24  2016-04-24             3   \n",
       "\n",
       "   team_category  opponent_category  WL_category  WP_category  LP_category  \\\n",
       "0              0                  8            0          360          220   \n",
       "1              0                  8            2          107           40   \n",
       "2              0                  8            0           99          112   \n",
       "3              0                  4            0          294          135   \n",
       "4              0                  4            2          603           80   \n",
       "5              0                  4            0          236          220   \n",
       "6              0                  4            0           17          365   \n",
       "7              0                 21            0          389          112   \n",
       "8              0                 21            2          132          391   \n",
       "9              0                 21            0          163          339   \n",
       "\n",
       "   price  capacity  \n",
       "0     70     48633  \n",
       "1     70     48633  \n",
       "2     70     48633  \n",
       "3     70     48633  \n",
       "4     70     48633  \n",
       "5     70     48633  \n",
       "6     70     48633  \n",
       "7     70     48633  \n",
       "8     70     48633  \n",
       "9     70     48633  "
      ]
     },
     "metadata": {},
     "output_type": "display_data"
    }
   ],
   "source": [
    "team_df = pd.merge(team_df, capacity, how='inner', on='team')\n",
    "display(team_df.head(10))"
   ]
  },
  {
   "cell_type": "code",
   "execution_count": 170,
   "metadata": {},
   "outputs": [],
   "source": [
    "#For the purpose of our exploratory analysis, let's generate our attendance capacity ratio ahead of our \n",
    "#actual feature engineering section\n",
    "\n",
    "team_df['attendance_ratio'] = round((team_df['attendance']/team_df['capacity'])*100, 2)"
   ]
  },
  {
   "cell_type": "code",
   "execution_count": 171,
   "metadata": {},
   "outputs": [
    {
     "data": {
      "text/plain": [
       "day                          object\n",
       "team                         object\n",
       "opponent                     object\n",
       "WL                           object\n",
       "runs                          int64\n",
       "runs_against                  int64\n",
       "division_rank               float64\n",
       "GB                          float64\n",
       "winning_pitcher              object\n",
       "losing_pitcher               object\n",
       "time                          int64\n",
       "day_night                     int64\n",
       "streak                        int64\n",
       "year_num                      int64\n",
       "attendance                    int64\n",
       "win_percentage              float64\n",
       "month_num                     int64\n",
       "day_num                       int64\n",
       "actual_date          datetime64[ns]\n",
       "day_category                  int64\n",
       "team_category                 int64\n",
       "opponent_category             int64\n",
       "WL_category                   int64\n",
       "WP_category                   int64\n",
       "LP_category                   int64\n",
       "price                         int64\n",
       "capacity                      int64\n",
       "attendance_ratio            float64\n",
       "dtype: object"
      ]
     },
     "execution_count": 171,
     "metadata": {},
     "output_type": "execute_result"
    }
   ],
   "source": [
    "#Final look at our features and data types before exploration\n",
    "team_df.dtypes"
   ]
  },
  {
   "cell_type": "markdown",
   "metadata": {},
   "source": [
    "## Exploratory Analysis"
   ]
  },
  {
   "cell_type": "code",
   "execution_count": 172,
   "metadata": {},
   "outputs": [
    {
     "data": {
      "image/png": "[encoded data removed]",
      "text/plain": [
       "<matplotlib.figure.Figure at 0x1a28c02588>"
      ]
     },
     "metadata": {},
     "output_type": "display_data"
    },
    {
     "name": "stdout",
     "output_type": "stream",
     "text": [
      "count     4845.000000\n",
      "mean     30610.032405\n",
      "std       9426.722997\n",
      "min       2596.000000\n",
      "25%      23080.000000\n",
      "50%      30745.000000\n",
      "75%      38189.000000\n",
      "max      53701.000000\n",
      "Name: attendance, dtype: float64\n"
     ]
    }
   ],
   "source": [
    "#Look at our distribution of attendance\n",
    "plt.figure(figsize=[9,5])\n",
    "sns.distplot(team_df['attendance'])\n",
    "plt.title('Distribution of MLB Attendance')\n",
    "plt.show()\n",
    "print(team_df['attendance'].describe())"
   ]
  },
  {
   "cell_type": "code",
   "execution_count": 173,
   "metadata": {},
   "outputs": [
    {
     "data": {
      "image/png": "[encoded data removed]",
      "text/plain": [
       "<matplotlib.figure.Figure at 0x1a28c1c4e0>"
      ]
     },
     "metadata": {},
     "output_type": "display_data"
    },
    {
     "name": "stdout",
     "output_type": "stream",
     "text": [
      "count    4845.000000\n",
      "mean       71.221777\n",
      "std        20.231875\n",
      "min         6.770000\n",
      "25%        55.190000\n",
      "50%        72.100000\n",
      "75%        88.620000\n",
      "max       124.470000\n",
      "Name: attendance_ratio, dtype: float64\n"
     ]
    }
   ],
   "source": [
    "#Look at distribution of attendance ratio\n",
    "plt.figure(figsize=[9,5])\n",
    "sns.distplot(team_df['attendance_ratio'])\n",
    "plt.title('Distribution of MLB Attendance to Capacity Ratio')\n",
    "plt.show()\n",
    "print(team_df['attendance_ratio'].describe())"
   ]
  },
  {
   "cell_type": "code",
   "execution_count": 174,
   "metadata": {},
   "outputs": [
    {
     "data": {
      "image/png": "[encoded data removed]",
      "text/plain": [
       "<matplotlib.figure.Figure at 0x1a28a5eeb8>"
      ]
     },
     "metadata": {},
     "output_type": "display_data"
    }
   ],
   "source": [
    "#Create variable for avg attendance grouped by team\n",
    "attendance_team = team_df[['attendance', 'team']].groupby('team').mean()\n",
    "\n",
    "#Set plot preferences and show plot\n",
    "attendance_team.plot.bar(figsize=(30, 12))\n",
    "plt.legend(fontsize=20)\n",
    "plt.title('Attendance by Team 2016-2017', fontsize=33)\n",
    "plt.xlabel('Team', fontsize=25)\n",
    "plt.ylabel('Average Attendance', fontsize=25)\n",
    "plt.xticks(fontsize=22)\n",
    "plt.yticks(fontsize=22)\n",
    "plt.show()"
   ]
  },
  {
   "cell_type": "code",
   "execution_count": 175,
   "metadata": {},
   "outputs": [
    {
     "data": {
      "image/png": "[encoded data removed]",
      "text/plain": [
       "<matplotlib.figure.Figure at 0x1a287c27b8>"
      ]
     },
     "metadata": {},
     "output_type": "display_data"
    }
   ],
   "source": [
    "#Create variable for avg attendance grouped by month\n",
    "attendance_month = team_df[['attendance', 'month_num']].groupby('month_num').mean()\n",
    "\n",
    "#Set plot preferences and show plot\n",
    "attendance_month.plot.bar(figsize=(20, 10))\n",
    "plt.legend(fontsize=20)\n",
    "plt.title('Attendance by Month', fontsize=25)\n",
    "plt.xlabel('Month (April - October)', fontsize=20)\n",
    "plt.ylabel('Average Attendance', fontsize=20)\n",
    "plt.xticks(fontsize=15)\n",
    "plt.yticks(fontsize=15)\n",
    "plt.show()"
   ]
  },
  {
   "cell_type": "code",
   "execution_count": 176,
   "metadata": {},
   "outputs": [
    {
     "data": {
      "image/png": "[encoded data removed]",
      "text/plain": [
       "<matplotlib.figure.Figure at 0x1a28c02ba8>"
      ]
     },
     "metadata": {},
     "output_type": "display_data"
    }
   ],
   "source": [
    "# Comparing attendance ratio by day of week\n",
    "plt.figure(figsize=[12,5])\n",
    "ax = sns.boxplot(x='day',y='attendance_ratio', data=team_df, palette='pastel')  \n",
    "plt.title('Attendance Ratio by Day of Week')\n",
    "sns.despine(offset=10, trim=True)\n",
    "ax.set(xlabel='Day of Week', ylabel='Attendance Ratio')\n",
    "plt.show()"
   ]
  },
  {
   "cell_type": "code",
   "execution_count": 177,
   "metadata": {},
   "outputs": [
    {
     "data": {
      "image/png": "[encoded data removed]",
      "text/plain": [
       "<matplotlib.figure.Figure at 0x1a288df4a8>"
      ]
     },
     "metadata": {},
     "output_type": "display_data"
    }
   ],
   "source": [
    "#Look at attendance ratio by division rank\n",
    "plt.figure(figsize=[8,5])\n",
    "sns.stripplot(x=\"division_rank\", y=\"attendance_ratio\", jitter=True, data=team_df, palette='pastel')\n",
    "plt.title('Attendance Ratio by Division Rank')\n",
    "plt.xlabel('Division Rank (1-5)')\n",
    "plt.ylabel('Attendance Ratio')\n",
    "plt.show()"
   ]
  },
  {
   "cell_type": "code",
   "execution_count": 178,
   "metadata": {},
   "outputs": [
    {
     "data": {
      "image/png": "[encoded data removed]",
      "text/plain": [
       "<matplotlib.figure.Figure at 0x1a288c6710>"
      ]
     },
     "metadata": {},
     "output_type": "display_data"
    }
   ],
   "source": [
    "# Comparing attendance by win/loss/tie\n",
    "\n",
    "team_df = team_df.loc[team_df['WL'] != 'T']\n",
    "\n",
    "plt.figure(figsize=[8,8])\n",
    "ax = sns.boxplot(x='WL', y='attendance_ratio', data=team_df, palette='pastel')  \n",
    "plt.title('Attendance Ratio by W/L Category')\n",
    "sns.despine(offset=10, trim=True)\n",
    "ax.set(xlabel='Win or Loss', ylabel='Attendance Ratio')\n",
    "plt.show()"
   ]
  },
  {
   "cell_type": "code",
   "execution_count": 179,
   "metadata": {},
   "outputs": [
    {
     "data": {
      "image/png": "[encoded data removed]",
      "text/plain": [
       "<matplotlib.figure.Figure at 0x1a28bdc390>"
      ]
     },
     "metadata": {},
     "output_type": "display_data"
    }
   ],
   "source": [
    "# Comparing attendance by day/night games\n",
    "plt.figure(figsize=[8,8])\n",
    "ax = sns.boxplot(x='day_night', y='attendance_ratio', data=team_df, palette='pastel')  \n",
    "plt.title('Attendance Ratio by Night/Day Games')\n",
    "sns.despine(offset=10, trim=True)\n",
    "ax.set(xlabel='Night or Day', ylabel='Attendance Ratio')\n",
    "plt.show()"
   ]
  },
  {
   "cell_type": "code",
   "execution_count": 180,
   "metadata": {},
   "outputs": [
    {
     "data": {
      "image/png": "[encoded data removed]",
      "text/plain": [
       "<matplotlib.figure.Figure at 0x1a288cee80>"
      ]
     },
     "metadata": {},
     "output_type": "display_data"
    }
   ],
   "source": [
    "#Scatter plot of attendance ratio vs. GB\n",
    "sns.jointplot(x='GB', y='attendance_ratio', data=team_df, kind='kde')\n",
    "plt.show()"
   ]
  },
  {
   "cell_type": "code",
   "execution_count": 181,
   "metadata": {},
   "outputs": [
    {
     "data": {
      "image/png": "[encoded data removed]",
      "text/plain": [
       "<matplotlib.figure.Figure at 0x1a28a244a8>"
      ]
     },
     "metadata": {},
     "output_type": "display_data"
    }
   ],
   "source": [
    "#Look at attendance vs. streak\n",
    "plt.figure(figsize=[12,5])\n",
    "sns.stripplot(x=\"streak\", y=\"attendance_ratio\", jitter=True, data=team_df, palette='pastel')\n",
    "plt.title('Attendance Ratio vs. Streak')\n",
    "plt.xlabel('Streak')\n",
    "plt.ylabel('Attendance Ratio')\n",
    "plt.show()"
   ]
  },
  {
   "cell_type": "code",
   "execution_count": 182,
   "metadata": {},
   "outputs": [
    {
     "data": {
      "image/png": "[encoded data removed]",
      "text/plain": [
       "<matplotlib.figure.Figure at 0x1a28871470>"
      ]
     },
     "metadata": {},
     "output_type": "display_data"
    }
   ],
   "source": [
    "#Scatter plot of attendance vs. time\n",
    "g = sns.lmplot(x=\"time\", y=\"attendance_ratio\", hue=\"WL\", data=team_df,\n",
    "               palette=\"Set1\")"
   ]
  },
  {
   "cell_type": "code",
   "execution_count": 183,
   "metadata": {},
   "outputs": [
    {
     "data": {
      "image/png": "[encoded data removed]",
      "text/plain": [
       "<matplotlib.figure.Figure at 0x1a1c1625c0>"
      ]
     },
     "metadata": {},
     "output_type": "display_data"
    }
   ],
   "source": [
    "#Correlation matrix\n",
    "f, ax = plt.subplots(figsize=(20, 20))\n",
    "\n",
    "sns.heatmap(team_df.corr())\n",
    "plt.xticks(size=20)\n",
    "plt.yticks(size=20, rotation='horizontal')\n",
    "plt.show()"
   ]
  },
  {
   "cell_type": "markdown",
   "metadata": {},
   "source": [
    "## Feature Engineering"
   ]
  },
  {
   "cell_type": "markdown",
   "metadata": {},
   "source": [
    "beginning, mid, post season indicators, streak team indicator, ticket revenue (price x attendance), removing outliers from attendance etc."
   ]
  },
  {
   "cell_type": "code",
   "execution_count": 184,
   "metadata": {},
   "outputs": [],
   "source": [
    "#Create beginning, mid, and post-season indicators\n",
    "team_df['beginning_season'] = np.where((team_df['month_num'].isin([4, 5, 6])), 1, 0)\n",
    "team_df['mid_season'] = np.where((team_df['month_num'].isin([7, 8, 9])), 1, 0)\n",
    "team_df['post_season'] = np.where((team_df['month_num'] == 10), 1, 0)"
   ]
  },
  {
   "cell_type": "code",
   "execution_count": 185,
   "metadata": {},
   "outputs": [],
   "source": [
    "#Create hot streak indicator (>= 3 games)\n",
    "team_df['hot_streak'] = np.where((team_df['streak'] >= 3), 1, 0)"
   ]
  },
  {
   "cell_type": "code",
   "execution_count": 186,
   "metadata": {},
   "outputs": [],
   "source": [
    "#Create ticket revenue feature (price * attendance)\n",
    "team_df['average_revenue'] = team_df['attendance'] * team_df['price']"
   ]
  },
  {
   "cell_type": "code",
   "execution_count": 187,
   "metadata": {},
   "outputs": [
    {
     "name": "stdout",
     "output_type": "stream",
     "text": [
      "15232.2\n"
     ]
    }
   ],
   "source": [
    "#Get rid of skewness/outliers in attendance\n",
    "print(team_df['attendance'].quantile(0.05))"
   ]
  },
  {
   "cell_type": "code",
   "execution_count": 188,
   "metadata": {},
   "outputs": [],
   "source": [
    "#Transform attendance based on quantile method above - leave high attendance measures as we want to predict later on if they'll be above capacity\n",
    "team_df = team_df[team_df['attendance'] >= 15232]"
   ]
  },
  {
   "cell_type": "code",
   "execution_count": 189,
   "metadata": {},
   "outputs": [
    {
     "name": "stdout",
     "output_type": "stream",
     "text": [
      "count     4601.000000\n",
      "mean     31538.230167\n",
      "std       8732.341515\n",
      "min      15239.000000\n",
      "25%      24194.000000\n",
      "50%      31635.000000\n",
      "75%      38660.000000\n",
      "max      53701.000000\n",
      "Name: attendance, dtype: float64\n",
      "count    4601.000000\n",
      "mean       73.229261\n",
      "std        18.694515\n",
      "min        31.480000\n",
      "25%        57.850000\n",
      "50%        73.590000\n",
      "75%        89.630000\n",
      "max       124.470000\n",
      "Name: attendance_ratio, dtype: float64\n"
     ]
    }
   ],
   "source": [
    "#Confirm this worked\n",
    "print(team_df['attendance'].describe())\n",
    "print(team_df['attendance_ratio'].describe())"
   ]
  },
  {
   "cell_type": "code",
   "execution_count": 190,
   "metadata": {},
   "outputs": [],
   "source": [
    "#Instantiate attendance category column\n",
    "team_df['attendance_category'] = ''"
   ]
  },
  {
   "cell_type": "code",
   "execution_count": 191,
   "metadata": {},
   "outputs": [],
   "source": [
    "#Establish attendance classes and assign to attendance category column (last column)\n",
    "\n",
    "counter = 0\n",
    "\n",
    "for i in team_df['attendance_ratio']:\n",
    "    if i < 50.00:\n",
    "        team_df.iloc[counter, -1] = 'Less than 50% Capacity'\n",
    "\n",
    "    elif i >= 50.00 and i < 75.00:\n",
    "        team_df.iloc[counter, -1] = 'Between 50 and 75% Capacity'\n",
    "        \n",
    "    elif i >= 75.00 and i < 100.00:\n",
    "        team_df.iloc[counter, -1] = 'Between 75 and 100% Capacity'\n",
    "\n",
    "    else:\n",
    "        team_df.iloc[counter, -1] = 'Greater than 100% Capacity'\n",
    "    \n",
    "    counter += 1"
   ]
  },
  {
   "cell_type": "code",
   "execution_count": 192,
   "metadata": {},
   "outputs": [
    {
     "data": {
      "text/plain": [
       "Between 75 and 100% Capacity    1925\n",
       "Between 50 and 75% Capacity     1792\n",
       "Less than 50% Capacity           622\n",
       "Greater than 100% Capacity       262\n",
       "Name: attendance_category, dtype: int64"
      ]
     },
     "execution_count": 192,
     "metadata": {},
     "output_type": "execute_result"
    }
   ],
   "source": [
    "#Confirm our function worked\n",
    "team_df['attendance_category'].value_counts()"
   ]
  },
  {
   "cell_type": "code",
   "execution_count": 193,
   "metadata": {},
   "outputs": [
    {
     "data": {
      "text/plain": [
       "Sunday       781\n",
       "Saturday     779\n",
       "Friday       762\n",
       "Wednesday    672\n",
       "Tuesday      651\n",
       "Thursday     481\n",
       "Monday       475\n",
       "Name: day, dtype: int64"
      ]
     },
     "execution_count": 193,
     "metadata": {},
     "output_type": "execute_result"
    }
   ],
   "source": [
    "#See breakdown of second prediction feature (day of week)\n",
    "team_df['day'].value_counts()"
   ]
  },
  {
   "cell_type": "code",
   "execution_count": 194,
   "metadata": {},
   "outputs": [],
   "source": [
    "#Establish attendance category as a categorical, then encode for modeling purposes\n",
    "team_df['attendance_category'] = team_df['attendance_category'].astype('category')\n",
    "team_df['attendance_category_code'] = encoder.fit_transform(team_df['attendance_category'])"
   ]
  },
  {
   "cell_type": "code",
   "execution_count": 195,
   "metadata": {},
   "outputs": [
    {
     "data": {
      "text/plain": [
       "day                                 object\n",
       "team                                object\n",
       "opponent                            object\n",
       "WL                                  object\n",
       "runs                                 int64\n",
       "runs_against                         int64\n",
       "division_rank                      float64\n",
       "GB                                 float64\n",
       "winning_pitcher                     object\n",
       "losing_pitcher                      object\n",
       "time                                 int64\n",
       "day_night                            int64\n",
       "streak                               int64\n",
       "year_num                             int64\n",
       "attendance                           int64\n",
       "win_percentage                     float64\n",
       "month_num                            int64\n",
       "day_num                              int64\n",
       "actual_date                 datetime64[ns]\n",
       "day_category                         int64\n",
       "team_category                        int64\n",
       "opponent_category                    int64\n",
       "WL_category                          int64\n",
       "WP_category                          int64\n",
       "LP_category                          int64\n",
       "price                                int64\n",
       "capacity                             int64\n",
       "attendance_ratio                   float64\n",
       "beginning_season                     int64\n",
       "mid_season                           int64\n",
       "post_season                          int64\n",
       "hot_streak                           int64\n",
       "average_revenue                      int64\n",
       "attendance_category               category\n",
       "attendance_category_code             int64\n",
       "dtype: object"
      ]
     },
     "execution_count": 195,
     "metadata": {},
     "output_type": "execute_result"
    }
   ],
   "source": [
    "#Final look at data types\n",
    "team_df.dtypes"
   ]
  },
  {
   "cell_type": "markdown",
   "metadata": {},
   "source": [
    "## Model Building"
   ]
  },
  {
   "cell_type": "markdown",
   "metadata": {},
   "source": [
    "**Define Research Question & Establish Baseline**\n",
    "\n",
    "We want to be able to predict the attendance class, as well as the day of the week which the game occurred.\n",
    "\n",
    "**Attendance Class**\n",
    "Our classes have the following makeup:\n",
    "    Less Than 50% Capacity - 622\n",
    "    Between 50 and 75% Capacity - 1792\n",
    "    Between 75 and 100% Capacity - 1925\n",
    "    Greater than 100% Capacity - 262\n",
    "    \n",
    "    Based on this breakdown, our baseline is approximately 42%\n",
    "    \n",
    "**Day of Week**\n",
    "Our classes have the following makeup:\n",
    "    Sunday       781\n",
    "    Saturday     779\n",
    "    Friday       762\n",
    "    Wednesday    672\n",
    "    Tuesday      651\n",
    "    Thursday     481\n",
    "    Monday       475\n",
    "    \n",
    "    Based on this breakdown, our baseline is approximately 17%"
   ]
  },
  {
   "cell_type": "markdown",
   "metadata": {},
   "source": [
    "## Supervised Learning"
   ]
  },
  {
   "cell_type": "code",
   "execution_count": 196,
   "metadata": {},
   "outputs": [
    {
     "name": "stdout",
     "output_type": "stream",
     "text": [
      "(4601, 25)\n"
     ]
    }
   ],
   "source": [
    "#Establish X and Y - X1/Y1 will be Attendance Category while X2/Y2 will be Day of Week\n",
    "\n",
    "X1 = team_df.loc[:, ~team_df.columns.isin(['day', 'team', 'opponent', 'WL', 'actual_date', 'attendance_ratio', 'attendance_category', 'attendance_category_code', 'winning_pitcher', 'losing_pitcher'])]\n",
    "Y1 = team_df.attendance_category_code\n",
    "\n",
    "X2 = team_df.loc[:, ~team_df.columns.isin(['day', 'team', 'opponent', 'WL', 'actual_date', 'attendance_ratio', 'attendance_category', 'attendance_category_code', 'winning_pitcher', 'losing_pitcher'])]\n",
    "Y2 = team_df.attendance_category_code\n",
    "\n",
    "#Show final feature count that goes into model\n",
    "print(X1.shape)"
   ]
  },
  {
   "cell_type": "markdown",
   "metadata": {},
   "source": [
    "**Finding Best Parameters**"
   ]
  },
  {
   "cell_type": "code",
   "execution_count": 197,
   "metadata": {},
   "outputs": [],
   "source": [
    "def tuned_params(model, ModX, ModY):\n",
    "    \n",
    "        if model == 'KNN':\n",
    "                KNN = np.arange(1, 501, 100)\n",
    "                KNN_df = pd.DataFrame()\n",
    "                for i in KNN:\n",
    "                    KNN_model = KNeighborsClassifier(n_neighbors=i, weights='distance')\n",
    "                    KNN_model.fit(ModX, ModY)\n",
    "                    positive_pred = KNN_model.predict(ModX)\n",
    "                    cross_val = cross_val_score(KNN_model, ModX, ModY, cv=5).mean()*100\n",
    "                    score = KNN_model.score(ModX, ModY)*100\n",
    "                    KNN_df_temp = pd.DataFrame({'K': i, 'training': score, 'test': cross_val}, index=[0])\n",
    "                    KNN_df = KNN_df.append(KNN_df_temp)\n",
    "                plt.plot(KNN_df['K'], KNN_df['training'], color = 'r', linewidth = 3, label='Training')\n",
    "                plt.plot(KNN_df['K'], KNN_df['test'], color = 'b', linewidth = 3, label='Test')\n",
    "                plt.xlabel('K Parameter', fontsize=20)\n",
    "                plt.title('KNN - Training vs. Test')\n",
    "                plt.show()\n",
    "                \n",
    "        elif model == 'Random Forest':\n",
    "                random_forest = np.arange(100, 500, 100)\n",
    "                random_forest_df = pd.DataFrame()\n",
    "                for i in random_forest:\n",
    "                    rfc = ensemble.RandomForestClassifier(n_estimators=i)\n",
    "                    rfc.fit(ModX, ModY)\n",
    "                    positive_pred = rfc.predict(ModX)\n",
    "                    cross_val = cross_val_score(rfc, ModX, ModY, cv=5).mean()*100\n",
    "                    score = rfc.score(ModX, ModY)*100\n",
    "                    random_forest_df_temp = pd.DataFrame({'estimators': i, 'training': score, 'test': cross_val}, index=[0])\n",
    "                    random_forest_df = random_forest_df.append(random_forest_df_temp)\n",
    "                plt.plot(random_forest_df['estimators'], random_forest_df['training'], color = 'r', linewidth = 3, label='Training')\n",
    "                plt.plot(random_forest_df['estimators'], random_forest_df['test'], color = 'b', linewidth = 3, label='Test')\n",
    "                plt.xlabel('Estimators Parameter', fontsize=20)\n",
    "                plt.title('Random Forest - Training vs. Test')\n",
    "                plt.show()\n",
    "        \n",
    "        elif model == 'Ridge':\n",
    "                ridge = np.arange(1, 5001, 1000)\n",
    "                ridge_df = pd.DataFrame()\n",
    "                for i in ridge:\n",
    "                    lr_ridge = LogisticRegression(C=i, multi_class='multinomial', solver='newton-cg')\n",
    "                    lr_ridge.fit(ModX, ModY)\n",
    "                    positive_pred = lr_ridge.predict(ModX)\n",
    "                    cross_val = cross_val_score(lr_ridge, ModX, ModY, cv=5).mean()*100\n",
    "                    score = lr_ridge.score(ModX, ModY)*100\n",
    "                    ridge_df_temp = pd.DataFrame({'C': i, 'training': score, 'test': cross_val}, index=[0])\n",
    "                    ridge_df = ridge_df.append(ridge_df_temp)\n",
    "                plt.plot(ridge_df['C'], ridge_df['training'], color = 'r', linewidth = 3, label='Training')\n",
    "                plt.plot(ridge_df['C'], ridge_df['test'], color = 'b', linewidth = 3, label='Test')\n",
    "                plt.xlabel('C Parameter', fontsize=20)\n",
    "                plt.title('Ridge - Training vs. Test')\n",
    "                plt.show()\n",
    "                \n",
    "        elif model == 'SVC':\n",
    "                svc = np.arange(0.2, 1.0, 0.2)\n",
    "                svc_df = pd.DataFrame()\n",
    "                for i in svc:\n",
    "                    svm = SVC(C=i)\n",
    "                    svm.fit(ModX, ModY)\n",
    "                    positive_pred = svm.predict(ModX)\n",
    "                    cross_val = cross_val_score(svm, ModX, ModY, cv=5).mean()*100\n",
    "                    score = svm.score(ModX, ModY)*100\n",
    "                    svc_df_temp = pd.DataFrame({'C': i, 'training': score, 'test': cross_val}, index=[0])\n",
    "                    svc_df = svc_df.append(svc_df_temp)\n",
    "                plt.plot(svc_df['C'], svc_df['training'], color = 'r', linewidth = 3, label='Training')\n",
    "                plt.plot(svc_df['C'], svc_df['test'], color = 'b', linewidth = 3, label='Test')\n",
    "                plt.xlabel('C Parameter', fontsize=20)\n",
    "                plt.title('SVC - Training vs. Test')\n",
    "                plt.show()\n",
    "                \n",
    "        else:\n",
    "                grad_boost = np.arange(100, 500, 100)\n",
    "                grad_boost_df = pd.DataFrame()\n",
    "                for i in grad_boost:\n",
    "                    clf = ensemble.GradientBoostingClassifier(n_estimators=i)\n",
    "                    clf.fit(ModX, ModY)\n",
    "                    positive_pred = clf.predict(ModX)\n",
    "                    cross_val = cross_val_score(clf, ModX, ModY, cv=5).mean()*100\n",
    "                    score = clf.score(ModX, ModY)*100\n",
    "                    grad_boost_df_temp = pd.DataFrame({'estimators': i, 'training': score, 'test': cross_val}, index=[0])\n",
    "                    grad_boost_df = grad_boost_df.append(grad_boost_df_temp)\n",
    "                plt.plot(grad_boost_df['estimators'], grad_boost_df['training'], color = 'r', linewidth = 3, label='Training')\n",
    "                plt.plot(grad_boost_df['estimators'], grad_boost_df['test'], color = 'b', linewidth = 3, label='Test')\n",
    "                plt.xlabel('Estimators Parameter', fontsize=20)\n",
    "                plt.title('Gradient Boost - Training vs. Test')\n",
    "                plt.show()"
   ]
  },
  {
   "cell_type": "markdown",
   "metadata": {},
   "source": [
    "**KNN Classification**"
   ]
  },
  {
   "cell_type": "code",
   "execution_count": 198,
   "metadata": {},
   "outputs": [],
   "source": [
    "#Create function\n",
    "\n",
    "def KNN_Model(k, weight, ModX, ModY):\n",
    "    import timeit\n",
    "    start = timeit.default_timer()\n",
    "    KNN = KNeighborsClassifier(n_neighbors=k, weights=weight)\n",
    "    KNN.fit(ModX, ModY)\n",
    "    positive_pred = KNN.predict(ModX)\n",
    "    print('\\n Percentage accuracy for K Nearest Neighbors Classifier')\n",
    "    print(str(KNN.score(ModX, ModY)*100) + '%')\n",
    "    print('\\n Cross-Validation Score')\n",
    "    print(cross_val_score(KNN, ModX, ModY, cv=5))\n",
    "    print('\\n Confusion Matrix')\n",
    "    display(confusion_matrix(ModY, positive_pred))\n",
    "    \n",
    "    #Print time\n",
    "    stop = timeit.default_timer()\n",
    "    execution_time = stop - start\n",
    "    print(\"\\n\\n Program Executed in {}\".format(round(execution_time, 2)))"
   ]
  },
  {
   "cell_type": "code",
   "execution_count": 199,
   "metadata": {},
   "outputs": [
    {
     "data": {
      "image/png": "[encoded data removed]",
      "text/plain": [
       "<matplotlib.figure.Figure at 0x1a1b6f1160>"
      ]
     },
     "metadata": {},
     "output_type": "display_data"
    }
   ],
   "source": [
    "#Find best params - Attendance\n",
    "tuned_params('KNN', X1, Y1)"
   ]
  },
  {
   "cell_type": "code",
   "execution_count": 200,
   "metadata": {},
   "outputs": [
    {
     "data": {
      "image/png": "[encoded data removed]",
      "text/plain": [
       "<matplotlib.figure.Figure at 0x116b5d7f0>"
      ]
     },
     "metadata": {},
     "output_type": "display_data"
    }
   ],
   "source": [
    "#Find best params - Day of Week\n",
    "tuned_params('KNN', X2, Y2)"
   ]
  },
  {
   "cell_type": "code",
   "execution_count": 201,
   "metadata": {},
   "outputs": [
    {
     "name": "stdout",
     "output_type": "stream",
     "text": [
      "\n",
      " Percentage accuracy for K Nearest Neighbors Classifier\n",
      "90.5455335796566%\n",
      "\n",
      " Cross-Validation Score\n",
      "[0.76355748 0.78850325 0.74972797 0.7508161  0.75734494]\n",
      "\n",
      " Confusion Matrix\n"
     ]
    },
    {
     "data": {
      "text/plain": [
       "array([[1665,   93,    1,   33],\n",
       "       [ 104, 1780,   40,    1],\n",
       "       [   8,   84,  170,    0],\n",
       "       [  71,    0,    0,  551]])"
      ]
     },
     "metadata": {},
     "output_type": "display_data"
    },
    {
     "name": "stdout",
     "output_type": "stream",
     "text": [
      "\n",
      "\n",
      " Program Executed in 0.17\n"
     ]
    }
   ],
   "source": [
    "#Run Attendance Model\n",
    "KNN_Model(5, 'uniform', X1, Y1)"
   ]
  },
  {
   "cell_type": "code",
   "execution_count": 202,
   "metadata": {},
   "outputs": [
    {
     "name": "stdout",
     "output_type": "stream",
     "text": [
      "\n",
      " Percentage accuracy for K Nearest Neighbors Classifier\n",
      "90.5455335796566%\n",
      "\n",
      " Cross-Validation Score\n",
      "[0.76355748 0.78850325 0.74972797 0.7508161  0.75734494]\n",
      "\n",
      " Confusion Matrix\n"
     ]
    },
    {
     "data": {
      "text/plain": [
       "array([[1665,   93,    1,   33],\n",
       "       [ 104, 1780,   40,    1],\n",
       "       [   8,   84,  170,    0],\n",
       "       [  71,    0,    0,  551]])"
      ]
     },
     "metadata": {},
     "output_type": "display_data"
    },
    {
     "name": "stdout",
     "output_type": "stream",
     "text": [
      "\n",
      "\n",
      " Program Executed in 0.17\n"
     ]
    }
   ],
   "source": [
    "#Run Day of Week Model\n",
    "KNN_Model(5, 'uniform', X2, Y2)"
   ]
  },
  {
   "cell_type": "markdown",
   "metadata": {},
   "source": [
    "**Random Forest Classification**"
   ]
  },
  {
   "cell_type": "code",
   "execution_count": 203,
   "metadata": {},
   "outputs": [],
   "source": [
    "#Create function\n",
    "\n",
    "def RFC_Model(trees, ModX, ModY):\n",
    "    import timeit\n",
    "    start = timeit.default_timer()\n",
    "    rfc = ensemble.RandomForestClassifier(n_estimators=trees)\n",
    "    rfc.fit(ModX, ModY)\n",
    "    positive_pred = rfc.predict(ModX)\n",
    "    print('\\n Percentage accuracy for Random Forest Classifier')\n",
    "    print(str(rfc.score(ModX, ModY)*100) + '%')\n",
    "    print('\\n Cross-Validation Score')\n",
    "    print(cross_val_score(rfc, ModX, ModY, cv=5))\n",
    "    print('\\n Confusion Matrix')\n",
    "    display(confusion_matrix(ModY, positive_pred))\n",
    "    \n",
    "    #Print time\n",
    "    stop = timeit.default_timer()\n",
    "    execution_time = stop - start\n",
    "    print(\"\\n\\n Program Executed in {}\".format(round(execution_time, 2)))"
   ]
  },
  {
   "cell_type": "code",
   "execution_count": 204,
   "metadata": {},
   "outputs": [
    {
     "data": {
      "image/png": "[encoded data removed]",
      "text/plain": [
       "<matplotlib.figure.Figure at 0x1a28d172b0>"
      ]
     },
     "metadata": {},
     "output_type": "display_data"
    }
   ],
   "source": [
    "#Find best params - Attendance\n",
    "tuned_params('Random Forest', X1, Y1)"
   ]
  },
  {
   "cell_type": "code",
   "execution_count": 205,
   "metadata": {},
   "outputs": [
    {
     "data": {
      "image/png": "[encoded data removed]",
      "text/plain": [
       "<matplotlib.figure.Figure at 0x1a1bf1fac8>"
      ]
     },
     "metadata": {},
     "output_type": "display_data"
    }
   ],
   "source": [
    "#Find best params - Day of Week\n",
    "tuned_params('Random Forest', X2, Y2)"
   ]
  },
  {
   "cell_type": "code",
   "execution_count": 206,
   "metadata": {},
   "outputs": [
    {
     "name": "stdout",
     "output_type": "stream",
     "text": [
      "\n",
      " Percentage accuracy for Random Forest Classifier\n",
      "100.0%\n",
      "\n",
      " Cross-Validation Score\n",
      "[0.34815618 0.84381779 0.84983678 0.78998912 0.78346028]\n",
      "\n",
      " Confusion Matrix\n"
     ]
    },
    {
     "data": {
      "text/plain": [
       "array([[1792,    0,    0,    0],\n",
       "       [   0, 1925,    0,    0],\n",
       "       [   0,    0,  262,    0],\n",
       "       [   0,    0,    0,  622]])"
      ]
     },
     "metadata": {},
     "output_type": "display_data"
    },
    {
     "name": "stdout",
     "output_type": "stream",
     "text": [
      "\n",
      "\n",
      " Program Executed in 7.38\n"
     ]
    }
   ],
   "source": [
    "#Run Attendance Model\n",
    "RFC_Model(200, X1, Y1)"
   ]
  },
  {
   "cell_type": "code",
   "execution_count": 207,
   "metadata": {},
   "outputs": [
    {
     "name": "stdout",
     "output_type": "stream",
     "text": [
      "\n",
      " Percentage accuracy for Random Forest Classifier\n",
      "100.0%\n",
      "\n",
      " Cross-Validation Score\n",
      "[0.29501085 0.84707158 0.85527748 0.78781284 0.79978237]\n",
      "\n",
      " Confusion Matrix\n"
     ]
    },
    {
     "data": {
      "text/plain": [
       "array([[1792,    0,    0,    0],\n",
       "       [   0, 1925,    0,    0],\n",
       "       [   0,    0,  262,    0],\n",
       "       [   0,    0,    0,  622]])"
      ]
     },
     "metadata": {},
     "output_type": "display_data"
    },
    {
     "name": "stdout",
     "output_type": "stream",
     "text": [
      "\n",
      "\n",
      " Program Executed in 7.53\n"
     ]
    }
   ],
   "source": [
    "#Run Day of Week Model\n",
    "RFC_Model(200, X2, Y2)"
   ]
  },
  {
   "cell_type": "markdown",
   "metadata": {},
   "source": [
    "**Gradient Boosting Classification**"
   ]
  },
  {
   "cell_type": "code",
   "execution_count": 208,
   "metadata": {},
   "outputs": [],
   "source": [
    "#Create function\n",
    "\n",
    "def Gradient_Boost_Model(estimators, depth, loss_function, ModX, ModY):\n",
    "    import timeit\n",
    "    start = timeit.default_timer()\n",
    "    clf = ensemble.GradientBoostingClassifier(n_estimators=estimators, max_depth=depth, loss=loss_function)\n",
    "    clf.fit(ModX, ModY)\n",
    "    positive_pred = clf.predict(ModX)\n",
    "    print('\\n Percentage accuracy for Gradient Boosting Classifier')\n",
    "    print(str(clf.score(ModX, ModY)*100) + '%')\n",
    "    print('\\n Cross-Validation Score')\n",
    "    print(cross_val_score(clf, ModX, ModY, cv=5))\n",
    "    print('\\n Confusion Matrix')\n",
    "    display(confusion_matrix(ModY, positive_pred))\n",
    "    \n",
    "    #Print time\n",
    "    stop = timeit.default_timer()\n",
    "    execution_time = stop - start\n",
    "    print(\"\\n\\n Program Executed in {}\".format(round(execution_time, 2)))"
   ]
  },
  {
   "cell_type": "code",
   "execution_count": 209,
   "metadata": {},
   "outputs": [
    {
     "data": {
      "image/png": "[encoded data removed]",
      "text/plain": [
       "<matplotlib.figure.Figure at 0x1a28c8b3c8>"
      ]
     },
     "metadata": {},
     "output_type": "display_data"
    }
   ],
   "source": [
    "#Find best params - Attendance\n",
    "tuned_params('GB', X1, Y1)"
   ]
  },
  {
   "cell_type": "code",
   "execution_count": 210,
   "metadata": {},
   "outputs": [
    {
     "data": {
      "image/png": "[encoded data removed]",
      "text/plain": [
       "<matplotlib.figure.Figure at 0x1a28be19e8>"
      ]
     },
     "metadata": {},
     "output_type": "display_data"
    }
   ],
   "source": [
    "#Find best params - Day of Week\n",
    "tuned_params('GB', X2, Y2)"
   ]
  },
  {
   "cell_type": "code",
   "execution_count": 211,
   "metadata": {},
   "outputs": [
    {
     "name": "stdout",
     "output_type": "stream",
     "text": [
      "\n",
      " Percentage accuracy for Gradient Boosting Classifier\n",
      "100.0%\n",
      "\n",
      " Cross-Validation Score\n",
      "[0.77657267 0.94143167 0.89445049 0.85745375 0.88683351]\n",
      "\n",
      " Confusion Matrix\n"
     ]
    },
    {
     "data": {
      "text/plain": [
       "array([[1792,    0,    0,    0],\n",
       "       [   0, 1925,    0,    0],\n",
       "       [   0,    0,  262,    0],\n",
       "       [   0,    0,    0,  622]])"
      ]
     },
     "metadata": {},
     "output_type": "display_data"
    },
    {
     "name": "stdout",
     "output_type": "stream",
     "text": [
      "\n",
      "\n",
      " Program Executed in 72.09\n"
     ]
    }
   ],
   "source": [
    "#Run Attendance Model\n",
    "Gradient_Boost_Model(300, 3, 'deviance', X1, Y1)"
   ]
  },
  {
   "cell_type": "code",
   "execution_count": 212,
   "metadata": {},
   "outputs": [
    {
     "name": "stdout",
     "output_type": "stream",
     "text": [
      "\n",
      " Percentage accuracy for Gradient Boosting Classifier\n",
      "100.0%\n",
      "\n",
      " Cross-Validation Score\n",
      "[0.81453362 0.94034707 0.89445049 0.86398259 0.89009793]\n",
      "\n",
      " Confusion Matrix\n"
     ]
    },
    {
     "data": {
      "text/plain": [
       "array([[1792,    0,    0,    0],\n",
       "       [   0, 1925,    0,    0],\n",
       "       [   0,    0,  262,    0],\n",
       "       [   0,    0,    0,  622]])"
      ]
     },
     "metadata": {},
     "output_type": "display_data"
    },
    {
     "name": "stdout",
     "output_type": "stream",
     "text": [
      "\n",
      "\n",
      " Program Executed in 83.71\n"
     ]
    }
   ],
   "source": [
    "#Run Day of Week Model\n",
    "Gradient_Boost_Model(350, 3, 'deviance', X2, Y2)"
   ]
  },
  {
   "cell_type": "markdown",
   "metadata": {},
   "source": [
    "**Logistic Regression**"
   ]
  },
  {
   "cell_type": "code",
   "execution_count": 213,
   "metadata": {},
   "outputs": [],
   "source": [
    "def Logistic_Reg_Model(regularization, alpha, ModX, ModY):\n",
    "    import timeit\n",
    "    start = timeit.default_timer()\n",
    "    if regularization == 'l2' and alpha == 1e9:\n",
    "        lr_regular = LogisticRegression(penalty=regularization, C=alpha, multi_class='multinomial', solver='lbfgs')\n",
    "        lr_regular.fit(ModX, ModY)\n",
    "        positive_pred = lr_regular.predict(ModX)\n",
    "        print('\\n Percentage accuracy for Logistic Regression')\n",
    "        print(str(lr_regular.score(ModX, ModY)*100) + '%')\n",
    "        print('\\n Cross-Validation Score')\n",
    "        print(cross_val_score(lr_regular, ModX, ModY, cv=5))\n",
    "        print('\\n Confusion Matrix')\n",
    "        display(confusion_matrix(ModY, positive_pred))\n",
    "        \n",
    "    else:\n",
    "        lr_ridge = LogisticRegression(penalty=regularization, C=alpha, multi_class='multinomial', solver='lbfgs')\n",
    "        lr_ridge.fit(ModX, ModY)\n",
    "        positive_pred = lr_ridge.predict(ModX)\n",
    "        print('\\n Percentage accuracy for Ridge Logistic Regression')\n",
    "        print(str(lr_ridge.score(ModX, ModY)*100) + '%')\n",
    "        print('\\n Cross-Validation Score')\n",
    "        print(cross_val_score(lr_ridge, ModX, ModY, cv=5))\n",
    "        print('\\n Confusion Matrix')\n",
    "        display(confusion_matrix(ModY, positive_pred))\n",
    "        \n",
    "     #Print time\n",
    "    stop = timeit.default_timer()\n",
    "    execution_time = stop - start\n",
    "    print(\"\\n\\n Program Executed in {}\".format(round(execution_time, 2)))"
   ]
  },
  {
   "cell_type": "code",
   "execution_count": 214,
   "metadata": {},
   "outputs": [
    {
     "name": "stdout",
     "output_type": "stream",
     "text": [
      "\n",
      " Percentage accuracy for Logistic Regression\n",
      "99.56531188871985%\n",
      "\n",
      " Cross-Validation Score\n",
      "[0.95227766 0.95010846 0.99020675 0.9640914  0.92165397]\n",
      "\n",
      " Confusion Matrix\n"
     ]
    },
    {
     "data": {
      "text/plain": [
       "array([[1788,    1,    0,    3],\n",
       "       [   5, 1917,    3,    0],\n",
       "       [   0,    3,  259,    0],\n",
       "       [   5,    0,    0,  617]])"
      ]
     },
     "metadata": {},
     "output_type": "display_data"
    },
    {
     "name": "stdout",
     "output_type": "stream",
     "text": [
      "\n",
      "\n",
      " Program Executed in 2.34\n"
     ]
    }
   ],
   "source": [
    "#Run Attendance Model\n",
    "Logistic_Reg_Model('l2', 1e9, X1, Y1)"
   ]
  },
  {
   "cell_type": "code",
   "execution_count": 215,
   "metadata": {},
   "outputs": [
    {
     "name": "stdout",
     "output_type": "stream",
     "text": [
      "\n",
      " Percentage accuracy for Logistic Regression\n",
      "99.56531188871985%\n",
      "\n",
      " Cross-Validation Score\n",
      "[0.95227766 0.95010846 0.99020675 0.9640914  0.92165397]\n",
      "\n",
      " Confusion Matrix\n"
     ]
    },
    {
     "data": {
      "text/plain": [
       "array([[1788,    1,    0,    3],\n",
       "       [   5, 1917,    3,    0],\n",
       "       [   0,    3,  259,    0],\n",
       "       [   5,    0,    0,  617]])"
      ]
     },
     "metadata": {},
     "output_type": "display_data"
    },
    {
     "name": "stdout",
     "output_type": "stream",
     "text": [
      "\n",
      "\n",
      " Program Executed in 2.19\n"
     ]
    }
   ],
   "source": [
    "#Run Day of Week Model\n",
    "Logistic_Reg_Model('l2', 1e9, X2, Y2)"
   ]
  },
  {
   "cell_type": "markdown",
   "metadata": {},
   "source": [
    "**Ridge Logistic Regression (multiclass)**\n"
   ]
  },
  {
   "cell_type": "code",
   "execution_count": 216,
   "metadata": {},
   "outputs": [],
   "source": [
    "#Run Attendance Model"
   ]
  },
  {
   "cell_type": "code",
   "execution_count": 217,
   "metadata": {},
   "outputs": [],
   "source": [
    "#Run Day of Week Model"
   ]
  },
  {
   "cell_type": "markdown",
   "metadata": {},
   "source": [
    "**Support Vector Classification**"
   ]
  },
  {
   "cell_type": "code",
   "execution_count": 218,
   "metadata": {},
   "outputs": [],
   "source": [
    "#Create function\n",
    "\n",
    "def SVC_Model(c, kernel_type, ModX, ModY):\n",
    "    import timeit\n",
    "    start = timeit.default_timer()\n",
    "    svm = SVC(C=c, kernel=kernel_type)\n",
    "    svm.fit(ModX, ModY)\n",
    "    positive_pred = svm.predict(ModX)\n",
    "    print('\\n Percentage accuracy for SVM')\n",
    "    print(str(svm.score(ModX, ModY)*100) + '%')\n",
    "    print('\\n Cross-Validation Score')\n",
    "    print(cross_val_score(svm, ModX, ModY, cv=5))\n",
    "    print('\\n Confusion Matrix')\n",
    "    display(confusion_matrix(ModY, positive_pred))\n",
    "    \n",
    "    #Print time\n",
    "    stop = timeit.default_timer()\n",
    "    execution_time = stop - start\n",
    "    print(\"\\n\\n Program Executed in {}\".format(round(execution_time, 2)))"
   ]
  },
  {
   "cell_type": "code",
   "execution_count": 219,
   "metadata": {},
   "outputs": [
    {
     "data": {
      "image/png": "[encoded data removed]",
      "text/plain": [
       "<matplotlib.figure.Figure at 0x1a287cbe48>"
      ]
     },
     "metadata": {},
     "output_type": "display_data"
    }
   ],
   "source": [
    "#Find best params - Attendance\n",
    "tuned_params('SVC', X1, Y1)"
   ]
  },
  {
   "cell_type": "code",
   "execution_count": 220,
   "metadata": {},
   "outputs": [
    {
     "data": {
      "image/png": "[encoded data removed]",
      "text/plain": [
       "<matplotlib.figure.Figure at 0x1a287cb588>"
      ]
     },
     "metadata": {},
     "output_type": "display_data"
    }
   ],
   "source": [
    "#Find best params - Day of Week\n",
    "tuned_params('SVC', X2, Y2)"
   ]
  },
  {
   "cell_type": "code",
   "execution_count": 221,
   "metadata": {},
   "outputs": [
    {
     "name": "stdout",
     "output_type": "stream",
     "text": [
      "\n",
      " Percentage accuracy for SVM\n",
      "41.83873071071506%\n",
      "\n",
      " Cross-Validation Score\n",
      "[0.4175705  0.4175705  0.41893362 0.41893362 0.41893362]\n",
      "\n",
      " Confusion Matrix\n"
     ]
    },
    {
     "data": {
      "text/plain": [
       "array([[   0, 1792,    0,    0],\n",
       "       [   0, 1925,    0,    0],\n",
       "       [   0,  262,    0,    0],\n",
       "       [   0,  622,    0,    0]])"
      ]
     },
     "metadata": {},
     "output_type": "display_data"
    },
    {
     "name": "stdout",
     "output_type": "stream",
     "text": [
      "\n",
      "\n",
      " Program Executed in 16.29\n"
     ]
    }
   ],
   "source": [
    "#Run Attendance Model\n",
    "SVC_Model(0.2, 'rbf', X1, Y1)"
   ]
  },
  {
   "cell_type": "code",
   "execution_count": 222,
   "metadata": {},
   "outputs": [
    {
     "name": "stdout",
     "output_type": "stream",
     "text": [
      "\n",
      " Percentage accuracy for SVM\n",
      "41.83873071071506%\n",
      "\n",
      " Cross-Validation Score\n",
      "[0.4175705  0.4175705  0.41893362 0.41893362 0.41893362]\n",
      "\n",
      " Confusion Matrix\n"
     ]
    },
    {
     "data": {
      "text/plain": [
       "array([[   0, 1792,    0,    0],\n",
       "       [   0, 1925,    0,    0],\n",
       "       [   0,  262,    0,    0],\n",
       "       [   0,  622,    0,    0]])"
      ]
     },
     "metadata": {},
     "output_type": "display_data"
    },
    {
     "name": "stdout",
     "output_type": "stream",
     "text": [
      "\n",
      "\n",
      " Program Executed in 16.25\n"
     ]
    }
   ],
   "source": [
    "#Run Day of Week Model\n",
    "SVC_Model(0.2, 'rbf', X2, Y2)"
   ]
  },
  {
   "cell_type": "markdown",
   "metadata": {},
   "source": [
    "## Unsupervised Learning"
   ]
  },
  {
   "cell_type": "markdown",
   "metadata": {},
   "source": [
    "Explore our data through a couple different clustering techniques"
   ]
  },
  {
   "cell_type": "markdown",
   "metadata": {},
   "source": [
    "**KMeans Clustering**"
   ]
  },
  {
   "cell_type": "code",
   "execution_count": 223,
   "metadata": {},
   "outputs": [],
   "source": [
    "#Create function\n",
    "def kmeans(clusters, ModX, ModY):\n",
    "    kmeans_pred = KMeans(n_clusters=clusters).fit_predict(ModX)\n",
    "    print('Comparing K-Means Clusters for MLB Games:')\n",
    "    print(pd.crosstab(ModY, kmeans_pred))\n",
    "    \n",
    "    #Plot cluster results\n",
    "    prediction = pd.crosstab(kmeans_pred, ModY)\n",
    "    prediction.plot(kind='bar', stacked=False, figsize=[20,5])\n",
    "    plt.title('MLB Games Categorized by KMeans Clusters')\n",
    "    plt.xlabel('Cluster')\n",
    "    plt.ylabel('Count')\n",
    "    plt.show()"
   ]
  },
  {
   "cell_type": "code",
   "execution_count": 224,
   "metadata": {},
   "outputs": [
    {
     "name": "stdout",
     "output_type": "stream",
     "text": [
      "Comparing K-Means Clusters for MLB Games:\n",
      "col_0                       0    1   2    3    4    5    6    7   8    9\n",
      "attendance_category_code                                                \n",
      "0                         483   86   1  127  439    2  399   13   0  242\n",
      "1                          95  455  56   10  252  433    4  181  60  379\n",
      "2                           4   55   0    0   26   52    3   78  28   16\n",
      "3                          69    0   0  344    1    0  208    0   0    0\n"
     ]
    },
    {
     "data": {
      "image/png": "[encoded data removed]",
      "text/plain": [
       "<matplotlib.figure.Figure at 0x1a1cc5cf60>"
      ]
     },
     "metadata": {},
     "output_type": "display_data"
    }
   ],
   "source": [
    "#Run Attendance Model\n",
    "kmeans(10, X1, Y1)"
   ]
  },
  {
   "cell_type": "code",
   "execution_count": 225,
   "metadata": {},
   "outputs": [
    {
     "name": "stdout",
     "output_type": "stream",
     "text": [
      "Comparing K-Means Clusters for MLB Games:\n",
      "col_0                       0    1    2   3    4    5    6   7    8    9\n",
      "attendance_category_code                                                \n",
      "0                         251   12  394   0  124    3  446   2   90  470\n",
      "1                         375  197    4  62   10  429  252  54  460   82\n",
      "2                          17   81    3  28    0   49   25   1   54    4\n",
      "3                           0    0  206   0  342    0    2   0    0   72\n"
     ]
    },
    {
     "data": {
      "image/png": "[encoded data removed]",
      "text/plain": [
       "<matplotlib.figure.Figure at 0x1a1cc5c6d8>"
      ]
     },
     "metadata": {},
     "output_type": "display_data"
    }
   ],
   "source": [
    "#Run Day of Week Model\n",
    "kmeans(10, X2, Y2)"
   ]
  },
  {
   "cell_type": "markdown",
   "metadata": {},
   "source": [
    "**Mean Shift Clustering**"
   ]
  },
  {
   "cell_type": "code",
   "execution_count": 226,
   "metadata": {},
   "outputs": [],
   "source": [
    "#Create function\n",
    "def mean_shift(ModX, ModY):\n",
    "    bandwidth = estimate_bandwidth(ModX, quantile=0.3)\n",
    "    meanshift_pred = MeanShift(bandwidth=bandwidth, bin_seeding=True).fit_predict(ModX)\n",
    "    print('Comparing Mean Shift Clusters for MLB Games:')\n",
    "    print(pd.crosstab(ModY, meanshift_pred))\n",
    "    \n",
    "    #Plot cluster results\n",
    "    prediction = pd.crosstab(meanshift_pred, ModY)\n",
    "    prediction.plot(kind='bar', stacked=False, figsize=[20,5])\n",
    "    plt.title('MLB Games Categorized by Mean Shift Clusters')\n",
    "    plt.xlabel('Cluster')\n",
    "    plt.ylabel('Count')\n",
    "    plt.show()"
   ]
  },
  {
   "cell_type": "code",
   "execution_count": 227,
   "metadata": {},
   "outputs": [
    {
     "name": "stdout",
     "output_type": "stream",
     "text": [
      "Comparing Mean Shift Clusters for MLB Games:\n",
      "col_0                        0   1    2\n",
      "attendance_category_code               \n",
      "0                         1777   0   15\n",
      "1                         1351  87  487\n",
      "2                          115  28  119\n",
      "3                          622   0    0\n"
     ]
    },
    {
     "data": {
      "image/png": "[encoded data removed]",
      "text/plain": [
       "<matplotlib.figure.Figure at 0x1a1b412320>"
      ]
     },
     "metadata": {},
     "output_type": "display_data"
    }
   ],
   "source": [
    "#Run Attendance Model\n",
    "mean_shift(X1, Y1)"
   ]
  },
  {
   "cell_type": "code",
   "execution_count": 228,
   "metadata": {},
   "outputs": [
    {
     "name": "stdout",
     "output_type": "stream",
     "text": [
      "Comparing Mean Shift Clusters for MLB Games:\n",
      "col_0                        0   1    2\n",
      "attendance_category_code               \n",
      "0                         1777   0   15\n",
      "1                         1351  87  487\n",
      "2                          115  28  119\n",
      "3                          622   0    0\n"
     ]
    },
    {
     "data": {
      "image/png": "[encoded data removed]",
      "text/plain": [
       "<matplotlib.figure.Figure at 0x1a28abe828>"
      ]
     },
     "metadata": {},
     "output_type": "display_data"
    }
   ],
   "source": [
    "#Run Attendance Model\n",
    "mean_shift(X2, Y2)"
   ]
  },
  {
   "cell_type": "markdown",
   "metadata": {},
   "source": [
    "## Time Series"
   ]
  },
  {
   "cell_type": "code",
   "execution_count": null,
   "metadata": {},
   "outputs": [],
   "source": []
  },
  {
   "cell_type": "code",
   "execution_count": null,
   "metadata": {},
   "outputs": [],
   "source": []
  },
  {
   "cell_type": "markdown",
   "metadata": {},
   "source": [
    "## Final Analysis and Results"
   ]
  }
 ],
 "metadata": {
  "kernelspec": {
   "display_name": "Python 3",
   "language": "python",
   "name": "python3"
  },
  "language_info": {
   "codemirror_mode": {
    "name": "ipython",
    "version": 3
   },
   "file_extension": ".py",
   "mimetype": "text/x-python",
   "name": "python",
   "nbconvert_exporter": "python",
   "pygments_lexer": "ipython3",
   "version": "3.6.4"
  }
 },
 "nbformat": 4,
 "nbformat_minor": 2
}
