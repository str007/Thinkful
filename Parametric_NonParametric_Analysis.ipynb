{
 "cells": [
  {
   "cell_type": "markdown",
   "metadata": {},
   "source": [
    "# Testing Parametric and Non-Parametric Distribution Tests"
   ]
  },
  {
   "cell_type": "code",
   "execution_count": 5,
   "metadata": {},
   "outputs": [],
   "source": [
    "import pandas as pd\n",
    "import numpy as np\n",
    "import statistics as stat\n",
    "import matplotlib.pyplot as plt\n",
    "import seaborn as sns\n",
    "import scipy.stats as stats\n",
    "%matplotlib inline"
   ]
  },
  {
   "cell_type": "markdown",
   "metadata": {},
   "source": [
    "### Read Data in and Describe"
   ]
  },
  {
   "cell_type": "code",
   "execution_count": 6,
   "metadata": {},
   "outputs": [],
   "source": [
    "ess = pd.read_csv('https://raw.githubusercontent.com/Thinkful-Ed/data-201-resources/master/ESS_practice_data/ESSdata_Thinkful.csv')"
   ]
  },
  {
   "cell_type": "code",
   "execution_count": 7,
   "metadata": {},
   "outputs": [
    {
     "data": {
      "text/html": [
       "<div>\n",
       "<style scoped>\n",
       "    .dataframe tbody tr th:only-of-type {\n",
       "        vertical-align: middle;\n",
       "    }\n",
       "\n",
       "    .dataframe tbody tr th {\n",
       "        vertical-align: top;\n",
       "    }\n",
       "\n",
       "    .dataframe thead th {\n",
       "        text-align: right;\n",
       "    }\n",
       "</style>\n",
       "<table border=\"1\" class=\"dataframe\">\n",
       "  <thead>\n",
       "    <tr style=\"text-align: right;\">\n",
       "      <th></th>\n",
       "      <th>idno</th>\n",
       "      <th>year</th>\n",
       "      <th>tvtot</th>\n",
       "      <th>ppltrst</th>\n",
       "      <th>pplfair</th>\n",
       "      <th>pplhlp</th>\n",
       "      <th>happy</th>\n",
       "      <th>sclmeet</th>\n",
       "      <th>sclact</th>\n",
       "      <th>gndr</th>\n",
       "      <th>agea</th>\n",
       "      <th>partner</th>\n",
       "    </tr>\n",
       "  </thead>\n",
       "  <tbody>\n",
       "    <tr>\n",
       "      <th>count</th>\n",
       "      <td>8.594000e+03</td>\n",
       "      <td>8594.000000</td>\n",
       "      <td>8586.000000</td>\n",
       "      <td>8580.000000</td>\n",
       "      <td>8555.000000</td>\n",
       "      <td>8569.000000</td>\n",
       "      <td>8563.000000</td>\n",
       "      <td>8579.000000</td>\n",
       "      <td>8500.000000</td>\n",
       "      <td>8584.000000</td>\n",
       "      <td>8355.000000</td>\n",
       "      <td>8577.000000</td>\n",
       "    </tr>\n",
       "    <tr>\n",
       "      <th>mean</th>\n",
       "      <td>3.954938e+04</td>\n",
       "      <td>6.500000</td>\n",
       "      <td>3.861985</td>\n",
       "      <td>5.559907</td>\n",
       "      <td>6.005143</td>\n",
       "      <td>5.319874</td>\n",
       "      <td>7.694616</td>\n",
       "      <td>5.192563</td>\n",
       "      <td>2.748941</td>\n",
       "      <td>1.497204</td>\n",
       "      <td>47.470736</td>\n",
       "      <td>1.384867</td>\n",
       "    </tr>\n",
       "    <tr>\n",
       "      <th>std</th>\n",
       "      <td>6.267259e+05</td>\n",
       "      <td>0.500029</td>\n",
       "      <td>2.019689</td>\n",
       "      <td>2.233700</td>\n",
       "      <td>2.129866</td>\n",
       "      <td>2.173449</td>\n",
       "      <td>1.735904</td>\n",
       "      <td>1.457643</td>\n",
       "      <td>0.905477</td>\n",
       "      <td>0.500021</td>\n",
       "      <td>18.397369</td>\n",
       "      <td>0.486592</td>\n",
       "    </tr>\n",
       "    <tr>\n",
       "      <th>min</th>\n",
       "      <td>1.000000e+00</td>\n",
       "      <td>6.000000</td>\n",
       "      <td>0.000000</td>\n",
       "      <td>0.000000</td>\n",
       "      <td>0.000000</td>\n",
       "      <td>0.000000</td>\n",
       "      <td>0.000000</td>\n",
       "      <td>1.000000</td>\n",
       "      <td>1.000000</td>\n",
       "      <td>1.000000</td>\n",
       "      <td>15.000000</td>\n",
       "      <td>1.000000</td>\n",
       "    </tr>\n",
       "    <tr>\n",
       "      <th>25%</th>\n",
       "      <td>1.052000e+03</td>\n",
       "      <td>6.000000</td>\n",
       "      <td>2.000000</td>\n",
       "      <td>4.000000</td>\n",
       "      <td>5.000000</td>\n",
       "      <td>4.000000</td>\n",
       "      <td>7.000000</td>\n",
       "      <td>4.000000</td>\n",
       "      <td>2.000000</td>\n",
       "      <td>1.000000</td>\n",
       "      <td>33.000000</td>\n",
       "      <td>1.000000</td>\n",
       "    </tr>\n",
       "    <tr>\n",
       "      <th>50%</th>\n",
       "      <td>1.714000e+03</td>\n",
       "      <td>6.500000</td>\n",
       "      <td>4.000000</td>\n",
       "      <td>6.000000</td>\n",
       "      <td>6.000000</td>\n",
       "      <td>5.000000</td>\n",
       "      <td>8.000000</td>\n",
       "      <td>6.000000</td>\n",
       "      <td>3.000000</td>\n",
       "      <td>1.000000</td>\n",
       "      <td>47.000000</td>\n",
       "      <td>1.000000</td>\n",
       "    </tr>\n",
       "    <tr>\n",
       "      <th>75%</th>\n",
       "      <td>2.745000e+03</td>\n",
       "      <td>7.000000</td>\n",
       "      <td>5.000000</td>\n",
       "      <td>7.000000</td>\n",
       "      <td>8.000000</td>\n",
       "      <td>7.000000</td>\n",
       "      <td>9.000000</td>\n",
       "      <td>6.000000</td>\n",
       "      <td>3.000000</td>\n",
       "      <td>2.000000</td>\n",
       "      <td>62.000000</td>\n",
       "      <td>2.000000</td>\n",
       "    </tr>\n",
       "    <tr>\n",
       "      <th>max</th>\n",
       "      <td>1.100143e+07</td>\n",
       "      <td>7.000000</td>\n",
       "      <td>7.000000</td>\n",
       "      <td>10.000000</td>\n",
       "      <td>10.000000</td>\n",
       "      <td>10.000000</td>\n",
       "      <td>10.000000</td>\n",
       "      <td>7.000000</td>\n",
       "      <td>5.000000</td>\n",
       "      <td>2.000000</td>\n",
       "      <td>114.000000</td>\n",
       "      <td>2.000000</td>\n",
       "    </tr>\n",
       "  </tbody>\n",
       "</table>\n",
       "</div>"
      ],
      "text/plain": [
       "               idno         year        tvtot      ppltrst      pplfair  \\\n",
       "count  8.594000e+03  8594.000000  8586.000000  8580.000000  8555.000000   \n",
       "mean   3.954938e+04     6.500000     3.861985     5.559907     6.005143   \n",
       "std    6.267259e+05     0.500029     2.019689     2.233700     2.129866   \n",
       "min    1.000000e+00     6.000000     0.000000     0.000000     0.000000   \n",
       "25%    1.052000e+03     6.000000     2.000000     4.000000     5.000000   \n",
       "50%    1.714000e+03     6.500000     4.000000     6.000000     6.000000   \n",
       "75%    2.745000e+03     7.000000     5.000000     7.000000     8.000000   \n",
       "max    1.100143e+07     7.000000     7.000000    10.000000    10.000000   \n",
       "\n",
       "            pplhlp        happy      sclmeet       sclact         gndr  \\\n",
       "count  8569.000000  8563.000000  8579.000000  8500.000000  8584.000000   \n",
       "mean      5.319874     7.694616     5.192563     2.748941     1.497204   \n",
       "std       2.173449     1.735904     1.457643     0.905477     0.500021   \n",
       "min       0.000000     0.000000     1.000000     1.000000     1.000000   \n",
       "25%       4.000000     7.000000     4.000000     2.000000     1.000000   \n",
       "50%       5.000000     8.000000     6.000000     3.000000     1.000000   \n",
       "75%       7.000000     9.000000     6.000000     3.000000     2.000000   \n",
       "max      10.000000    10.000000     7.000000     5.000000     2.000000   \n",
       "\n",
       "              agea      partner  \n",
       "count  8355.000000  8577.000000  \n",
       "mean     47.470736     1.384867  \n",
       "std      18.397369     0.486592  \n",
       "min      15.000000     1.000000  \n",
       "25%      33.000000     1.000000  \n",
       "50%      47.000000     1.000000  \n",
       "75%      62.000000     2.000000  \n",
       "max     114.000000     2.000000  "
      ]
     },
     "execution_count": 7,
     "metadata": {},
     "output_type": "execute_result"
    }
   ],
   "source": [
    "ess.describe()"
   ]
  },
  {
   "cell_type": "code",
   "execution_count": 8,
   "metadata": {},
   "outputs": [
    {
     "data": {
      "text/plain": [
       "(8594, 13)"
      ]
     },
     "execution_count": 8,
     "metadata": {},
     "output_type": "execute_result"
    }
   ],
   "source": [
    "ess.shape"
   ]
  },
  {
   "cell_type": "code",
   "execution_count": 9,
   "metadata": {},
   "outputs": [
    {
     "data": {
      "text/plain": [
       "cntry       object\n",
       "idno       float64\n",
       "year         int64\n",
       "tvtot      float64\n",
       "ppltrst    float64\n",
       "pplfair    float64\n",
       "pplhlp     float64\n",
       "happy      float64\n",
       "sclmeet    float64\n",
       "sclact     float64\n",
       "gndr       float64\n",
       "agea       float64\n",
       "partner    float64\n",
       "dtype: object"
      ]
     },
     "execution_count": 9,
     "metadata": {},
     "output_type": "execute_result"
    }
   ],
   "source": [
    "ess.dtypes"
   ]
  },
  {
   "cell_type": "code",
   "execution_count": 10,
   "metadata": {},
   "outputs": [
    {
     "data": {
      "text/html": [
       "<div>\n",
       "<style scoped>\n",
       "    .dataframe tbody tr th:only-of-type {\n",
       "        vertical-align: middle;\n",
       "    }\n",
       "\n",
       "    .dataframe tbody tr th {\n",
       "        vertical-align: top;\n",
       "    }\n",
       "\n",
       "    .dataframe thead th {\n",
       "        text-align: right;\n",
       "    }\n",
       "</style>\n",
       "<table border=\"1\" class=\"dataframe\">\n",
       "  <thead>\n",
       "    <tr style=\"text-align: right;\">\n",
       "      <th></th>\n",
       "      <th>cntry</th>\n",
       "      <th>idno</th>\n",
       "      <th>year</th>\n",
       "      <th>tvtot</th>\n",
       "      <th>ppltrst</th>\n",
       "      <th>pplfair</th>\n",
       "      <th>pplhlp</th>\n",
       "      <th>happy</th>\n",
       "      <th>sclmeet</th>\n",
       "      <th>sclact</th>\n",
       "      <th>gndr</th>\n",
       "      <th>agea</th>\n",
       "      <th>partner</th>\n",
       "    </tr>\n",
       "  </thead>\n",
       "  <tbody>\n",
       "    <tr>\n",
       "      <th>0</th>\n",
       "      <td>CH</td>\n",
       "      <td>5.0</td>\n",
       "      <td>6</td>\n",
       "      <td>3.0</td>\n",
       "      <td>3.0</td>\n",
       "      <td>10.0</td>\n",
       "      <td>5.0</td>\n",
       "      <td>8.0</td>\n",
       "      <td>5.0</td>\n",
       "      <td>4.0</td>\n",
       "      <td>2.0</td>\n",
       "      <td>60.0</td>\n",
       "      <td>1.0</td>\n",
       "    </tr>\n",
       "    <tr>\n",
       "      <th>1</th>\n",
       "      <td>CH</td>\n",
       "      <td>25.0</td>\n",
       "      <td>6</td>\n",
       "      <td>6.0</td>\n",
       "      <td>5.0</td>\n",
       "      <td>7.0</td>\n",
       "      <td>5.0</td>\n",
       "      <td>9.0</td>\n",
       "      <td>3.0</td>\n",
       "      <td>2.0</td>\n",
       "      <td>2.0</td>\n",
       "      <td>59.0</td>\n",
       "      <td>1.0</td>\n",
       "    </tr>\n",
       "    <tr>\n",
       "      <th>2</th>\n",
       "      <td>CH</td>\n",
       "      <td>26.0</td>\n",
       "      <td>6</td>\n",
       "      <td>1.0</td>\n",
       "      <td>8.0</td>\n",
       "      <td>8.0</td>\n",
       "      <td>8.0</td>\n",
       "      <td>7.0</td>\n",
       "      <td>6.0</td>\n",
       "      <td>3.0</td>\n",
       "      <td>1.0</td>\n",
       "      <td>24.0</td>\n",
       "      <td>2.0</td>\n",
       "    </tr>\n",
       "    <tr>\n",
       "      <th>3</th>\n",
       "      <td>CH</td>\n",
       "      <td>28.0</td>\n",
       "      <td>6</td>\n",
       "      <td>4.0</td>\n",
       "      <td>6.0</td>\n",
       "      <td>6.0</td>\n",
       "      <td>7.0</td>\n",
       "      <td>10.0</td>\n",
       "      <td>6.0</td>\n",
       "      <td>2.0</td>\n",
       "      <td>2.0</td>\n",
       "      <td>64.0</td>\n",
       "      <td>1.0</td>\n",
       "    </tr>\n",
       "    <tr>\n",
       "      <th>4</th>\n",
       "      <td>CH</td>\n",
       "      <td>29.0</td>\n",
       "      <td>6</td>\n",
       "      <td>5.0</td>\n",
       "      <td>6.0</td>\n",
       "      <td>7.0</td>\n",
       "      <td>5.0</td>\n",
       "      <td>8.0</td>\n",
       "      <td>7.0</td>\n",
       "      <td>2.0</td>\n",
       "      <td>2.0</td>\n",
       "      <td>55.0</td>\n",
       "      <td>1.0</td>\n",
       "    </tr>\n",
       "  </tbody>\n",
       "</table>\n",
       "</div>"
      ],
      "text/plain": [
       "  cntry  idno  year  tvtot  ppltrst  pplfair  pplhlp  happy  sclmeet  sclact  \\\n",
       "0    CH   5.0     6    3.0      3.0     10.0     5.0    8.0      5.0     4.0   \n",
       "1    CH  25.0     6    6.0      5.0      7.0     5.0    9.0      3.0     2.0   \n",
       "2    CH  26.0     6    1.0      8.0      8.0     8.0    7.0      6.0     3.0   \n",
       "3    CH  28.0     6    4.0      6.0      6.0     7.0   10.0      6.0     2.0   \n",
       "4    CH  29.0     6    5.0      6.0      7.0     5.0    8.0      7.0     2.0   \n",
       "\n",
       "   gndr  agea  partner  \n",
       "0   2.0  60.0      1.0  \n",
       "1   2.0  59.0      1.0  \n",
       "2   1.0  24.0      2.0  \n",
       "3   2.0  64.0      1.0  \n",
       "4   2.0  55.0      1.0  "
      ]
     },
     "execution_count": 10,
     "metadata": {},
     "output_type": "execute_result"
    }
   ],
   "source": [
    "ess.head(5)"
   ]
  },
  {
   "cell_type": "code",
   "execution_count": 11,
   "metadata": {},
   "outputs": [
    {
     "data": {
      "text/plain": [
       "array([6, 7])"
      ]
     },
     "execution_count": 11,
     "metadata": {},
     "output_type": "execute_result"
    }
   ],
   "source": [
    "ess.year.unique()"
   ]
  },
  {
   "cell_type": "markdown",
   "metadata": {},
   "source": [
    "6 refers to 2012, while 7 refers to 2014"
   ]
  },
  {
   "cell_type": "code",
   "execution_count": 12,
   "metadata": {},
   "outputs": [
    {
     "data": {
      "text/plain": [
       "array(['CH', 'CZ', 'DE', 'ES', 'NO', 'SE'], dtype=object)"
      ]
     },
     "execution_count": 12,
     "metadata": {},
     "output_type": "execute_result"
    }
   ],
   "source": [
    "ess.cntry.unique()"
   ]
  },
  {
   "cell_type": "markdown",
   "metadata": {},
   "source": [
    "### Clean the Data"
   ]
  },
  {
   "cell_type": "code",
   "execution_count": 13,
   "metadata": {},
   "outputs": [
    {
     "name": "stdout",
     "output_type": "stream",
     "text": [
      "cntry        0\n",
      "idno         0\n",
      "year         0\n",
      "tvtot        8\n",
      "ppltrst     14\n",
      "pplfair     39\n",
      "pplhlp      25\n",
      "happy       31\n",
      "sclmeet     15\n",
      "sclact      94\n",
      "gndr        10\n",
      "agea       239\n",
      "partner     17\n",
      "dtype: int64\n"
     ]
    }
   ],
   "source": [
    "#Determine missing values across dataframe\n",
    "\n",
    "missing_values_count = ess.isnull().sum()\n",
    "print(missing_values_count)"
   ]
  },
  {
   "cell_type": "code",
   "execution_count": 14,
   "metadata": {},
   "outputs": [],
   "source": [
    "#For the purpose of this exercise, drop all NaNs\n",
    "ess = ess.dropna()"
   ]
  },
  {
   "cell_type": "markdown",
   "metadata": {},
   "source": [
    "Tune some of our variables to be categorical"
   ]
  },
  {
   "cell_type": "code",
   "execution_count": 15,
   "metadata": {},
   "outputs": [],
   "source": [
    "#Change years to a more categorical form\n",
    "ess['year'] = np.where((ess['year'] == 6), 'Year-2012', 'Year-2014')"
   ]
  },
  {
   "cell_type": "code",
   "execution_count": 16,
   "metadata": {},
   "outputs": [],
   "source": [
    "#Change year to categorical data type\n",
    "ess['year'] = ess['year'].astype('category')"
   ]
  },
  {
   "cell_type": "code",
   "execution_count": 17,
   "metadata": {},
   "outputs": [],
   "source": [
    "#Change gender to a more categorical form\n",
    "ess['gndr'] = np.where((ess['gndr'] == 1.0), 'Male', 'Female')"
   ]
  },
  {
   "cell_type": "code",
   "execution_count": 18,
   "metadata": {},
   "outputs": [],
   "source": [
    "#Change gender to categorical data type\n",
    "ess['gndr'] = ess['gndr'].astype('category')"
   ]
  },
  {
   "cell_type": "code",
   "execution_count": 19,
   "metadata": {},
   "outputs": [],
   "source": [
    "#Change years to a more categorical form\n",
    "ess['partner'] = np.where((ess['partner'] == 1.0), 'Live Together', 'Do not Live Together')"
   ]
  },
  {
   "cell_type": "code",
   "execution_count": 20,
   "metadata": {},
   "outputs": [],
   "source": [
    "ess['partner'] = ess['partner'].astype('category')"
   ]
  },
  {
   "cell_type": "markdown",
   "metadata": {},
   "source": [
    "Drop superfluous column (idno)"
   ]
  },
  {
   "cell_type": "code",
   "execution_count": 21,
   "metadata": {},
   "outputs": [],
   "source": [
    "#Drop IdNo\n",
    "ess = ess.drop(['idno'], 1)"
   ]
  },
  {
   "cell_type": "markdown",
   "metadata": {},
   "source": [
    "### Explore the Data"
   ]
  },
  {
   "cell_type": "code",
   "execution_count": 22,
   "metadata": {},
   "outputs": [
    {
     "data": {
      "image/png": "[encoded data removed]",
      "text/plain": [
       "<matplotlib.figure.Figure at 0x103cccba8>"
      ]
     },
     "metadata": {},
     "output_type": "display_data"
    },
    {
     "data": {
      "image/png": "[encoded data removed]",
      "text/plain": [
       "<matplotlib.figure.Figure at 0x1a09175a90>"
      ]
     },
     "metadata": {},
     "output_type": "display_data"
    },
    {
     "data": {
      "image/png": "[encoded data removed]",
      "text/plain": [
       "<matplotlib.figure.Figure at 0x1a09f60b00>"
      ]
     },
     "metadata": {},
     "output_type": "display_data"
    },
    {
     "data": {
      "image/png": "[encoded data removed]",
      "text/plain": [
       "<matplotlib.figure.Figure at 0x1a09ff2be0>"
      ]
     },
     "metadata": {},
     "output_type": "display_data"
    },
    {
     "data": {
      "image/png": "[encoded data removed]",
      "text/plain": [
       "<matplotlib.figure.Figure at 0x1a1304ce10>"
      ]
     },
     "metadata": {},
     "output_type": "display_data"
    },
    {
     "data": {
      "image/png": "[encoded data removed]",
      "text/plain": [
       "<matplotlib.figure.Figure at 0x1a13140b70>"
      ]
     },
     "metadata": {},
     "output_type": "display_data"
    },
    {
     "data": {
      "image/png": "[encoded data removed]",
      "text/plain": [
       "<matplotlib.figure.Figure at 0x1a13235be0>"
      ]
     },
     "metadata": {},
     "output_type": "display_data"
    },
    {
     "data": {
      "image/png": "[encoded data removed]",
      "text/plain": [
       "<matplotlib.figure.Figure at 0x1a132fed30>"
      ]
     },
     "metadata": {},
     "output_type": "display_data"
    }
   ],
   "source": [
    "# Plot histograms for all continuous data\n",
    "for col in ess.dtypes[ess.dtypes == 'float64'].index:\n",
    "    ess[col].hist()\n",
    "    plt.title(col + \" Distribution\")\n",
    "    plt.xlabel(col + \" Values\")\n",
    "    plt.ylabel(\"Count\")\n",
    "    plt.show()"
   ]
  },
  {
   "cell_type": "markdown",
   "metadata": {},
   "source": [
    "### Analytical Question 1: Did people become less trusting from 2012 to 2014? Compute results for each country in the sample."
   ]
  },
  {
   "cell_type": "code",
   "execution_count": 23,
   "metadata": {},
   "outputs": [],
   "source": [
    "#Create dataframes for each country\n",
    "CH = ess.loc[ess['cntry'] == 'CH']\n",
    "CZ = ess.loc[ess['cntry'] == 'CZ']\n",
    "DE = ess.loc[ess['cntry'] == 'DE']\n",
    "ES = ess.loc[ess['cntry'] == 'ES']\n",
    "NO = ess.loc[ess['cntry'] == 'NO']\n",
    "SE = ess.loc[ess['cntry'] == 'SE']"
   ]
  },
  {
   "cell_type": "code",
   "execution_count": 33,
   "metadata": {},
   "outputs": [
    {
     "name": "stdout",
     "output_type": "stream",
     "text": [
      "5.73\n",
      "4.38\n",
      "5.22\n",
      "5.03\n",
      "6.62\n",
      "6.14\n"
     ]
    }
   ],
   "source": [
    "#Printing the means for each group.\n",
    "cntry_dfs = [CH, CZ, DE, ES, NO, SE]\n",
    "for df in cntry_dfs:\n",
    "    print(round(df.ppltrst.mean(), 2))"
   ]
  },
  {
   "cell_type": "code",
   "execution_count": 48,
   "metadata": {},
   "outputs": [
    {
     "data": {
      "image/png": "[encoded data removed]",
      "text/plain": [
       "<matplotlib.figure.Figure at 0x1a1332ab00>"
      ]
     },
     "metadata": {},
     "output_type": "display_data"
    },
    {
     "data": {
      "image/png": "[encoded data removed]",
      "text/plain": [
       "<matplotlib.figure.Figure at 0x1a13c34908>"
      ]
     },
     "metadata": {},
     "output_type": "display_data"
    },
    {
     "data": {
      "image/png": "[encoded data removed]",
      "text/plain": [
       "<matplotlib.figure.Figure at 0x1a13f46f60>"
      ]
     },
     "metadata": {},
     "output_type": "display_data"
    },
    {
     "data": {
      "image/png": "[encoded data removed]",
      "text/plain": [
       "<matplotlib.figure.Figure at 0x1a147b1f28>"
      ]
     },
     "metadata": {},
     "output_type": "display_data"
    },
    {
     "data": {
      "image/png": "[encoded data removed]",
      "text/plain": [
       "<matplotlib.figure.Figure at 0x1a14a35ba8>"
      ]
     },
     "metadata": {},
     "output_type": "display_data"
    },
    {
     "data": {
      "image/png": "[encoded data removed]",
      "text/plain": [
       "<matplotlib.figure.Figure at 0x1a1445a908>"
      ]
     },
     "metadata": {},
     "output_type": "display_data"
    }
   ],
   "source": [
    "#Plot histogram of ppltrst for each country\n",
    "for df in cntry_dfs:\n",
    "    df.ppltrst.hist()\n",
    "    plt.show()"
   ]
  },
  {
   "cell_type": "code",
   "execution_count": 35,
   "metadata": {},
   "outputs": [
    {
     "name": "stdout",
     "output_type": "stream",
     "text": [
      "208.90176779877532\n",
      "3.007054579992942e-210\n"
     ]
    }
   ],
   "source": [
    "F, p = stats.f_oneway(\n",
    "    CH['ppltrst'],\n",
    "    CZ['ppltrst'],\n",
    "    DE['ppltrst'],\n",
    "    ES['ppltrst'],\n",
    "    NO['ppltrst'],\n",
    "    SE['ppltrst'])\n",
    "\n",
    "#F statistic.\n",
    "print(F)\n",
    "\n",
    "#A p < .05 would lead us to believe the group means were not all similar in the population.\n",
    "print(p)"
   ]
  },
  {
   "cell_type": "code",
   "execution_count": 44,
   "metadata": {},
   "outputs": [
    {
     "name": "stdout",
     "output_type": "stream",
     "text": [
      "Ttest_indResult(statistic=15.591363135057318, pvalue=1.577882893133148e-52)\n",
      "Ttest_indResult(statistic=1.2281665245214957, pvalue=0.21957713515614072)\n",
      "Ttest_indResult(statistic=9.713677236895192, pvalue=4.774257100119087e-22)\n",
      "Ttest_indResult(statistic=-12.337782837087929, pvalue=4.026338929630907e-34)\n",
      "Ttest_indResult(statistic=-5.697466908716274, pvalue=1.3262456423465526e-08)\n",
      "Ttest_indResult(statistic=-1.8430857763525381, pvalue=0.06555658224957261)\n",
      "Ttest_indResult(statistic=-8.309880420426058, pvalue=1.354273943195643e-16)\n",
      "Ttest_indResult(statistic=-27.721113028176227, pvalue=1.4219730269573634e-148)\n",
      "Ttest_indResult(statistic=-21.70732061674138, pvalue=5.16340155261975e-97)\n",
      "Ttest_indResult(statistic=0.45198303829097924, pvalue=0.6513235093523141)\n",
      "Ttest_indResult(statistic=-4.023969828877652, pvalue=6.018831950947124e-05)\n",
      "Ttest_indResult(statistic=-2.347876040495308, pvalue=0.018991568086238746)\n",
      "Ttest_indResult(statistic=-23.3658637414511, pvalue=9.11675844002967e-113)\n",
      "Ttest_indResult(statistic=-16.620781788236794, pvalue=4.7899440443213535e-60)\n",
      "Ttest_indResult(statistic=7.013789622842893, pvalue=2.8277515934417975e-12)\n"
     ]
    }
   ],
   "source": [
    "print(stats.ttest_ind(CH['ppltrst'], CZ['ppltrst']))\n",
    "print(stats.ttest_ind(CH['ppltrst'], DE['ppltrst']))\n",
    "print(stats.ttest_ind(CH['ppltrst'], ES['ppltrst']))\n",
    "print(stats.ttest_ind(CH['ppltrst'], NO['ppltrst']))\n",
    "print(stats.ttest_ind(CH['ppltrst'], SE['ppltrst']))\n",
    "\n",
    "print(stats.ttest_ind(CZ['ppltrst'], DE['ppltrst']))\n",
    "print(stats.ttest_ind(CZ['ppltrst'], ES['ppltrst']))\n",
    "print(stats.ttest_ind(CZ['ppltrst'], NO['ppltrst']))\n",
    "print(stats.ttest_ind(CZ['ppltrst'], SE['ppltrst']))\n",
    "\n",
    "print(stats.ttest_ind(DE['ppltrst'], ES['ppltrst']))\n",
    "print(stats.ttest_ind(DE['ppltrst'], NO['ppltrst']))\n",
    "print(stats.ttest_ind(DE['ppltrst'], SE['ppltrst']))\n",
    "\n",
    "print(stats.ttest_ind(ES['ppltrst'], NO['ppltrst']))\n",
    "print(stats.ttest_ind(ES['ppltrst'], SE['ppltrst']))\n",
    "\n",
    "print(stats.ttest_ind(NO['ppltrst'], SE['ppltrst']))"
   ]
  },
  {
   "cell_type": "markdown",
   "metadata": {},
   "source": [
    "**Chosen Approach:** Parametric - Used one-way ANOVA because for the most part the data was somewhat normal"
   ]
  },
  {
   "cell_type": "markdown",
   "metadata": {},
   "source": [
    "### Analytical Question 2: Did people become happier from 2012 to 2014? Compute results for each country in the sample."
   ]
  },
  {
   "cell_type": "code",
   "execution_count": 34,
   "metadata": {},
   "outputs": [
    {
     "name": "stdout",
     "output_type": "stream",
     "text": [
      "8.11\n",
      "6.86\n",
      "7.59\n",
      "7.5\n",
      "8.09\n",
      "7.92\n"
     ]
    }
   ],
   "source": [
    "# Printing the means for each group.\n",
    "cntry_dfs = [CH, CZ, DE, ES, NO, SE]\n",
    "for df in cntry_dfs:\n",
    "    print(round(df.happy.mean(), 2))"
   ]
  },
  {
   "cell_type": "code",
   "execution_count": 49,
   "metadata": {},
   "outputs": [
    {
     "data": {
      "image/png": "[encoded data removed]",
      "text/plain": [
       "<matplotlib.figure.Figure at 0x1a13fb4e80>"
      ]
     },
     "metadata": {},
     "output_type": "display_data"
    },
    {
     "data": {
      "image/png": "[encoded data removed]",
      "text/plain": [
       "<matplotlib.figure.Figure at 0x1a145a1dd8>"
      ]
     },
     "metadata": {},
     "output_type": "display_data"
    },
    {
     "data": {
      "image/png": "[encoded data removed]",
      "text/plain": [
       "<matplotlib.figure.Figure at 0x1a145a9208>"
      ]
     },
     "metadata": {},
     "output_type": "display_data"
    },
    {
     "data": {
      "image/png": "[encoded data removed]",
      "text/plain": [
       "<matplotlib.figure.Figure at 0x1a145d0e80>"
      ]
     },
     "metadata": {},
     "output_type": "display_data"
    },
    {
     "data": {
      "image/png": "[encoded data removed]",
      "text/plain": [
       "<matplotlib.figure.Figure at 0x103ccc898>"
      ]
     },
     "metadata": {},
     "output_type": "display_data"
    },
    {
     "data": {
      "image/png": "[encoded data removed]",
      "text/plain": [
       "<matplotlib.figure.Figure at 0x1a13362828>"
      ]
     },
     "metadata": {},
     "output_type": "display_data"
    }
   ],
   "source": [
    "#Plot histogram of happy for each country\n",
    "for df in cntry_dfs:\n",
    "    df.happy.hist()\n",
    "    plt.show()"
   ]
  },
  {
   "cell_type": "code",
   "execution_count": 64,
   "metadata": {},
   "outputs": [
    {
     "name": "stdout",
     "output_type": "stream",
     "text": [
      "0        622.0\n",
      "1       1064.0\n",
      "2        263.5\n",
      "3       1365.5\n",
      "4        622.0\n",
      "6          1.0\n",
      "7       1365.5\n",
      "8       1064.0\n",
      "9        263.5\n",
      "10      1064.0\n",
      "11       263.5\n",
      "12      1064.0\n",
      "13       622.0\n",
      "14       622.0\n",
      "15      1064.0\n",
      "16       622.0\n",
      "17       118.0\n",
      "18      1064.0\n",
      "19       622.0\n",
      "20       263.5\n",
      "21       622.0\n",
      "22      1064.0\n",
      "23      1064.0\n",
      "24      1064.0\n",
      "25       263.5\n",
      "26       622.0\n",
      "27      1064.0\n",
      "28      1365.5\n",
      "29       622.0\n",
      "30        54.0\n",
      "         ...  \n",
      "1516    1365.5\n",
      "1517     622.0\n",
      "1518     118.0\n",
      "1519    1365.5\n",
      "1520     622.0\n",
      "1521    1064.0\n",
      "1522       4.0\n",
      "1523     622.0\n",
      "1524     622.0\n",
      "1525    1064.0\n",
      "1526     263.5\n",
      "1527     118.0\n",
      "1528    1064.0\n",
      "1529     263.5\n",
      "1530    1064.0\n",
      "1531      54.0\n",
      "1532    1064.0\n",
      "1533     622.0\n",
      "1534    1064.0\n",
      "1535     263.5\n",
      "1536    1064.0\n",
      "1537     622.0\n",
      "1538     622.0\n",
      "1539     622.0\n",
      "1540     622.0\n",
      "1541    1365.5\n",
      "1542    1064.0\n",
      "1543     263.5\n",
      "1544     622.0\n",
      "1545     622.0\n",
      "Name: happy_rank, Length: 1475, dtype: float64\n",
      "1546    1039.5\n",
      "1547     822.5\n",
      "1548    1039.5\n",
      "1549     573.0\n",
      "1550     104.5\n",
      "1552     384.0\n",
      "1553     822.5\n",
      "1554     573.0\n",
      "1555     573.0\n",
      "1556     384.0\n",
      "1557     573.0\n",
      "1558     224.0\n",
      "1559     573.0\n",
      "1560     384.0\n",
      "1561     573.0\n",
      "1562      54.0\n",
      "1563    1167.5\n",
      "1564     104.5\n",
      "1565     384.0\n",
      "1566     224.0\n",
      "1567     573.0\n",
      "1568     573.0\n",
      "1569     384.0\n",
      "1570     822.5\n",
      "1571     573.0\n",
      "1572     384.0\n",
      "1573    1039.5\n",
      "1574     224.0\n",
      "1575     573.0\n",
      "1576     573.0\n",
      "         ...  \n",
      "2832       4.0\n",
      "2833     822.5\n",
      "2834     224.0\n",
      "2835     573.0\n",
      "2836      21.0\n",
      "2837     104.5\n",
      "2838     384.0\n",
      "2839     104.5\n",
      "2840     104.5\n",
      "2841     384.0\n",
      "2842     384.0\n",
      "2843     822.5\n",
      "2844     384.0\n",
      "2845     224.0\n",
      "2846     384.0\n",
      "2847    1039.5\n",
      "2848     573.0\n",
      "2849    1167.5\n",
      "2850      21.0\n",
      "2851      54.0\n",
      "2852     384.0\n",
      "2853     573.0\n",
      "2854     384.0\n",
      "2855     384.0\n",
      "2856     384.0\n",
      "2857     573.0\n",
      "2858    1167.5\n",
      "2859     822.5\n",
      "2860    1039.5\n",
      "2861     224.0\n",
      "Name: happy_rank, Length: 1207, dtype: float64\n",
      "2862    15.5\n",
      "2863    15.5\n",
      "2864     5.0\n",
      "2865     8.0\n",
      "2867    15.5\n",
      "2868    15.5\n",
      "2869     5.0\n",
      "2870    23.5\n",
      "2871    15.5\n",
      "2872     2.5\n",
      "2873    15.5\n",
      "2874     1.0\n",
      "2875    26.5\n",
      "2876    15.5\n",
      "2877     8.0\n",
      "2878    23.5\n",
      "2879    15.5\n",
      "2880     8.0\n",
      "2881    15.5\n",
      "2882    15.5\n",
      "2883    15.5\n",
      "2884    15.5\n",
      "2885     2.5\n",
      "2886    23.5\n",
      "2887    26.5\n",
      "2888     5.0\n",
      "2889    23.5\n",
      "Name: happy_rank, dtype: float64\n",
      "2890    1790.0\n",
      "2891     757.5\n",
      "2892    2126.5\n",
      "2893    1305.5\n",
      "2894     757.5\n",
      "2895    1790.0\n",
      "2896     757.5\n",
      "2897      67.5\n",
      "2898    1305.5\n",
      "2899     425.0\n",
      "2900     425.0\n",
      "2901     757.5\n",
      "2902     757.5\n",
      "2903    1305.5\n",
      "2904    2126.5\n",
      "2905     229.5\n",
      "2906    1305.5\n",
      "2907    1790.0\n",
      "2908    2126.5\n",
      "2909    1305.5\n",
      "2910    2126.5\n",
      "2911    2126.5\n",
      "2912    1790.0\n",
      "2913     757.5\n",
      "2914     425.0\n",
      "2915    1305.5\n",
      "2916    1305.5\n",
      "2917     425.0\n",
      "2918     425.0\n",
      "2919     425.0\n",
      "         ...  \n",
      "5284    1790.0\n",
      "5285    2126.5\n",
      "5286    1305.5\n",
      "5287    2126.5\n",
      "5288     757.5\n",
      "5289    1790.0\n",
      "5290    1305.5\n",
      "5292    1305.5\n",
      "5293    1305.5\n",
      "5294    2126.5\n",
      "5295    1305.5\n",
      "5296    1305.5\n",
      "5297    1305.5\n",
      "5298    1305.5\n",
      "5299    1305.5\n",
      "5300     757.5\n",
      "5301     229.5\n",
      "5302    1305.5\n",
      "5303     757.5\n",
      "5304    1305.5\n",
      "5305     229.5\n",
      "5306    2126.5\n",
      "5307    2126.5\n",
      "5309    1305.5\n",
      "5310     757.5\n",
      "5311     425.0\n",
      "5312    2126.5\n",
      "5313     757.5\n",
      "5314     757.5\n",
      "5315    2126.5\n",
      "Name: happy_rank, Length: 2292, dtype: float64\n",
      "5316     595.0\n",
      "5317     595.0\n",
      "5318    1309.0\n",
      "5319    1012.5\n",
      "5320    1309.0\n",
      "5321     595.0\n",
      "5322    1012.5\n",
      "5323     258.5\n",
      "5324    1012.5\n",
      "5325    1012.5\n",
      "5326     258.5\n",
      "5327    1309.0\n",
      "5328     595.0\n",
      "5329     595.0\n",
      "5330       2.0\n",
      "5331    1012.5\n",
      "5333    1012.5\n",
      "5334     258.5\n",
      "5335    1012.5\n",
      "5336    1309.0\n",
      "5337     595.0\n",
      "5338    1309.0\n",
      "5339    1012.5\n",
      "5340    1012.5\n",
      "5341     595.0\n",
      "5342     595.0\n",
      "5343     595.0\n",
      "5344     258.5\n",
      "5345     595.0\n",
      "5346     258.5\n",
      "         ...  \n",
      "6748    1012.5\n",
      "6749    1309.0\n",
      "6750    1309.0\n",
      "6751    1012.5\n",
      "6752      70.0\n",
      "6753     258.5\n",
      "6754    1012.5\n",
      "6755    1012.5\n",
      "6756    1012.5\n",
      "6757      15.5\n",
      "6758     595.0\n",
      "6759    1309.0\n",
      "6760     124.0\n",
      "6761     595.0\n",
      "6762    1012.5\n",
      "6763     258.5\n",
      "6764    1309.0\n",
      "6765     258.5\n",
      "6766     595.0\n",
      "6767    1012.5\n",
      "6768      70.0\n",
      "6769       5.0\n",
      "6770     258.5\n",
      "6771     595.0\n",
      "6772     595.0\n",
      "6773    1309.0\n",
      "6774     258.5\n",
      "6775     258.5\n",
      "6776    1012.5\n",
      "6777     595.0\n",
      "Name: happy_rank, Length: 1420, dtype: float64\n",
      "6778      85.0\n",
      "6779    1616.5\n",
      "6780    1308.0\n",
      "6781    1308.0\n",
      "6782    1308.0\n",
      "6784    1616.5\n",
      "6785     829.5\n",
      "6786     829.5\n",
      "6788     179.0\n",
      "6789    1308.0\n",
      "6790     829.5\n",
      "6791      12.0\n",
      "6792    1616.5\n",
      "6793     179.0\n",
      "6794      31.5\n",
      "6795    1308.0\n",
      "6796    1616.5\n",
      "6797    1308.0\n",
      "6798     829.5\n",
      "6799    1308.0\n",
      "6800     391.0\n",
      "6801      85.0\n",
      "6802     829.5\n",
      "6803      85.0\n",
      "6804     829.5\n",
      "6805     829.5\n",
      "6806      85.0\n",
      "6807    1616.5\n",
      "6808    1308.0\n",
      "6809    1616.5\n",
      "         ...  \n",
      "8564    1616.5\n",
      "8565      85.0\n",
      "8566     829.5\n",
      "8567    1308.0\n",
      "8568    1308.0\n",
      "8569    1308.0\n",
      "8570     829.5\n",
      "8571     829.5\n",
      "8572     829.5\n",
      "8573    1308.0\n",
      "8574     391.0\n",
      "8575     829.5\n",
      "8576     391.0\n",
      "8577      85.0\n",
      "8578     391.0\n",
      "8579    1308.0\n",
      "8580    1616.5\n",
      "8581     829.5\n",
      "8582     829.5\n",
      "8583    1616.5\n",
      "8584    1308.0\n",
      "8585    1308.0\n",
      "8586     391.0\n",
      "8587    1308.0\n",
      "8588    1616.5\n",
      "8589     179.0\n",
      "8590    1616.5\n",
      "8591     829.5\n",
      "8592    1308.0\n",
      "8593     391.0\n",
      "Name: happy_rank, Length: 1726, dtype: float64\n"
     ]
    },
    {
     "data": {
      "text/plain": [
       "KruskalResult(statistic=450.71321732949133, pvalue=3.44687186022373e-95)"
      ]
     },
     "execution_count": 64,
     "metadata": {},
     "output_type": "execute_result"
    }
   ],
   "source": [
    "#Kruskal-Wallace Test\n",
    "\n",
    "#Join all ratings together into a list, then ranking them.\n",
    "CH_rank = stats.rankdata(CH['happy'].tolist())\n",
    "CZ_rank = stats.rankdata(CZ['happy'].tolist())\n",
    "DE_rank = stats.rankdata(DE['happy'].tolist())\n",
    "ES_rank = stats.rankdata(ES['happy'].tolist())\n",
    "NO_rank = stats.rankdata(NO['happy'].tolist())\n",
    "SE_rank = stats.rankdata(SE['happy'].tolist())\n",
    "\n",
    "#Disable warning\n",
    "pd.options.mode.chained_assignment = None\n",
    "\n",
    "#Add ranks to dfs\n",
    "CH['happy_rank'] = CH_rank\n",
    "CZ['happy_rank'] = CZ_rank\n",
    "DE['happy_rank'] = DE_rank\n",
    "ES['happy_rank'] = ES_rank\n",
    "NO['happy_rank'] = NO_rank\n",
    "SE['happy_rank'] = SE_rank\n",
    "\n",
    "# Average rank per group.\n",
    "print(CH['happy_rank'].apply(np.mean))\n",
    "print(CZ['happy_rank'].apply(np.mean))\n",
    "print(DE['happy_rank'].apply(np.mean))\n",
    "print(ES['happy_rank'].apply(np.mean))\n",
    "print(NO['happy_rank'].apply(np.mean))\n",
    "print(SE['happy_rank'].apply(np.mean))\n",
    "\n",
    "#Print the test statistic followed by the probability of getting this result if the groups were not different.\n",
    "stats.kruskal(     \n",
    "    CH['happy'],\n",
    "    CZ['happy'],\n",
    "    DE['happy'],\n",
    "    ES['happy'],\n",
    "    NO['happy'],\n",
    "    SE['happy'])"
   ]
  },
  {
   "cell_type": "markdown",
   "metadata": {},
   "source": [
    "**Chosen Approach:** Non-Parametric - Used Kruskal-Wallace test due to non-normality of data"
   ]
  },
  {
   "cell_type": "markdown",
   "metadata": {},
   "source": [
    "### Analytical Question 3: Who reported watching more TV in 2012, men or women?"
   ]
  },
  {
   "cell_type": "code",
   "execution_count": null,
   "metadata": {},
   "outputs": [],
   "source": []
  },
  {
   "cell_type": "code",
   "execution_count": null,
   "metadata": {},
   "outputs": [],
   "source": []
  },
  {
   "cell_type": "markdown",
   "metadata": {},
   "source": [
    "**Chosen Approach:** "
   ]
  },
  {
   "cell_type": "markdown",
   "metadata": {},
   "source": [
    "### Analytical Question 4: Who was more likely to believe people were fair in 2012, people living with a partner or people living alone?"
   ]
  },
  {
   "cell_type": "code",
   "execution_count": null,
   "metadata": {},
   "outputs": [],
   "source": []
  },
  {
   "cell_type": "code",
   "execution_count": null,
   "metadata": {},
   "outputs": [],
   "source": []
  },
  {
   "cell_type": "markdown",
   "metadata": {},
   "source": [
    "**Chosen Approach:** "
   ]
  },
  {
   "cell_type": "markdown",
   "metadata": {},
   "source": [
    "### Analytical Question 5: Pick three or four of the countries in the sample and compare how often people met socially in 2014. Are there differences, and if so, which countries stand out?"
   ]
  },
  {
   "cell_type": "code",
   "execution_count": null,
   "metadata": {},
   "outputs": [],
   "source": []
  },
  {
   "cell_type": "code",
   "execution_count": null,
   "metadata": {},
   "outputs": [],
   "source": []
  },
  {
   "cell_type": "markdown",
   "metadata": {},
   "source": [
    "**Chosen Approach:** "
   ]
  },
  {
   "cell_type": "markdown",
   "metadata": {},
   "source": [
    "### Analytical Question 5: Pick three or four of the countries in the sample and compare how often people took part in social activities, relative to others their age, in 2014. Are there differences, and if so, which countries stand out?"
   ]
  },
  {
   "cell_type": "code",
   "execution_count": null,
   "metadata": {},
   "outputs": [],
   "source": []
  },
  {
   "cell_type": "code",
   "execution_count": null,
   "metadata": {},
   "outputs": [],
   "source": []
  },
  {
   "cell_type": "markdown",
   "metadata": {},
   "source": [
    "**Chosen Approach:** "
   ]
  }
 ],
 "metadata": {
  "kernelspec": {
   "display_name": "Python 3",
   "language": "python",
   "name": "python3"
  },
  "language_info": {
   "codemirror_mode": {
    "name": "ipython",
    "version": 3
   },
   "file_extension": ".py",
   "mimetype": "text/x-python",
   "name": "python",
   "nbconvert_exporter": "python",
   "pygments_lexer": "ipython3",
   "version": "3.6.4"
  }
 },
 "nbformat": 4,
 "nbformat_minor": 2
}
