{
 "cells": [
  {
   "cell_type": "code",
   "execution_count": 1,
   "metadata": {},
   "outputs": [],
   "source": [
    "import requests\n",
    "from bs4 import BeautifulSoup\n",
    "import urllib.request\n",
    "import pandas as pd\n",
    "import numpy as np\n",
    "import matplotlib.pyplot as plt\n",
    "import seaborn as sns\n",
    "from datetime import datetime\n",
    "import datetime as dt\n",
    "%matplotlib inline"
   ]
  },
  {
   "cell_type": "code",
   "execution_count": 2,
   "metadata": {},
   "outputs": [],
   "source": [
    "#Create list of teams\n",
    "\n",
    "teams = ['ANA', 'ARI', 'ATL', 'BAL', 'BOS', 'CAL', 'CHC', 'CHW', 'CIN',\n",
    "       'CLE', 'COL', 'DET', 'FLA', 'HOU', 'KCR', 'LAA', 'LAD', 'MIA',\n",
    "       'MIL', 'MIN', 'MON', 'NYM', 'NYY', 'OAK', 'PHI', 'PIT', 'SDP',\n",
    "       'SEA', 'SFG', 'STL', 'TBD', 'TBR', 'TEX', 'TOR', 'WSN']"
   ]
  },
  {
   "cell_type": "code",
   "execution_count": null,
   "metadata": {},
   "outputs": [],
   "source": [
    "#Create empty dataframe to append onto after each run\n",
    "team_df = pd.DataFrame()\n",
    "\n",
    "#Set our list of columns to be added at the end\n",
    "columns_list = ['day', 'date', 'box_score', 'team', 'home_away', 'opponent', 'WL', 'runs', 'runs_against',\n",
    "            'innings', 'win', 'loss', 'division_rank', 'winning_pitcher', 'losing_pitcher',\n",
    "            'save_pitcher', 'time', 'day_night', 'attendance_1', 'attendance_2', 'streak', 'original']\n",
    "    \n",
    "#Make a pass for each team, for each year\n",
    "for team in teams:\n",
    "    for year in range(2016, 2018):\n",
    "        try:\n",
    "            html = requests.get('http://www.baseball-reference.com/teams/' + team + '/' + str(year) +\n",
    "                                '-schedule-scores.shtml')\n",
    "            bs = BeautifulSoup(html.text, 'html.parser')\n",
    "            trows = bs.find('table', {'class':'stats_table'}).find_all('tr')\n",
    "            results = []\n",
    "            for trow in trows:\n",
    "                cells = trow.find_all('td')\n",
    "                str_cells = str(cells)\n",
    "                cleantext = BeautifulSoup(str_cells, 'html.parser').get_text()\n",
    "                results.append(cleantext)\n",
    "            df = pd.DataFrame(results)\n",
    "            team_df = team_df.append(df)\n",
    "\n",
    "        except:\n",
    "            pass\n",
    "    \n",
    "#Clean our final dataframe\n",
    "team_df = team_df[0].str.split(',', expand=True)\n",
    "team_df[0] = team_df[0].str.strip('[')\n",
    "team_df.iloc[:,-1] = team_df.iloc[:,-1].str.strip(']')\n",
    "team_df.columns = columns_list\n",
    "    \n",
    "#Get a feel for our dataframe\n",
    "pd.options.display.max_columns = 30\n",
    "print(\"Shape of Dataframe is {}\".format(team_df.shape))\n",
    "display(team_df.head(10))"
   ]
  }
 ],
 "metadata": {
  "kernelspec": {
   "display_name": "Python 3",
   "language": "python",
   "name": "python3"
  },
  "language_info": {
   "codemirror_mode": {
    "name": "ipython",
    "version": 3
   },
   "file_extension": ".py",
   "mimetype": "text/x-python",
   "name": "python",
   "nbconvert_exporter": "python",
   "pygments_lexer": "ipython3",
   "version": "3.6.4"
  }
 },
 "nbformat": 4,
 "nbformat_minor": 2
}
